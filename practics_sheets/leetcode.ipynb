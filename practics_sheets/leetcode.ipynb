{
 "cells": [
  {
   "cell_type": "code",
   "execution_count": 1,
   "id": "8dd5ee7b",
   "metadata": {},
   "outputs": [
    {
     "ename": "SyntaxError",
     "evalue": "invalid syntax. Perhaps you forgot a comma? (3580008964.py, line 1)",
     "output_type": "error",
     "traceback": [
      "\u001b[1;36m  Cell \u001b[1;32mIn[1], line 1\u001b[1;36m\u001b[0m\n\u001b[1;33m    val= [{'attr': {'act': 'false','allo': 'max MI','cAggrLteN': ['-1']'dlPathlossChg': '3 db','dynTriggerLteNrDcConfList': [{'actB1NrBeamMeas': 'false','lcrId': '-1','method': 'coverageBased'}]}}]\u001b[0m\n\u001b[1;37m                                                                 ^\u001b[0m\n\u001b[1;31mSyntaxError\u001b[0m\u001b[1;31m:\u001b[0m invalid syntax. Perhaps you forgot a comma?\n"
     ]
    }
   ],
   "source": [
    "val= [{'attr': {'act': 'false','allo': 'max MI','cAggrLteN': ['-1']'dlPathlossChg': '3 db','dynTriggerLteNrDcConfList': [{'actB1NrBeamMeas': 'false','lcrId': '-1','method': 'coverageBased'}]}}]"
   ]
  },
  {
   "cell_type": "code",
   "execution_count": null,
   "id": "6d82368a",
   "metadata": {},
   "outputs": [],
   "source": []
  },
  {
   "cell_type": "code",
   "execution_count": null,
   "id": "352b6a16",
   "metadata": {},
   "outputs": [],
   "source": []
  },
  {
   "cell_type": "code",
   "execution_count": 2,
   "id": "dcf1edbe",
   "metadata": {},
   "outputs": [],
   "source": [
    "val= [{'attr': {'actSortBcListEnDc': 'false',\n",
    "           'allowedBcSelectMethod': 'max MIMO layers with max CCs',\n",
    "           'cAggrLteNrDcCellList': ['-1'],\n",
    "           'dlPathlossChg': '3 db',\n",
    "           'dynTriggerLteNrDcConfList': [{'actB1NrBeamMeas': 'false',\n",
    "                                          'lcrId': '-1',\n",
    "                                          'method': 'coverageBased'}],\n",
    "           'enDCpMaxEUTRApowerOffset': '0',\n",
    "           'enDCpMaxNRpowerOffset': '0',\n",
    "           'tPeriodicPhr': '20sf',\n",
    "           'tProhibitPhr': '0sf'},\n",
    "  'distName': 'MRBTS-4004880/LNBTS-240/NRDCDPR-0'}]"
   ]
  },
  {
   "cell_type": "code",
   "execution_count": 9,
   "id": "876b8a76",
   "metadata": {},
   "outputs": [],
   "source": [
    "a ={'attr': {'act': 'false','allo': 'max MI','cAggrLteN': ['-1'],'dlPathlossChg': '3 db','dynTriggerLteNrDcConfList': [{'actB1NrBeamMeas': 'false','lcrId': '-1','method': 'coverageBased'}]}}"
   ]
  },
  {
   "cell_type": "code",
   "execution_count": 12,
   "id": "61fa1d97",
   "metadata": {},
   "outputs": [],
   "source": [
    "b =   a['attr']['dynTriggerLteNrDcConfList'][0]['method']"
   ]
  },
  {
   "cell_type": "code",
   "execution_count": 7,
   "id": "358b22ea",
   "metadata": {},
   "outputs": [
    {
     "data": {
      "text/plain": [
       "'coverageBased'"
      ]
     },
     "execution_count": 7,
     "metadata": {},
     "output_type": "execute_result"
    }
   ],
   "source": [
    "b"
   ]
  },
  {
   "cell_type": "code",
   "execution_count": 4,
   "id": "185727e1",
   "metadata": {},
   "outputs": [],
   "source": [
    "class Solution(object):\n",
    "    def strStr(self, haystack, needle):\n",
    "        \"\"\"\n",
    "        :type haystack: str\n",
    "        :type needle: str\n",
    "        :rtype: int\n",
    "        \"\"\"\n",
    "        if needle in haystack:\n",
    "            haystack[:len(needle)]==needle\n",
    "            return 0\n",
    "        else:\n",
    "            return -1"
   ]
  },
  {
   "cell_type": "code",
   "execution_count": 5,
   "id": "7736fe2b",
   "metadata": {},
   "outputs": [],
   "source": [
    "s= Solution()"
   ]
  },
  {
   "cell_type": "code",
   "execution_count": 7,
   "id": "005a938d",
   "metadata": {},
   "outputs": [
    {
     "data": {
      "text/plain": [
       "-1"
      ]
     },
     "execution_count": 7,
     "metadata": {},
     "output_type": "execute_result"
    }
   ],
   "source": [
    "s.strStr(\"leetcode\",'leeto')"
   ]
  },
  {
   "cell_type": "code",
   "execution_count": 2,
   "id": "279d099e",
   "metadata": {},
   "outputs": [],
   "source": [
    "class Solution(object):\n",
    "    def class Solution(object):\n",
    "    def searchInsert(self, nums, target):\n",
    "        \"\"\"\n",
    "        :type nums: List[int]\n",
    "        :type target: int\n",
    "        :rtype: int\n",
    "        \"\"\"(self, nums, target):\n",
    "        \"\"\"\n",
    "        :type nums: List[int]\n",
    "        :type target: int\n",
    "        :rtype: int\n",
    "        \"\"\"\n"
   ]
  },
  {
   "cell_type": "code",
   "execution_count": 18,
   "id": "a1a76e78",
   "metadata": {},
   "outputs": [],
   "source": [
    "    def searchInsert(nums, target):   \n",
    "        if target in nums:\n",
    "            return nums.index(target)\n",
    "        elif target-1 in nums:\n",
    "            return nums.index(target-1)+1\n",
    "        elif target+1 in nums:\n",
    "            return  nums.index(target+1)-1"
   ]
  },
  {
   "cell_type": "code",
   "execution_count": 19,
   "id": "eff1960f",
   "metadata": {},
   "outputs": [
    {
     "data": {
      "text/plain": [
       "4"
      ]
     },
     "execution_count": 19,
     "metadata": {},
     "output_type": "execute_result"
    }
   ],
   "source": [
    "nums = [1,3,5,6]\n",
    "target = 7\n",
    "searchInsert(nums, target)"
   ]
  },
  {
   "cell_type": "code",
   "execution_count": 2,
   "id": "ac80a87d",
   "metadata": {},
   "outputs": [],
   "source": [
    "def count_way_to_climb(n):\n",
    "    if n <=0:\n",
    "        return 0\n",
    "    elif n==1:\n",
    "        return 1\n",
    "    elif n==2:\n",
    "        return 2\n",
    "    else:\n",
    "        ways = [0]*(n+1)\n",
    "        \n",
    "        ways[0]=0\n",
    "        ways[1]=1\n",
    "        ways[2]=2\n",
    "        for i in range(3,n+1):\n",
    "            ways[i]=ways[i-1]+ways[i-2]\n",
    "            print(ways[i])\n",
    "        return ways[n]"
   ]
  },
  {
   "cell_type": "code",
   "execution_count": 3,
   "id": "02579e1c",
   "metadata": {},
   "outputs": [
    {
     "name": "stdout",
     "output_type": "stream",
     "text": [
      "3\n"
     ]
    },
    {
     "data": {
      "text/plain": [
       "3"
      ]
     },
     "execution_count": 3,
     "metadata": {},
     "output_type": "execute_result"
    }
   ],
   "source": [
    "count_way_to_climb(3)"
   ]
  },
  {
   "cell_type": "code",
   "execution_count": 19,
   "id": "439b9b0c",
   "metadata": {},
   "outputs": [],
   "source": [
    "class Solution(object):\n",
    "    def climbStairs(self, n):\n",
    "        \"\"\"\n",
    "        :type n: int\n",
    "        :rtype: int\n",
    "        \"\"\"\n",
    "        if n == 0:\n",
    "            return 0\n",
    "        elif n == 1:\n",
    "            return 1\n",
    "        elif n == 2:\n",
    "            return 2\n",
    "        else:\n",
    "            ways = [0]*(n+1)\n",
    "            ways[0]=0\n",
    "            ways[1]=1\n",
    "            ways[2]=2\n",
    "            print(ways)\n",
    "            for i in range (3,n+1):\n",
    "                ways[i]=ways[i-1]+ways[i-2]\n",
    "                print(ways[n])\n",
    "            return ways[n]              \n"
   ]
  },
  {
   "cell_type": "code",
   "execution_count": 20,
   "id": "864e53b0",
   "metadata": {},
   "outputs": [],
   "source": [
    "s = Solution()"
   ]
  },
  {
   "cell_type": "code",
   "execution_count": 23,
   "id": "4782a77a",
   "metadata": {},
   "outputs": [
    {
     "name": "stdout",
     "output_type": "stream",
     "text": [
      "[0, 1, 2, 0, 0, 0]\n",
      "0\n",
      "0\n",
      "8\n"
     ]
    },
    {
     "data": {
      "text/plain": [
       "8"
      ]
     },
     "execution_count": 23,
     "metadata": {},
     "output_type": "execute_result"
    }
   ],
   "source": [
    "s.climbStairs(5)"
   ]
  },
  {
   "cell_type": "code",
   "execution_count": 32,
   "id": "3db245a0",
   "metadata": {},
   "outputs": [],
   "source": [
    "class Node:\n",
    "    def __init__(self,data):\n",
    "        self.data = data\n",
    "        self.next =None\n",
    "    \n",
    "    def __repr__():\n",
    "        return self.data\n",
    "    \n",
    "class LinkedList:\n",
    "        def __init__(self):\n",
    "            self.head = None\n",
    "\n",
    "        def __repr__(self):\n",
    "            node = self.head\n",
    "            nodes = []\n",
    "            while node is not None:\n",
    "                nodes.append(node.data)\n",
    "                node = node.next\n",
    "                nodes.append(\"None\")\n",
    "                return \" -> \".join(nodes)\n",
    "        \n",
    "    "
   ]
  },
  {
   "cell_type": "code",
   "execution_count": 33,
   "id": "8bc1a11b",
   "metadata": {},
   "outputs": [],
   "source": [
    "ll = LinkedList()"
   ]
  },
  {
   "cell_type": "code",
   "execution_count": 34,
   "id": "aad50fd5",
   "metadata": {},
   "outputs": [],
   "source": [
    "first_node = Node(\"a\")"
   ]
  },
  {
   "cell_type": "code",
   "execution_count": 35,
   "id": "55607160",
   "metadata": {},
   "outputs": [],
   "source": [
    "second_node =Node(\"b\")"
   ]
  },
  {
   "cell_type": "code",
   "execution_count": 36,
   "id": "bc8e3d35",
   "metadata": {},
   "outputs": [
    {
     "ename": "TypeError",
     "evalue": "__repr__ returned non-string (type NoneType)",
     "output_type": "error",
     "traceback": [
      "\u001b[1;31m---------------------------------------------------------------------------\u001b[0m",
      "\u001b[1;31mTypeError\u001b[0m                                 Traceback (most recent call last)",
      "File \u001b[1;32m~\\AppData\\Local\\Programs\\Python\\Python310\\lib\\site-packages\\IPython\\core\\formatters.py:708\u001b[0m, in \u001b[0;36mPlainTextFormatter.__call__\u001b[1;34m(self, obj)\u001b[0m\n\u001b[0;32m    701\u001b[0m stream \u001b[38;5;241m=\u001b[39m StringIO()\n\u001b[0;32m    702\u001b[0m printer \u001b[38;5;241m=\u001b[39m pretty\u001b[38;5;241m.\u001b[39mRepresentationPrinter(stream, \u001b[38;5;28mself\u001b[39m\u001b[38;5;241m.\u001b[39mverbose,\n\u001b[0;32m    703\u001b[0m     \u001b[38;5;28mself\u001b[39m\u001b[38;5;241m.\u001b[39mmax_width, \u001b[38;5;28mself\u001b[39m\u001b[38;5;241m.\u001b[39mnewline,\n\u001b[0;32m    704\u001b[0m     max_seq_length\u001b[38;5;241m=\u001b[39m\u001b[38;5;28mself\u001b[39m\u001b[38;5;241m.\u001b[39mmax_seq_length,\n\u001b[0;32m    705\u001b[0m     singleton_pprinters\u001b[38;5;241m=\u001b[39m\u001b[38;5;28mself\u001b[39m\u001b[38;5;241m.\u001b[39msingleton_printers,\n\u001b[0;32m    706\u001b[0m     type_pprinters\u001b[38;5;241m=\u001b[39m\u001b[38;5;28mself\u001b[39m\u001b[38;5;241m.\u001b[39mtype_printers,\n\u001b[0;32m    707\u001b[0m     deferred_pprinters\u001b[38;5;241m=\u001b[39m\u001b[38;5;28mself\u001b[39m\u001b[38;5;241m.\u001b[39mdeferred_printers)\n\u001b[1;32m--> 708\u001b[0m \u001b[43mprinter\u001b[49m\u001b[38;5;241;43m.\u001b[39;49m\u001b[43mpretty\u001b[49m\u001b[43m(\u001b[49m\u001b[43mobj\u001b[49m\u001b[43m)\u001b[49m\n\u001b[0;32m    709\u001b[0m printer\u001b[38;5;241m.\u001b[39mflush()\n\u001b[0;32m    710\u001b[0m \u001b[38;5;28;01mreturn\u001b[39;00m stream\u001b[38;5;241m.\u001b[39mgetvalue()\n",
      "File \u001b[1;32m~\\AppData\\Local\\Programs\\Python\\Python310\\lib\\site-packages\\IPython\\lib\\pretty.py:410\u001b[0m, in \u001b[0;36mRepresentationPrinter.pretty\u001b[1;34m(self, obj)\u001b[0m\n\u001b[0;32m    407\u001b[0m                         \u001b[38;5;28;01mreturn\u001b[39;00m meth(obj, \u001b[38;5;28mself\u001b[39m, cycle)\n\u001b[0;32m    408\u001b[0m                 \u001b[38;5;28;01mif\u001b[39;00m \u001b[38;5;28mcls\u001b[39m \u001b[38;5;129;01mis\u001b[39;00m \u001b[38;5;129;01mnot\u001b[39;00m \u001b[38;5;28mobject\u001b[39m \\\n\u001b[0;32m    409\u001b[0m                         \u001b[38;5;129;01mand\u001b[39;00m \u001b[38;5;28mcallable\u001b[39m(\u001b[38;5;28mcls\u001b[39m\u001b[38;5;241m.\u001b[39m\u001b[38;5;18m__dict__\u001b[39m\u001b[38;5;241m.\u001b[39mget(\u001b[38;5;124m'\u001b[39m\u001b[38;5;124m__repr__\u001b[39m\u001b[38;5;124m'\u001b[39m)):\n\u001b[1;32m--> 410\u001b[0m                     \u001b[38;5;28;01mreturn\u001b[39;00m \u001b[43m_repr_pprint\u001b[49m\u001b[43m(\u001b[49m\u001b[43mobj\u001b[49m\u001b[43m,\u001b[49m\u001b[43m \u001b[49m\u001b[38;5;28;43mself\u001b[39;49m\u001b[43m,\u001b[49m\u001b[43m \u001b[49m\u001b[43mcycle\u001b[49m\u001b[43m)\u001b[49m\n\u001b[0;32m    412\u001b[0m     \u001b[38;5;28;01mreturn\u001b[39;00m _default_pprint(obj, \u001b[38;5;28mself\u001b[39m, cycle)\n\u001b[0;32m    413\u001b[0m \u001b[38;5;28;01mfinally\u001b[39;00m:\n",
      "File \u001b[1;32m~\\AppData\\Local\\Programs\\Python\\Python310\\lib\\site-packages\\IPython\\lib\\pretty.py:778\u001b[0m, in \u001b[0;36m_repr_pprint\u001b[1;34m(obj, p, cycle)\u001b[0m\n\u001b[0;32m    776\u001b[0m \u001b[38;5;250m\u001b[39m\u001b[38;5;124;03m\"\"\"A pprint that just redirects to the normal repr function.\"\"\"\u001b[39;00m\n\u001b[0;32m    777\u001b[0m \u001b[38;5;66;03m# Find newlines and replace them with p.break_()\u001b[39;00m\n\u001b[1;32m--> 778\u001b[0m output \u001b[38;5;241m=\u001b[39m \u001b[38;5;28;43mrepr\u001b[39;49m\u001b[43m(\u001b[49m\u001b[43mobj\u001b[49m\u001b[43m)\u001b[49m\n\u001b[0;32m    779\u001b[0m lines \u001b[38;5;241m=\u001b[39m output\u001b[38;5;241m.\u001b[39msplitlines()\n\u001b[0;32m    780\u001b[0m \u001b[38;5;28;01mwith\u001b[39;00m p\u001b[38;5;241m.\u001b[39mgroup():\n",
      "\u001b[1;31mTypeError\u001b[0m: __repr__ returned non-string (type NoneType)"
     ]
    }
   ],
   "source": [
    "ll\n"
   ]
  },
  {
   "cell_type": "code",
   "execution_count": 44,
   "id": "1e92af11",
   "metadata": {},
   "outputs": [],
   "source": [
    "def findMissingRanges(self, nums, lower, upper):\n",
    "        \"\"\"\n",
    "        :type nums: List[int]\n",
    "        :type lower: int\n",
    "        :type upper: int\n",
    "        :rtype: List[List[int]]\n",
    "        \"\"\"\n",
    "        missing = []\n",
    "        if lower<nums[0]:\n",
    "            missing.append(range(lower,nums[0]))\n",
    "        elif  nums[-1]<upper:\n",
    "            missing.append(range(nums[-1],upper))\n",
    "\n",
    "        "
   ]
  },
  {
   "cell_type": "code",
   "execution_count": null,
   "id": "e566d9ba",
   "metadata": {},
   "outputs": [],
   "source": []
  },
  {
   "cell_type": "code",
   "execution_count": null,
   "id": "d1ccb73d",
   "metadata": {},
   "outputs": [],
   "source": [
    "        else:\n",
    "            for i in nums:\n",
    "                if nums[i] !=  nums[i+1]-1:\n",
    "                    missing.append(range(nums[i],nums[i+1])"
   ]
  },
  {
   "cell_type": "code",
   "execution_count": 54,
   "id": "c3678db2",
   "metadata": {},
   "outputs": [],
   "source": [
    "class Solution(object):\n",
    "    def findMissingRanges(self, nums, lower, upper):\n",
    "        \"\"\"\n",
    "        :type nums: List[int]\n",
    "        :type lower: int\n",
    "        :type upper: int\n",
    "        :rtype: List[List[int]]\n",
    "        \"\"\"\n",
    "        if len(nums)==0:\n",
    "            return [[lower,upper]]\n",
    "        missing =[]\n",
    "        start = lower\n",
    "       \n",
    "        if  start not in nums:\n",
    "            missing.append([start,nums[0]-1])\n",
    "        for i in range(len(nums)-1):\n",
    "             if nums[i+1]-1 !=nums[i]:\n",
    "                missing.append([nums[i]+1,nums[i+1]-1])\n",
    "\n",
    "        if upper not in nums:\n",
    "             missing.append([nums[-1]+1,upper])"
   ]
  },
  {
   "cell_type": "code",
   "execution_count": null,
   "id": "c0eb374a",
   "metadata": {},
   "outputs": [],
   "source": [
    "    df = world[(world['area'] >= 3000000) | (world['population'] >= 25000000)]\n",
    "    "
   ]
  },
  {
   "cell_type": "code",
   "execution_count": 2,
   "id": "19da86b4",
   "metadata": {},
   "outputs": [
    {
     "ename": "SyntaxError",
     "evalue": "unterminated string literal (detected at line 1) (1984767232.py, line 1)",
     "output_type": "error",
     "traceback": [
      "\u001b[1;36m  Cell \u001b[1;32mIn[2], line 1\u001b[1;36m\u001b[0m\n\u001b[1;33m    report  = NRCELL-6: {'M55308C36001': [(1691617500, 49),(1691636400, 100)],'M55308C36002': [(1691583960, 0),(1691584200, 100)]}'\u001b[0m\n\u001b[1;37m                                                                                                                                  ^\u001b[0m\n\u001b[1;31mSyntaxError\u001b[0m\u001b[1;31m:\u001b[0m unterminated string literal (detected at line 1)\n"
     ]
    }
   ],
   "source": [
    "report  = NRCELL-6: {'M55308C36001': [(1691617500, 49),(1691636400, 100)],'M55308C36002': [(1691583960, 0),(1691584200, 100)]}'\n"
   ]
  },
  {
   "cell_type": "code",
   "execution_count": 19,
   "id": "253b083e",
   "metadata": {},
   "outputs": [],
   "source": [
    "class Node:\n",
    "    def __init__(self,value):\n",
    "        self.value = value\n",
    "        self.next = None\n",
    "class Linkedlist:\n",
    "    def __init__(self,value):\n",
    "        new_node = Node(value)\n",
    "        self.head = new_node\n",
    "        self.tail = new_node\n",
    "        self.length = 1\n",
    "    def print_lst(self):\n",
    "        temp = self.head\n",
    "        while temp is not None:\n",
    "            print(temp.value)\n",
    "            temp =temp.next\n",
    "    def append_val(self,value):\n",
    "        new_node=Node(value)\n",
    "        if self.head is None:\n",
    "            self.head =new_node\n",
    "            self.tail = new_node\n",
    "        else:\n",
    "            self.tail.next=new_node\n",
    "            self.tail =new_node\n",
    "        self.length   +=1\n",
    "    def pop(self):\n",
    "        if self.length==0:\n",
    "            return None\n",
    "        else:\n",
    "            temp = self.head\n",
    "            pre  = self.head\n",
    "            while temp.next:\n",
    "                pre =temp\n",
    "                temp =temp.next\n",
    "            self.tail=pre\n",
    "            self.tail.next = None\n",
    "            self.length -=1\n",
    "            if self.length ==0:\n",
    "                self.head= None\n",
    "                self.tail =None\n",
    "        return tmp\n",
    "    def prepend(self,value):\n",
    "            new_node=Node(value)\n",
    "            if self.length==0:\n",
    "                self.head=new_node\n",
    "                self.tail=new_node\n",
    "            else:\n",
    "                new_node.next=self.head\n",
    "                self.head = new_node\n",
    "             \n",
    "            self.length +=1\n",
    "            \n",
    "            return True \n",
    "    def pop_first(self):\n",
    "        if self.length ==0:\n",
    "            return None\n",
    "        else:\n",
    "            temp=self.head\n",
    "            self.head=self.head.next\n",
    "            temp.next =None\n",
    "            self.length -= 1\n",
    "            if self.length ==0:\n",
    "                self.tail=None\n",
    "        return   temp   \n",
    "    def get(self,index):\n",
    "        if index <0 and index>=self.length:\n",
    "            return None\n",
    "        else:\n",
    "            temp = self.head\n",
    "            for _ in range(index):\n",
    "                temp=temp.next\n",
    "        return  temp       \n",
    "    def set_value(self,index,value):\n",
    "        temp = self.get(index)\n",
    "        if temp:\n",
    "            temp.value=value\n",
    "            return True\n",
    "        return False\n",
    "    def insert(self,index,value):\n",
    "        if index <0 and index>self.length:\n",
    "            return False\n",
    "        if index == 0:\n",
    "            return self.prepend(value)\n",
    "        if index == self.length:\n",
    "            return self.append_val(value)\n",
    "        new_node = Node(value)\n",
    "        temp     = self.get(index-1)\n",
    "        new_node.next = temp.next\n",
    "        temp.next = new-node\n",
    "        self.length +=1 \n",
    "        return True\n",
    "    def remove(self,index):\n",
    "        if index <0 and index>=self.length:\n",
    "            return False\n",
    "        if index == 0:\n",
    "            return self.pop_first()\n",
    "        if index == self.length:\n",
    "            return self.pop()\n",
    "        pre = self.get(index-1)\n",
    "        temp = pre.next\n",
    "        pre.next = temp.next\n",
    "        temp.next = None\n",
    "        self.length -=1\n",
    "        return True\n",
    "        "
   ]
  },
  {
   "cell_type": "code",
   "execution_count": 13,
   "id": "014de072",
   "metadata": {},
   "outputs": [],
   "source": [
    "my_ll = Linkedlist(4)"
   ]
  },
  {
   "cell_type": "code",
   "execution_count": 29,
   "id": "7b0325ca",
   "metadata": {},
   "outputs": [],
   "source": [
    "my_ll = Linkedlist(5)"
   ]
  },
  {
   "cell_type": "code",
   "execution_count": 33,
   "id": "50801ce3",
   "metadata": {},
   "outputs": [
    {
     "data": {
      "text/plain": [
       "4"
      ]
     },
     "execution_count": 33,
     "metadata": {},
     "output_type": "execute_result"
    }
   ],
   "source": [
    "my_ll.head.value"
   ]
  },
  {
   "cell_type": "code",
   "execution_count": 37,
   "id": "28460b54",
   "metadata": {},
   "outputs": [
    {
     "name": "stdout",
     "output_type": "stream",
     "text": [
      "4\n",
      "9\n",
      "9\n"
     ]
    }
   ],
   "source": [
    "my_ll.print_lst()"
   ]
  },
  {
   "cell_type": "code",
   "execution_count": 36,
   "id": "82d7b41d",
   "metadata": {},
   "outputs": [],
   "source": [
    "my_ll.append_val(9)"
   ]
  },
  {
   "cell_type": "code",
   "execution_count": 6,
   "id": "e2ffa4d0",
   "metadata": {},
   "outputs": [],
   "source": [
    "class HashTable:\n",
    "    def __init__(self, size = 7):\n",
    "        self.data_map = [None] * size\n",
    "      \n",
    "    def __hash(self, key):\n",
    "        my_hash = 0\n",
    "        for letter in key:\n",
    "            my_hash = (my_hash + ord(letter) * 23) % len(self.data_map)\n",
    "        return my_hash  \n",
    "\n",
    "    def print_table(self):\n",
    "        for i, val in enumerate(self.data_map): \n",
    "            print(i, \": \", val)\n",
    "    \n",
    "    def set_item(self, key, value):\n",
    "        index = self.__hash(key)\n",
    "        if self.data_map[index] == None:\n",
    "            self.data_map[index] = []\n",
    "        self.data_map[index].append([key, value])\n",
    "    \n",
    "    def get_item(self, key):\n",
    "        index = self.__hash(key)\n",
    "        print (index)\n",
    "        if self.data_map[index] is not None:\n",
    "            for i in range(len(self.data_map[index])):\n",
    "                print (i)\n",
    "                print (len(self.data_map[index]))\n",
    "                if self.data_map[index][i][0] == key:\n",
    "                    return self.data_map[index][i][1]\n",
    "        return None"
   ]
  },
  {
   "cell_type": "code",
   "execution_count": 19,
   "id": "7759f850",
   "metadata": {},
   "outputs": [
    {
     "name": "stdout",
     "output_type": "stream",
     "text": [
      "[]\n",
      "[1, 2]\n",
      "[1]\n",
      "[3, 4]\n",
      "[1, 2, 3]\n",
      "[1, 2, 3]\n",
      "[]\n"
     ]
    }
   ],
   "source": [
    "def find_duplicates(list1):\n",
    "    my_dict ={}\n",
    "    duplicate=[]\n",
    "    for i in list1:\n",
    "        my_dict[i] = my_dict.get(i,0)+1\n",
    "        duplicate = [ele for ele,count in my_dict.items() if count>1]\n",
    "    return duplicate        \n",
    "            \n",
    "\n",
    "\n",
    "print ( find_duplicates([1, 2, 3, 4, 5]) )\n",
    "print ( find_duplicates([1, 1, 2, 2, 3]) )\n",
    "print ( find_duplicates([1, 1, 1, 1, 1]) )\n",
    "print ( find_duplicates([1, 2, 3, 3, 3, 4, 4, 5]) )\n",
    "print ( find_duplicates([1, 1, 2, 2, 2, 3, 3, 3, 3]) )\n",
    "print ( find_duplicates([1, 1, 1, 2, 2, 2, 3, 3, 3, 3]) )\n",
    "print ( find_duplicates([]) )        \n",
    "         \n",
    "\n",
    "\n"
   ]
  },
  {
   "cell_type": "code",
   "execution_count": 7,
   "id": "df1ec7b2",
   "metadata": {},
   "outputs": [
    {
     "name": "stdout",
     "output_type": "stream",
     "text": [
      "4\n",
      "0\n",
      "2\n",
      "Bolts: 1400\n",
      "4\n",
      "0\n",
      "2\n",
      "1\n",
      "2\n",
      "Washers: 50\n",
      "6\n",
      "Lumber: None\n"
     ]
    }
   ],
   "source": [
    "my_hash_table = HashTable()\n",
    "\n",
    "my_hash_table.set_item('bolts', 1400)\n",
    "my_hash_table.set_item('washers', 50)\n",
    "\n",
    "print('Bolts:', my_hash_table.get_item('bolts'))\n",
    "print('Washers:', my_hash_table.get_item('washers'))\n",
    "print('Lumber:', my_hash_table.get_item('lumber'))"
   ]
  },
  {
   "cell_type": "code",
   "execution_count": 30,
   "id": "e3301d74",
   "metadata": {},
   "outputs": [
    {
     "name": "stdout",
     "output_type": "stream",
     "text": [
      "l\n",
      "h\n",
      "None\n"
     ]
    }
   ],
   "source": [
    "def first_non_repeating_char(str1):\n",
    "    my_dict={}\n",
    "    my_list =[]\n",
    "    for i in str1:\n",
    "        my_dict[i]=my_dict.get(i,0)+1\n",
    "    my_list =[i for i,j in my_dict.items() if j == 1]\n",
    "    return my_list[0] if my_list else None\n",
    "\n",
    "\n",
    "\n",
    "\n",
    "print( first_non_repeating_char('leetcode') )\n",
    "\n",
    "print( first_non_repeating_char('hello') )\n",
    "\n",
    "print( first_non_repeating_char('aabbcc') )"
   ]
  },
  {
   "cell_type": "code",
   "execution_count": 38,
   "id": "22c59698",
   "metadata": {},
   "outputs": [
    {
     "name": "stdout",
     "output_type": "stream",
     "text": [
      "1st set:\n",
      "aet\n",
      "{'aet': ['eat']}\n",
      "aet\n",
      "{'aet': ['eat', 'tea']}\n",
      "ant\n",
      "{'aet': ['eat', 'tea'], 'ant': ['tan']}\n",
      "aet\n",
      "{'aet': ['eat', 'tea', 'ate'], 'ant': ['tan']}\n",
      "ant\n",
      "{'aet': ['eat', 'tea', 'ate'], 'ant': ['tan', 'nat']}\n",
      "abt\n",
      "{'aet': ['eat', 'tea', 'ate'], 'ant': ['tan', 'nat'], 'abt': ['bat']}\n",
      "[['eat', 'tea', 'ate'], ['tan', 'nat'], ['bat']]\n"
     ]
    }
   ],
   "source": [
    "def group_anagrams(words):\n",
    "    anagram ={}\n",
    "    for word in words:\n",
    "        sorted_word = ''.join(sorted(word))\n",
    "        print (sorted_word)\n",
    "        if sorted_word in anagram:\n",
    "            anagram[sorted_word].append(word)\n",
    "        else:\n",
    "            anagram[sorted_word]=[word]\n",
    "        print (anagram)    \n",
    "    return list(anagram.values())\n",
    "\n",
    "        \n",
    "\n",
    "\n",
    "\n",
    "\n",
    "print(\"1st set:\")\n",
    "print( group_anagrams([\"eat\", \"tea\", \"tan\", \"ate\", \"nat\", \"bat\"]) )\n",
    "\n",
    "#print(\"\\n2nd set:\")\n",
    "#print( group_anagrams([\"abc\", \"cba\", \"bac\", \"foo\", \"bar\"]) )\n",
    "\n",
    "#print(\"\\n3rd set:\")\n",
    "#print( group_anagrams([\"listen\", \"silent\", \"triangle\", \"integral\", \"garden\", \"ranged\"]) )"
   ]
  },
  {
   "cell_type": "code",
   "execution_count": 59,
   "id": "e75217b4",
   "metadata": {},
   "outputs": [
    {
     "ename": "KeyError",
     "evalue": "5",
     "output_type": "error",
     "traceback": [
      "\u001b[1;31m---------------------------------------------------------------------------\u001b[0m",
      "\u001b[1;31mKeyError\u001b[0m                                  Traceback (most recent call last)",
      "Cell \u001b[1;32mIn[59], line 13\u001b[0m\n\u001b[0;32m      8\u001b[0m             my_dict[j]\u001b[38;5;241m=\u001b[39mi\n\u001b[0;32m      9\u001b[0m     \u001b[38;5;28;01mreturn\u001b[39;00m []  \n\u001b[1;32m---> 13\u001b[0m \u001b[38;5;28mprint\u001b[39m(\u001b[43mtwo_sum\u001b[49m\u001b[43m(\u001b[49m\u001b[43m[\u001b[49m\u001b[38;5;241;43m5\u001b[39;49m\u001b[43m,\u001b[49m\u001b[43m \u001b[49m\u001b[38;5;241;43m1\u001b[39;49m\u001b[43m,\u001b[49m\u001b[43m \u001b[49m\u001b[38;5;241;43m7\u001b[39;49m\u001b[43m,\u001b[49m\u001b[43m \u001b[49m\u001b[38;5;241;43m2\u001b[39;49m\u001b[43m,\u001b[49m\u001b[43m \u001b[49m\u001b[38;5;241;43m9\u001b[39;49m\u001b[43m,\u001b[49m\u001b[43m \u001b[49m\u001b[38;5;241;43m3\u001b[39;49m\u001b[43m]\u001b[49m\u001b[43m,\u001b[49m\u001b[43m \u001b[49m\u001b[38;5;241;43m10\u001b[39;49m\u001b[43m)\u001b[49m)  \n\u001b[0;32m     14\u001b[0m \u001b[38;5;28mprint\u001b[39m(two_sum([\u001b[38;5;241m4\u001b[39m, \u001b[38;5;241m2\u001b[39m, \u001b[38;5;241m11\u001b[39m, \u001b[38;5;241m7\u001b[39m, \u001b[38;5;241m6\u001b[39m, \u001b[38;5;241m3\u001b[39m], \u001b[38;5;241m9\u001b[39m))  \n\u001b[0;32m     15\u001b[0m \u001b[38;5;28mprint\u001b[39m(two_sum([\u001b[38;5;241m10\u001b[39m, \u001b[38;5;241m15\u001b[39m, \u001b[38;5;241m5\u001b[39m, \u001b[38;5;241m2\u001b[39m, \u001b[38;5;241m8\u001b[39m, \u001b[38;5;241m1\u001b[39m, \u001b[38;5;241m7\u001b[39m], \u001b[38;5;241m12\u001b[39m))  \n",
      "Cell \u001b[1;32mIn[59], line 6\u001b[0m, in \u001b[0;36mtwo_sum\u001b[1;34m(list1, target)\u001b[0m\n\u001b[0;32m      4\u001b[0m \u001b[38;5;28;01mfor\u001b[39;00m i,j \u001b[38;5;129;01min\u001b[39;00m \u001b[38;5;28menumerate\u001b[39m(list1):\n\u001b[0;32m      5\u001b[0m     \u001b[38;5;28;01mif\u001b[39;00m (target\u001b[38;5;241m-\u001b[39mj) \u001b[38;5;129;01min\u001b[39;00m list1:\n\u001b[1;32m----> 6\u001b[0m         \u001b[38;5;28;01mreturn\u001b[39;00m [\u001b[43mmy_dict\u001b[49m\u001b[43m[\u001b[49m\u001b[43mj\u001b[49m\u001b[43m]\u001b[49m]\n\u001b[0;32m      7\u001b[0m     \u001b[38;5;28;01melse\u001b[39;00m:\n\u001b[0;32m      8\u001b[0m         my_dict[j]\u001b[38;5;241m=\u001b[39mi\n",
      "\u001b[1;31mKeyError\u001b[0m: 5"
     ]
    }
   ],
   "source": [
    "def two_sum(list1,target):\n",
    "    my_dict ={}\n",
    "    my_list =[]\n",
    "    for i,j in enumerate(list1):\n",
    "        component = target-j\n",
    "        if component in list1:\n",
    "            return [my_dict[j]]\n",
    "        else:\n",
    "            my_dict[j]=i\n",
    "    return []  \n",
    "\n",
    "        \n",
    "\n",
    "print(two_sum([5, 1, 7, 2, 9, 3], 10))  \n",
    "print(two_sum([4, 2, 11, 7, 6, 3], 9))  \n",
    "print(two_sum([10, 15, 5, 2, 8, 1, 7], 12))  \n",
    "print(two_sum([1, 3, 5, 7, 9], 10))  \n",
    "print ( two_sum([1, 2, 3, 4, 5], 10) )\n",
    "print ( two_sum([1, 2, 3, 4, 5], 7) )\n",
    "print ( two_sum([1, 2, 3, 4, 5], 3) )\n",
    "print ( two_sum([], 0) )"
   ]
  },
  {
   "cell_type": "code",
   "execution_count": 2,
   "id": "41d3fd9a",
   "metadata": {},
   "outputs": [
    {
     "name": "stdout",
     "output_type": "stream",
     "text": [
      "abc\n"
     ]
    }
   ],
   "source": [
    "word1 = [\"ab\", \"c\"]\n",
    "word2 = [\"a\", \"bc\"]\n",
    "a= ''.join(word1)\n",
    "print(a)"
   ]
  },
  {
   "cell_type": "code",
   "execution_count": 31,
   "id": "ed1cce0b",
   "metadata": {},
   "outputs": [],
   "source": [
    "final=[]\n",
    "s = \"K1:L2\""
   ]
  },
  {
   "cell_type": "code",
   "execution_count": 22,
   "id": "c2e95cd7",
   "metadata": {},
   "outputs": [],
   "source": [
    "a=s.split(':')"
   ]
  },
  {
   "cell_type": "code",
   "execution_count": 34,
   "id": "52c4ec82",
   "metadata": {},
   "outputs": [
    {
     "name": "stdout",
     "output_type": "stream",
     "text": [
      "['K', 'L', 'K', 'L', 'K', 'L']\n"
     ]
    }
   ],
   "source": [
    "for i in range((ord(a[0][0])),(ord(a[1][0]))+1):\n",
    "    final.append(chr(i))\n",
    "print(final)    \n",
    "    \n",
    "    \n",
    "    "
   ]
  },
  {
   "cell_type": "code",
   "execution_count": 19,
   "id": "321c45ce",
   "metadata": {},
   "outputs": [
    {
     "ename": "NameError",
     "evalue": "name 'F' is not defined",
     "output_type": "error",
     "traceback": [
      "\u001b[1;31m---------------------------------------------------------------------------\u001b[0m",
      "\u001b[1;31mNameError\u001b[0m                                 Traceback (most recent call last)",
      "Cell \u001b[1;32mIn[19], line 1\u001b[0m\n\u001b[1;32m----> 1\u001b[0m \u001b[38;5;28mrange\u001b[39m(\u001b[38;5;28mord\u001b[39m(\u001b[43mF\u001b[49m))\n",
      "\u001b[1;31mNameError\u001b[0m: name 'F' is not defined"
     ]
    }
   ],
   "source": [
    "range(ord(F))"
   ]
  },
  {
   "cell_type": "code",
   "execution_count": 20,
   "id": "ac410b82",
   "metadata": {},
   "outputs": [
    {
     "name": "stdout",
     "output_type": "stream",
     "text": [
      "a\n",
      "b\n",
      "c\n",
      "d\n",
      "e\n",
      "f\n",
      "g\n",
      "h\n",
      "i\n",
      "j\n",
      "k\n",
      "l\n",
      "m\n",
      "n\n"
     ]
    }
   ],
   "source": [
    "for i in range(ord('a'), ord('n')+1):\n",
    "    print (chr(i))"
   ]
  },
  {
   "cell_type": "code",
   "execution_count": null,
   "id": "7fdfa9f2",
   "metadata": {},
   "outputs": [],
   "source": []
  },
  {
   "cell_type": "code",
   "execution_count": null,
   "id": "e94d4b38",
   "metadata": {},
   "outputs": [],
   "source": []
  }
 ],
 "metadata": {
  "kernelspec": {
   "display_name": "Python 3 (ipykernel)",
   "language": "python",
   "name": "python3"
  },
  "language_info": {
   "codemirror_mode": {
    "name": "ipython",
    "version": 3
   },
   "file_extension": ".py",
   "mimetype": "text/x-python",
   "name": "python",
   "nbconvert_exporter": "python",
   "pygments_lexer": "ipython3",
   "version": "3.10.11"
  }
 },
 "nbformat": 4,
 "nbformat_minor": 5
}

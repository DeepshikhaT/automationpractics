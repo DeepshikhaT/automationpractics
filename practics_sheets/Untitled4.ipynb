{
 "cells": [
  {
   "cell_type": "code",
   "execution_count": 1,
   "id": "369bf70c",
   "metadata": {},
   "outputs": [
    {
     "ename": "SyntaxError",
     "evalue": "invalid syntax. Perhaps you forgot a comma? (2053059182.py, line 18)",
     "output_type": "error",
     "traceback": [
      "\u001b[1;36m  Cell \u001b[1;32mIn[1], line 18\u001b[1;36m\u001b[0m\n\u001b[1;33m    password=password, use_ssl=True, update_interval=5000, admin_api_log_dir=path\u001b[0m\n\u001b[1;37m                                                                             ^\u001b[0m\n\u001b[1;31mSyntaxError\u001b[0m\u001b[1;31m:\u001b[0m invalid syntax. Perhaps you forgot a comma?\n"
     ]
    }
   ],
   "source": [
    "def _connect(self, ip):\n",
    "        conn = self._connections.get(ip)\n",
    "        if not conn:\n",
    "            logging.debug(\"Connecting to %s at %s\", self._name, ip)\n",
    "            try:\n",
    "                alias = f\"{self._name}-{ip}\"\n",
    "                node_config = cis_config.cis_config_get_node_basestation(ip)\n",
    "                print(node_config)\n",
    "                username = cis_config.CONFIG.bts.admin_username\n",
    "                print(username)\n",
    "                password = cis_config.CONFIG.bts.admin_password\n",
    "                print(password)\n",
    "                port = cis_config.CONFIG.bts.port\n",
    "                path = cis_config.CONFIG.environ.admin_cli_path\n",
    "                with common_utils.suppress_logging(logging.WARNING):\n",
    "                    conn_ip = (f\"[{ip}]\" if \":\" in ip and not ip.startswith(\"[\") else ip)\n",
    "                    self._taf_lib.setup_admin(bts_host=conn_ip, bts_port=port, username=username,\n",
    "                        password=password, use_ssl=True, update_interval=5000, admin_api_log_dir=path\n",
    "                        name=alias, bundle_path=None, release=None, timeout=30, trim_logs=False)\n",
    "                    self._taf_lib.connect_to()\n",
    "\n",
    "\n",
    "            except Exception as exc:  # pylint: disable=broad-exception-caught\n",
    "                raise_runtime_exception(\n",
    "                    f\"Connecting to {self._name} at {ip} raised exception: \"\n",
    "                    f\"{exc}\", exc)\n",
    "            conn = alias\n",
    "            self._connections[ip] = conn\n",
    "            logging.debug(\"Connected to %s at %s\", self._name, ip)\n",
    "        return conn\n"
   ]
  },
  {
   "cell_type": "code",
   "execution_count": null,
   "id": "cdf8643e",
   "metadata": {},
   "outputs": [],
   "source": []
  }
 ],
 "metadata": {
  "kernelspec": {
   "display_name": "Python 3 (ipykernel)",
   "language": "python",
   "name": "python3"
  },
  "language_info": {
   "codemirror_mode": {
    "name": "ipython",
    "version": 3
   },
   "file_extension": ".py",
   "mimetype": "text/x-python",
   "name": "python",
   "nbconvert_exporter": "python",
   "pygments_lexer": "ipython3",
   "version": "3.10.11"
  }
 },
 "nbformat": 4,
 "nbformat_minor": 5
}

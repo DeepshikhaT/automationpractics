{
 "cells": [
  {
   "cell_type": "code",
   "execution_count": 21,
   "id": "9efed649",
   "metadata": {},
   "outputs": [],
   "source": [
    "    list1 = []\n",
    "    list2 = [0]"
   ]
  },
  {
   "cell_type": "code",
   "execution_count": 22,
   "id": "797626c0",
   "metadata": {},
   "outputs": [],
   "source": [
    "list1.extend(list2)"
   ]
  },
  {
   "cell_type": "code",
   "execution_count": 23,
   "id": "bfc865ff",
   "metadata": {},
   "outputs": [
    {
     "name": "stdout",
     "output_type": "stream",
     "text": [
      "[0]\n"
     ]
    }
   ],
   "source": [
    "print(list1)"
   ]
  },
  {
   "cell_type": "code",
   "execution_count": 24,
   "id": "9b6f66f1",
   "metadata": {},
   "outputs": [
    {
     "name": "stdout",
     "output_type": "stream",
     "text": [
      "[0]\n"
     ]
    }
   ],
   "source": [
    "print (sorted(list1))"
   ]
  },
  {
   "cell_type": "code",
   "execution_count": 29,
   "id": "9f566771",
   "metadata": {},
   "outputs": [
    {
     "name": "stdout",
     "output_type": "stream",
     "text": [
      "30\n",
      "2\n",
      "0.06666666666666667\n",
      "13.33\n"
     ]
    },
    {
     "ename": "RuntimeError",
     "evalue": "voice muting or possible gargled voice observed:0.07",
     "output_type": "error",
     "traceback": [
      "\u001b[1;31m---------------------------------------------------------------------------\u001b[0m",
      "\u001b[1;31mRuntimeError\u001b[0m                              Traceback (most recent call last)",
      "Cell \u001b[1;32mIn[29], line 12\u001b[0m\n\u001b[0;32m     10\u001b[0m \u001b[38;5;28;01mif\u001b[39;00m packets_loss \u001b[38;5;241m<\u001b[39m \u001b[38;5;241m0.08\u001b[39m:\n\u001b[0;32m     11\u001b[0m     error \u001b[38;5;241m=\u001b[39m \u001b[38;5;124mf\u001b[39m\u001b[38;5;124m\"\u001b[39m\u001b[38;5;124mvoice muting or possible gargled voice observed:\u001b[39m\u001b[38;5;132;01m{\u001b[39;00mpackets_loss\u001b[38;5;132;01m:\u001b[39;00m\u001b[38;5;124m.2f\u001b[39m\u001b[38;5;132;01m}\u001b[39;00m\u001b[38;5;124m\"\u001b[39m\n\u001b[1;32m---> 12\u001b[0m     \u001b[38;5;28;01mraise\u001b[39;00m \u001b[38;5;167;01mRuntimeError\u001b[39;00m(error)\n\u001b[0;32m     13\u001b[0m \u001b[38;5;28;01mfor\u001b[39;00m index \u001b[38;5;129;01min\u001b[39;00m \u001b[38;5;28mrange\u001b[39m(\u001b[38;5;28mlen\u001b[39m(packets_sequence) \u001b[38;5;241m-\u001b[39m \u001b[38;5;241m1\u001b[39m):\n\u001b[0;32m     14\u001b[0m     missing_packets \u001b[38;5;241m=\u001b[39m \u001b[38;5;28mint\u001b[39m(packets_sequence[index \u001b[38;5;241m+\u001b[39m \u001b[38;5;241m1\u001b[39m]) \u001b[38;5;241m-\u001b[39m \u001b[38;5;28mint\u001b[39m(packets_sequence[index])\n",
      "\u001b[1;31mRuntimeError\u001b[0m: voice muting or possible gargled voice observed:0.07"
     ]
    }
   ],
   "source": [
    "packets_sequence  = [1,30]\n",
    "packets_total = int(packets_sequence[len(packets_sequence)-1])\n",
    "print(packets_total)\n",
    "present_packets = len(packets_sequence)\n",
    "print(present_packets)\n",
    "packets_loss = present_packets / packets_total\n",
    "print(packets_loss)\n",
    "\n",
    "print(l)\n",
    "if packets_loss < 0.08:\n",
    "    error = f\"voice muting or possible gargled voice observed:{packets_loss:.2f}\"\n",
    "    raise RuntimeError(error)\n",
    "for index in range(len(packets_sequence) - 1):\n",
    "    missing_packets = int(packets_sequence[index + 1]) - int(packets_sequence[index])\n",
    "    if missing_packets > 15:\n",
    "            error = f\"Voice muting oberved from:{packets_sequence[index+1]} to  {packets_sequence[index]}\"\n",
    "            raise RuntimeError(error)"
   ]
  },
  {
   "cell_type": "code",
   "execution_count": 2,
   "id": "c2f2cbd0",
   "metadata": {},
   "outputs": [
    {
     "name": "stdout",
     "output_type": "stream",
     "text": [
      "11 12 5 2 \n",
      "15 6 10 \n",
      "0 5 11 13 6 \n",
      "10 8 12 5 \n",
      "12 15 8 6 \n"
     ]
    }
   ],
   "source": [
    "from array import *\n",
    "T = [[11, 12, 5, 2], [15, 6,10], [10, 8, 12, 5], [12,15,8,6]]\n",
    "T.insert(2, [0,5,11,13,6])\n",
    "for r in T:\n",
    "    for c in r:\n",
    "        print(c,end = \" \")\n",
    "    print()"
   ]
  },
  {
   "cell_type": "code",
   "execution_count": 6,
   "id": "b8be7067",
   "metadata": {},
   "outputs": [
    {
     "name": "stdout",
     "output_type": "stream",
     "text": [
      "[['Mon' '18' '20' '22' '17']\n",
      " ['Tue' '11' '18' '21' '18']\n",
      " ['Wed' '15' '21' '20' '19']\n",
      " ['Thu' '11' '20' '22' '21']\n",
      " ['Fri' '18' '17' '23' '22']\n",
      " ['Sat' '12' '22' '20' '18']\n",
      " ['Sun' '13' '15' '19' '16']]\n"
     ]
    }
   ],
   "source": [
    "from numpy import * \n",
    "a = array([['Mon',18,20,22,17],['Tue',11,18,21,18],\n",
    "   ['Wed',15,21,20,19],['Thu',11,20,22,21],\n",
    "   ['Fri',18,17,23,22],['Sat',12,22,20,18],\n",
    "   ['Sun',13,15,19,16]])\n",
    "m = reshape(a,(7,5))\n",
    "print(m)"
   ]
  },
  {
   "cell_type": "code",
   "execution_count": 7,
   "id": "287736eb",
   "metadata": {},
   "outputs": [],
   "source": [
    "from numpy import * \n",
    "m = array([['Mon',18,20,22,17],['Tue',11,18,21,18],\n",
    "   ['Wed',15,21,20,19],['Thu',11,20,22,21],\n",
    "   ['Fri',18,17,23,22],['Sat',12,22,20,18],\n",
    "   ['Sun',13,15,19,16]])"
   ]
  },
  {
   "cell_type": "code",
   "execution_count": 9,
   "id": "2f2c16ae",
   "metadata": {},
   "outputs": [
    {
     "name": "stdout",
     "output_type": "stream",
     "text": [
      "20\n"
     ]
    }
   ],
   "source": [
    "print(m[2][3])"
   ]
  },
  {
   "cell_type": "code",
   "execution_count": 13,
   "id": "65f57763",
   "metadata": {},
   "outputs": [],
   "source": [
    "from numpy import * \n",
    "m = array([['Mon',18,20,22,17],['Tue',11,18,21,18],\n",
    "   ['Wed',15,21,20,19],['Thu',11,20,22,21],\n",
    "   ['Fri',18,17,23,22],['Sat',12,22,20,18],\n",
    "   ['Sun',13,15,19,16]])\n",
    "m_r = append(m,[['Avg',12,15,13,11]],0)"
   ]
  },
  {
   "cell_type": "code",
   "execution_count": 11,
   "id": "901ec271",
   "metadata": {},
   "outputs": [
    {
     "name": "stdout",
     "output_type": "stream",
     "text": [
      "[['Mon' '18' '20' '22' '17']\n",
      " ['Tue' '11' '18' '21' '18']\n",
      " ['Wed' '15' '21' '20' '19']\n",
      " ['Thu' '11' '20' '22' '21']\n",
      " ['Fri' '18' '17' '23' '22']\n",
      " ['Sat' '12' '22' '20' '18']\n",
      " ['Sun' '13' '15' '19' '16']\n",
      " ['Avg' '12' '15' '13' '11']]\n"
     ]
    }
   ],
   "source": [
    "print(m_r)\n"
   ]
  },
  {
   "cell_type": "code",
   "execution_count": 14,
   "id": "635339a1",
   "metadata": {},
   "outputs": [
    {
     "name": "stdout",
     "output_type": "stream",
     "text": [
      "[['Mon' '18' '20' '22' '17' '1']\n",
      " ['Tue' '11' '18' '21' '18' '2']\n",
      " ['Wed' '15' '21' '20' '19' '3']\n",
      " ['Thu' '11' '20' '22' '21' '4']\n",
      " ['Fri' '18' '17' '23' '22' '5']\n",
      " ['Sat' '12' '22' '20' '18' '6']\n",
      " ['Sun' '13' '15' '19' '16' '7']]\n"
     ]
    }
   ],
   "source": [
    "from numpy import * \n",
    "m = array([['Mon',18,20,22,17],['Tue',11,18,21,18],\n",
    "   ['Wed',15,21,20,19],['Thu',11,20,22,21],\n",
    "   ['Fri',18,17,23,22],['Sat',12,22,20,18],\n",
    "   ['Sun',13,15,19,16]])\n",
    "m_c = insert(m,[5],[[1],[2],[3],[4],[5],[6],[7]],1)\n",
    "\n",
    "print(m_c)"
   ]
  },
  {
   "cell_type": "code",
   "execution_count": 16,
   "id": "f11fd702",
   "metadata": {},
   "outputs": [
    {
     "name": "stdout",
     "output_type": "stream",
     "text": [
      "[['Mon' '18' '22' '17']\n",
      " ['Tue' '11' '21' '18']\n",
      " ['Wed' '15' '20' '19']\n",
      " ['Thu' '11' '22' '21']\n",
      " ['Fri' '18' '23' '22']\n",
      " ['Sat' '12' '20' '18']\n",
      " ['Sun' '13' '19' '16']]\n"
     ]
    }
   ],
   "source": [
    "from numpy import * \n",
    "m = array([['Mon',18,20,22,17],['Tue',11,18,21,18],\n",
    "   ['Wed',15,21,20,19],['Thu',11,20,22,21],\n",
    "   ['Fri',18,17,23,22],['Sat',12,22,20,18],\n",
    "   ['Sun',13,15,19,16]])\n",
    "m = delete(m,s_[2],1)\n",
    "\n",
    "print(m)"
   ]
  },
  {
   "cell_type": "code",
   "execution_count": 17,
   "id": "73a1817b",
   "metadata": {},
   "outputs": [],
   "source": [
    "import collections\n",
    "\n",
    "dict1 = {'day1': 'Mon', 'day2': 'Tue'}\n",
    "dict2 = {'day3': 'Wed', 'day1': 'Thu'}"
   ]
  },
  {
   "cell_type": "code",
   "execution_count": 18,
   "id": "6fc3f9d3",
   "metadata": {},
   "outputs": [],
   "source": [
    "re = collections.ChainMap(dict1,dict2)"
   ]
  },
  {
   "cell_type": "code",
   "execution_count": 19,
   "id": "de23da55",
   "metadata": {},
   "outputs": [
    {
     "name": "stdout",
     "output_type": "stream",
     "text": [
      "ChainMap({'day1': 'Mon', 'day2': 'Tue'}, {'day3': 'Wed', 'day1': 'Thu'})\n"
     ]
    }
   ],
   "source": [
    "print(re)"
   ]
  },
  {
   "cell_type": "code",
   "execution_count": 24,
   "id": "adc6a17a",
   "metadata": {},
   "outputs": [
    {
     "name": "stdout",
     "output_type": "stream",
     "text": [
      "[{'day1': 'Mon', 'day2': 'Tue'}, {'day3': 'Wed', 'day1': 'Thu'}] \n",
      "\n"
     ]
    }
   ],
   "source": [
    "print(re.maps,'\\n')"
   ]
  },
  {
   "cell_type": "code",
   "execution_count": 29,
   "id": "173f0338",
   "metadata": {},
   "outputs": [
    {
     "data": {
      "text/plain": [
       "['Wed', 'Mon', 'Tue']"
      ]
     },
     "execution_count": 29,
     "metadata": {},
     "output_type": "execute_result"
    }
   ],
   "source": [
    "list(re.values())"
   ]
  },
  {
   "cell_type": "code",
   "execution_count": 27,
   "id": "84df5ae3",
   "metadata": {},
   "outputs": [
    {
     "name": "stdout",
     "output_type": "stream",
     "text": [
      "Keys = ['day3', 'day1', 'day2']\n"
     ]
    }
   ],
   "source": [
    "print('Keys = {}'.format(list(re.keys())))"
   ]
  },
  {
   "cell_type": "code",
   "execution_count": 6,
   "id": "15be361f",
   "metadata": {},
   "outputs": [
    {
     "name": "stdout",
     "output_type": "stream",
     "text": [
      "Mon\n",
      "Tue\n",
      "Wed\n",
      "Thu\n"
     ]
    }
   ],
   "source": [
    "class daynames:\n",
    "    def __init__(self,dayname):\n",
    "        self.dayname = dayname\n",
    "        self.nextval = None\n",
    "        \n",
    "        \n",
    "e1 = daynames('Mon')\n",
    "e2 = daynames('Wed')\n",
    "e3 = daynames('Tue')\n",
    "e4 = daynames('Thu')\n",
    "\n",
    "e1.nextval = e3\n",
    "e3.nextval = e2\n",
    "e2.nextval = e4\n",
    "thisvalue = e1\n",
    "\n",
    "while thisvalue:\n",
    "    print(thisvalue.dayname)\n",
    "    thisvalue=thisvalue.nextval\n",
    "        "
   ]
  },
  {
   "cell_type": "code",
   "execution_count": 5,
   "id": "b09626f5",
   "metadata": {},
   "outputs": [
    {
     "name": "stdout",
     "output_type": "stream",
     "text": [
      "Mon\n",
      "Tue\n",
      "Wed\n",
      "Thu\n"
     ]
    }
   ],
   "source": [
    "class daynames:\n",
    "    def __init__(self, dataval=None):\n",
    "        self.dataval = dataval\n",
    "        self.nextval = None\n",
    "\n",
    "e1 = daynames('Mon')\n",
    "e2 = daynames('Wed')\n",
    "e3 = daynames('Tue')\n",
    "e4 = daynames('Thu')\n",
    "\n",
    "e1.nextval = e3\n",
    "e3.nextval = e2\n",
    "e2.nextval = e4\n",
    "\n",
    "thisvalue = e1\n",
    "\n",
    "while thisvalue:\n",
    "        print(thisvalue.dataval)\n",
    "        thisvalue = thisvalue.nextval"
   ]
  },
  {
   "cell_type": "code",
   "execution_count": 10,
   "id": "36e27734",
   "metadata": {},
   "outputs": [],
   "source": [
    "ues = ['001010000036650', '001010000032128', '<emergency>', '001010000032327']\n",
    "ue =   [ue for ue in ues if not ue.startswith(\"<\")]"
   ]
  },
  {
   "cell_type": "code",
   "execution_count": 11,
   "id": "8e72a16a",
   "metadata": {},
   "outputs": [
    {
     "name": "stdout",
     "output_type": "stream",
     "text": [
      "['001010000036650', '001010000032128', '001010000032327']\n"
     ]
    }
   ],
   "source": [
    "print (ue)"
   ]
  },
  {
   "cell_type": "code",
   "execution_count": null,
   "id": "aafb9836",
   "metadata": {},
   "outputs": [],
   "source": []
  }
 ],
 "metadata": {
  "kernelspec": {
   "display_name": "Python 3 (ipykernel)",
   "language": "python",
   "name": "python3"
  },
  "language_info": {
   "codemirror_mode": {
    "name": "ipython",
    "version": 3
   },
   "file_extension": ".py",
   "mimetype": "text/x-python",
   "name": "python",
   "nbconvert_exporter": "python",
   "pygments_lexer": "ipython3",
   "version": "3.10.11"
  }
 },
 "nbformat": 4,
 "nbformat_minor": 5
}

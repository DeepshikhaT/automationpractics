{
 "cells": [
  {
   "cell_type": "code",
   "execution_count": 1,
   "id": "c0b7ffb2",
   "metadata": {},
   "outputs": [],
   "source": [
    "bbmod_list=[{'cabinetId': {'configuration': 'MRBTS-40005070/EQM-1/APEQM-1/CABINET-1',\n",
    "                'internal': '/MRBTS-1/RAT-1/RUNTIME_VIEW-1/MRBTS_R-1/EQM_R-1/APEQM_R-1/CABINET_R-1',\n",
    "                'runtime': 'MRBTS-40005070/EQM_R-1/APEQM_R-1/CABINET_R-1'},\n",
    "  'fullCapacityInUse': 'Yes',\n",
    "  'id': {'configuration': 'MRBTS-40005070/EQM-1/APEQM-1/CABINET-1/BBMOD-4',\n",
    "         'internal': '/MRBTS-1/RAT-1/RUNTIME_VIEW-1/MRBTS_R-1/EQM_R-1/APEQM_R-1/CABINET_R-1/BBMOD_R-1',\n",
    "         'runtime': 'MRBTS-40005070/EQM_R-1/APEQM_R-1/CABINET_R-1/BBMOD_R-1'},\n",
    "  'ports': [{'id': {'configuration': 'MRBTS-40005070/EQM-1/APEQM-1/CABINET-1/BBMOD-4/SFP-1',\n",
    "                    'internal': '/MRBTS-1/RAT-1/RUNTIME_VIEW-1/MRBTS_R-1/EQM_R-1/APEQM_R-1/CABINET_R-1/BBMOD_R-1/SFP_R-1',\n",
    "                    'runtime': 'MRBTS-40005070/EQM_R-1/APEQM_R-1/CABINET_R-1/BBMOD_R-1/SFP_R-1'},\n",
    "             'label': 'RF1'},\n",
    "            {'id': {'internal': '/MRBTS-1/RAT-1/RUNTIME_VIEW-1/MRBTS_R-1/EQM_R-1/APEQM_R-1/CABINET_R-1/BBMOD_R-1/SFP_R-2',\n",
    "                    'runtime': 'MRBTS-40005070/EQM_R-1/APEQM_R-1/CABINET_R-1/BBMOD_R-1/SFP_R-2'},\n",
    "             'label': 'RF2'},\n",
    "            {'id': {'internal': '/MRBTS-1/RAT-1/RUNTIME_VIEW-1/MRBTS_R-1/EQM_R-1/APEQM_R-1/CABINET_R-1/BBMOD_R-1/SFP_R-3',\n",
    "                    'runtime': 'MRBTS-40005070/EQM_R-1/APEQM_R-1/CABINET_R-1/BBMOD_R-1/SFP_R-3'},\n",
    "             'label': 'RF3'},\n",
    "            {'id': {'configuration': 'MRBTS-40005070/EQM-1/APEQM-1/CABINET-1/BBMOD-4/RF4',\n",
    "                    'internal': '/MRBTS-1/RAT-1/BTS_L-4/EQM_L-1/CABINET_L-1/BBMOD_L-2/CONNECTOR_L-4',\n",
    "                    'runtime': 'MRBTS-40005070/EQM_R-1/APEQM_R-1/CABINET_R-1/BBMOD_R-1/RF4'},\n",
    "             'label': 'RF4'},\n",
    "            {'id': {'configuration': 'MRBTS-40005070/EQM-1/APEQM-1/CABINET-1/BBMOD-4/RF5',\n",
    "                    'internal': '/MRBTS-1/RAT-1/BTS_L-4/EQM_L-1/CABINET_L-1/BBMOD_L-2/CONNECTOR_L-5',\n",
    "                    'runtime': 'MRBTS-40005070/EQM_R-1/APEQM_R-1/CABINET_R-1/BBMOD_R-1/RF5'},\n",
    "             'label': 'RF5'},\n",
    "            {'id': {'configuration': 'MRBTS-40005070/EQM-1/APEQM-1/CABINET-1/BBMOD-4/RF6',\n",
    "                    'internal': '/MRBTS-1/RAT-1/BTS_L-4/EQM_L-1/CABINET_L-1/BBMOD_L-2/CONNECTOR_L-6',\n",
    "                    'runtime': 'MRBTS-40005070/EQM_R-1/APEQM_R-1/CABINET_R-1/BBMOD_R-1/RF6'},\n",
    "             'label': 'RF6'},\n",
    "            {'id': {'configuration': 'MRBTS-40005070/EQM-1/APEQM-1/CABINET-1/BBMOD-4/SFP-2',\n",
    "                    'internal': '/MRBTS-1/RAT-1/RUNTIME_VIEW-1/MRBTS_R-1/EQM_R-1/APEQM_R-1/CABINET_R-1/BBMOD_R-1/SFP_R-7',\n",
    "                    'runtime': 'MRBTS-40005070/EQM_R-1/APEQM_R-1/CABINET_R-1/BBMOD_R-1/SFP_R-7'},\n",
    "             'label': 'RF7'},\n",
    "            {'id': {'internal': '/MRBTS-1/RAT-1/RUNTIME_VIEW-1/MRBTS_R-1/EQM_R-1/APEQM_R-1/CABINET_R-1/BBMOD_R-1/SFP_R-8',\n",
    "                    'runtime': 'MRBTS-40005070/EQM_R-1/APEQM_R-1/CABINET_R-1/BBMOD_R-1/SFP_R-8'},\n",
    "             'label': 'RF8'},\n",
    "            {'id': {'internal': '/MRBTS-1/RAT-1/RUNTIME_VIEW-1/MRBTS_R-1/EQM_R-1/APEQM_R-1/CABINET_R-1/BBMOD_R-1/SFP_R-9',\n",
    "                    'runtime': 'MRBTS-40005070/EQM_R-1/APEQM_R-1/CABINET_R-1/BBMOD_R-1/SFP_R-9'},\n",
    "             'label': 'RF9'}],\n",
    "  'productCode': '475266A.104',\n",
    "  'productName': 'ABIO AirScale Capacity',\n",
    "  'serialNumber': 'L1214208611',\n",
    "  'status': {'administrativeState': 'Unlocked',\n",
    "             'operationalState': 'enabled',\n",
    "             'proceduralStatus': 'configured',\n",
    "             'usageState': 'Active'}},\n",
    " {'cabinetId': {'configuration': 'MRBTS-40005070/EQM-1/APEQM-1/CABINET-1',\n",
    "                'internal': '/MRBTS-1/RAT-1/RUNTIME_VIEW-1/MRBTS_R-1/EQM_R-1/APEQM_R-1/CABINET_R-1',\n",
    "                'runtime': 'MRBTS-40005070/EQM_R-1/APEQM_R-1/CABINET_R-1'},\n",
    "  'fullCapacityInUse': 'Yes',\n",
    "  'id': {'configuration': 'MRBTS-40005070/EQM-1/APEQM-1/CABINET-1/BBMOD-2',\n",
    "         'internal': '/MRBTS-1/RAT-1/RUNTIME_VIEW-1/MRBTS_R-1/EQM_R-1/APEQM_R-1/CABINET_R-1/BBMOD_R-3',\n",
    "         'runtime': 'MRBTS-40005070/EQM_R-1/APEQM_R-1/CABINET_R-1/BBMOD_R-3'},\n",
    "  'ports': [{'id': {'internal': '/MRBTS-1/RAT-1/RUNTIME_VIEW-1/MRBTS_R-1/EQM_R-1/APEQM_R-1/CABINET_R-1/BBMOD_R-3/SFP_R-1',\n",
    "                    'runtime': 'MRBTS-40005070/EQM_R-1/APEQM_R-1/CABINET_R-1/BBMOD_R-3/SFP_R-1'},\n",
    "             'label': 'RF1'},\n",
    "            {'id': {'internal': '/MRBTS-1/RAT-1/RUNTIME_VIEW-1/MRBTS_R-1/EQM_R-1/APEQM_R-1/CABINET_R-1/BBMOD_R-3/SFP_R-2',\n",
    "                    'runtime': 'MRBTS-40005070/EQM_R-1/APEQM_R-1/CABINET_R-1/BBMOD_R-3/SFP_R-2'},\n",
    "             'label': 'RF2'},\n",
    "            {'id': {'configuration': 'MRBTS-40005070/EQM-1/APEQM-1/CABINET-1/BBMOD-2/SFP-1',\n",
    "                    'internal': '/MRBTS-1/RAT-1/RUNTIME_VIEW-1/MRBTS_R-1/EQM_R-1/APEQM_R-1/CABINET_R-1/BBMOD_R-3/SFP_R-3',\n",
    "                    'runtime': 'MRBTS-40005070/EQM_R-1/APEQM_R-1/CABINET_R-1/BBMOD_R-3/SFP_R-3'},\n",
    "             'label': 'RF3'},\n",
    "            {'id': {'configuration': 'MRBTS-40005070/EQM-1/APEQM-1/CABINET-1/BBMOD-2/RF4',\n",
    "                    'internal': '/MRBTS-1/RAT-1/BTS_L-1/EQM_L-1/CABINET_L-1/BBMOD_L-1/CONNECTOR_L-4',\n",
    "                    'runtime': 'MRBTS-40005070/EQM_R-1/APEQM_R-1/CABINET_R-1/BBMOD_R-3/RF4'},\n",
    "             'label': 'RF4'},\n",
    "            {'id': {'configuration': 'MRBTS-40005070/EQM-1/APEQM-1/CABINET-1/BBMOD-2/RF5',\n",
    "                    'internal': '/MRBTS-1/RAT-1/BTS_L-1/EQM_L-1/CABINET_L-1/BBMOD_L-1/CONNECTOR_L-5',\n",
    "                    'runtime': 'MRBTS-40005070/EQM_R-1/APEQM_R-1/CABINET_R-1/BBMOD_R-3/RF5'},\n",
    "             'label': 'RF5'},\n",
    "            {'id': {'configuration': 'MRBTS-40005070/EQM-1/APEQM-1/CABINET-1/BBMOD-2/RF6',\n",
    "                    'internal': '/MRBTS-1/RAT-1/BTS_L-1/EQM_L-1/CABINET_L-1/BBMOD_L-1/CONNECTOR_L-6',\n",
    "                    'runtime': 'MRBTS-40005070/EQM_R-1/APEQM_R-1/CABINET_R-1/BBMOD_R-3/RF6'},\n",
    "             'label': 'RF6'},\n",
    "            {'id': {'internal': '/MRBTS-1/RAT-1/RUNTIME_VIEW-1/MRBTS_R-1/EQM_R-1/APEQM_R-1/CABINET_R-1/BBMOD_R-3/SFP_R-7',\n",
    "                    'runtime': 'MRBTS-40005070/EQM_R-1/APEQM_R-1/CABINET_R-1/BBMOD_R-3/SFP_R-7'},\n",
    "             'label': 'RF7'},\n",
    "            {'id': {'internal': '/MRBTS-1/RAT-1/RUNTIME_VIEW-1/MRBTS_R-1/EQM_R-1/APEQM_R-1/CABINET_R-1/BBMOD_R-3/SFP_R-8',\n",
    "                    'runtime': 'MRBTS-40005070/EQM_R-1/APEQM_R-1/CABINET_R-1/BBMOD_R-3/SFP_R-8'},\n",
    "             'label': 'RF8'},\n",
    "            {'id': {'configuration': 'MRBTS-40005070/EQM-1/APEQM-1/CABINET-1/BBMOD-2/SFP-2',\n",
    "                    'internal': '/MRBTS-1/RAT-1/RUNTIME_VIEW-1/MRBTS_R-1/EQM_R-1/APEQM_R-1/CABINET_R-1/BBMOD_R-3/SFP_R-9',\n",
    "                    'runtime': 'MRBTS-40005070/EQM_R-1/APEQM_R-1/CABINET_R-1/BBMOD_R-3/SFP_R-9'},\n",
    "             'label': 'RF9'}],\n",
    "  'productCode': '475266A.103',\n",
    "  'productName': 'ABIO AirScale Capacity',\n",
    "  'serialNumber': 'L1211602568',\n",
    "  'status': {'administrativeState': 'Unlocked',\n",
    "             'operationalState': 'enabled',\n",
    "             'proceduralStatus': 'configured',\n",
    "             'usageState': 'Active'}},\n",
    " {'cabinetId': {'configuration': 'MRBTS-40005070/EQM-1/APEQM-1/CABINET-1',\n",
    "                'internal': '/MRBTS-1/RAT-1/RUNTIME_VIEW-1/MRBTS_R-1/EQM_R-1/APEQM_R-1/CABINET_R-1',\n",
    "                'runtime': 'MRBTS-40005070/EQM_R-1/APEQM_R-1/CABINET_R-1'},\n",
    "  'fullCapacityInUse': 'Yes',\n",
    "  'id': {'configuration': 'MRBTS-40005070/EQM-1/APEQM-1/CABINET-1/BBMOD-1',\n",
    "         'internal': '/MRBTS-1/RAT-1/RUNTIME_VIEW-1/MRBTS_R-1/EQM_R-1/APEQM_R-1/CABINET_R-1/BBMOD_R-4',\n",
    "         'runtime': 'MRBTS-40005070/EQM_R-1/APEQM_R-1/CABINET_R-1/BBMOD_R-4'},\n",
    "  'ports': [{'id': {'internal': '/MRBTS-1/RAT-1/RUNTIME_VIEW-1/MRBTS_R-1/EQM_R-1/APEQM_R-1/CABINET_R-1/BBMOD_R-4/SFP_R-1',\n",
    "                    'runtime': 'MRBTS-40005070/EQM_R-1/APEQM_R-1/CABINET_R-1/BBMOD_R-4/SFP_R-1'},\n",
    "             'label': 'RF1'},\n",
    "            {'id': {'internal': '/MRBTS-1/RAT-1/RUNTIME_VIEW-1/MRBTS_R-1/EQM_R-1/APEQM_R-1/CABINET_R-1/BBMOD_R-4/SFP_R-2',\n",
    "                    'runtime': 'MRBTS-40005070/EQM_R-1/APEQM_R-1/CABINET_R-1/BBMOD_R-4/SFP_R-2'},\n",
    "             'label': 'RF2'},\n",
    "            {'id': {'internal': '/MRBTS-1/RAT-1/RUNTIME_VIEW-1/MRBTS_R-1/EQM_R-1/APEQM_R-1/CABINET_R-1/BBMOD_R-4/SFP_R-3',\n",
    "                    'runtime': 'MRBTS-40005070/EQM_R-1/APEQM_R-1/CABINET_R-1/BBMOD_R-4/SFP_R-3'},\n",
    "             'label': 'RF3'},\n",
    "            {'id': {'configuration': 'MRBTS-40005070/EQM-1/APEQM-1/CABINET-1/BBMOD-1/RF4',\n",
    "                    'internal': '/MRBTS-1/RAT-1/BTS_L-1/EQM_L-1/CABINET_L-1/BBMOD_L-2/CONNECTOR_L-4',\n",
    "                    'runtime': 'MRBTS-40005070/EQM_R-1/APEQM_R-1/CABINET_R-1/BBMOD_R-4/RF4'},\n",
    "             'label': 'RF4'},\n",
    "            {'id': {'configuration': 'MRBTS-40005070/EQM-1/APEQM-1/CABINET-1/BBMOD-1/RF5',\n",
    "                    'internal': '/MRBTS-1/RAT-1/BTS_L-1/EQM_L-1/CABINET_L-1/BBMOD_L-2/CONNECTOR_L-5',\n",
    "                    'runtime': 'MRBTS-40005070/EQM_R-1/APEQM_R-1/CABINET_R-1/BBMOD_R-4/RF5'},\n",
    "             'label': 'RF5'},\n",
    "            {'id': {'configuration': 'MRBTS-40005070/EQM-1/APEQM-1/CABINET-1/BBMOD-1/RF6',\n",
    "                    'internal': '/MRBTS-1/RAT-1/BTS_L-1/EQM_L-1/CABINET_L-1/BBMOD_L-2/CONNECTOR_L-6',\n",
    "                    'runtime': 'MRBTS-40005070/EQM_R-1/APEQM_R-1/CABINET_R-1/BBMOD_R-4/RF6'},\n",
    "             'label': 'RF6'},\n",
    "            {'id': {'internal': '/MRBTS-1/RAT-1/RUNTIME_VIEW-1/MRBTS_R-1/EQM_R-1/APEQM_R-1/CABINET_R-1/BBMOD_R-4/SFP_R-7',\n",
    "                    'runtime': 'MRBTS-40005070/EQM_R-1/APEQM_R-1/CABINET_R-1/BBMOD_R-4/SFP_R-7'},\n",
    "             'label': 'RF7'},\n",
    "            {'id': {'internal': '/MRBTS-1/RAT-1/RUNTIME_VIEW-1/MRBTS_R-1/EQM_R-1/APEQM_R-1/CABINET_R-1/BBMOD_R-4/SFP_R-8',\n",
    "                    'runtime': 'MRBTS-40005070/EQM_R-1/APEQM_R-1/CABINET_R-1/BBMOD_R-4/SFP_R-8'},\n",
    "             'label': 'RF8'},\n",
    "            {'id': {'internal': '/MRBTS-1/RAT-1/RUNTIME_VIEW-1/MRBTS_R-1/EQM_R-1/APEQM_R-1/CABINET_R-1/BBMOD_R-4/SFP_R-9',\n",
    "                    'runtime': 'MRBTS-40005070/EQM_R-1/APEQM_R-1/CABINET_R-1/BBMOD_R-4/SFP_R-9'},\n",
    "             'label': 'RF9'}],\n",
    "  'productCode': '475266A.103',\n",
    "  'productName': 'ABIO AirScale Capacity',\n",
    "  'serialNumber': 'L1211604248',\n",
    "  'status': {'administrativeState': 'Unlocked',\n",
    "             'operationalState': 'enabled',\n",
    "             'proceduralStatus': 'configured',\n",
    "             'usageState': 'Active'}},\n",
    " {'cabinetId': {'configuration': 'MRBTS-40005070/EQM-1/APEQM-1/CABINET-1',\n",
    "                'internal': '/MRBTS-1/RAT-1/RUNTIME_VIEW-1/MRBTS_R-1/EQM_R-1/APEQM_R-1/CABINET_R-1',\n",
    "                'runtime': 'MRBTS-40005070/EQM_R-1/APEQM_R-1/CABINET_R-1'},\n",
    "  'fullCapacityInUse': 'Yes',\n",
    "  'id': {'configuration': 'MRBTS-40005070/EQM-1/APEQM-1/CABINET-1/BBMOD-3',\n",
    "         'internal': '/MRBTS-1/RAT-1/RUNTIME_VIEW-1/MRBTS_R-1/EQM_R-1/APEQM_R-1/CABINET_R-1/BBMOD_R-5',\n",
    "         'runtime': 'MRBTS-40005070/EQM_R-1/APEQM_R-1/CABINET_R-1/BBMOD_R-5'},\n",
    "  'ports': [{'id': {'internal': '/MRBTS-1/RAT-1/RUNTIME_VIEW-1/MRBTS_R-1/EQM_R-1/APEQM_R-1/CABINET_R-1/BBMOD_R-5/SFP_R-1',\n",
    "                    'runtime': 'MRBTS-40005070/EQM_R-1/APEQM_R-1/CABINET_R-1/BBMOD_R-5/SFP_R-1'},\n",
    "             'label': 'RF1'},\n",
    "            {'id': {'internal': '/MRBTS-1/RAT-1/RUNTIME_VIEW-1/MRBTS_R-1/EQM_R-1/APEQM_R-1/CABINET_R-1/BBMOD_R-5/SFP_R-2',\n",
    "                    'runtime': 'MRBTS-40005070/EQM_R-1/APEQM_R-1/CABINET_R-1/BBMOD_R-5/SFP_R-2'},\n",
    "             'label': 'RF2'},\n",
    "            {'id': {'configuration': 'MRBTS-40005070/EQM-1/APEQM-1/CABINET-1/BBMOD-3/SFP-1',\n",
    "                    'internal': '/MRBTS-1/RAT-1/RUNTIME_VIEW-1/MRBTS_R-1/EQM_R-1/APEQM_R-1/CABINET_R-1/BBMOD_R-5/SFP_R-3',\n",
    "                    'runtime': 'MRBTS-40005070/EQM_R-1/APEQM_R-1/CABINET_R-1/BBMOD_R-5/SFP_R-3'},\n",
    "             'label': 'RF3'},\n",
    "            {'id': {'internal': '/MRBTS-1/RAT-1/RUNTIME_VIEW-1/MRBTS_R-1/EQM_R-1/APEQM_R-1/CABINET_R-1/BBMOD_R-5/SFP_R-4',\n",
    "                    'runtime': 'MRBTS-40005070/EQM_R-1/APEQM_R-1/CABINET_R-1/BBMOD_R-5/SFP_R-4'},\n",
    "             'label': 'RF4'},\n",
    "            {'id': {'configuration': 'MRBTS-40005070/EQM-1/APEQM-1/CABINET-1/BBMOD-3/RF5',\n",
    "                    'internal': '/MRBTS-1/RAT-1/BTS_L-1/EQM_L-1/CABINET_L-1/BBMOD_L-3/CONNECTOR_L-5',\n",
    "                    'runtime': 'MRBTS-40005070/EQM_R-1/APEQM_R-1/CABINET_R-1/BBMOD_R-5/RF5'},\n",
    "             'label': 'RF5'},\n",
    "            {'id': {'internal': '/MRBTS-1/RAT-1/RUNTIME_VIEW-1/MRBTS_R-1/EQM_R-1/APEQM_R-1/CABINET_R-1/BBMOD_R-5/SFP_R-6',\n",
    "                    'runtime': 'MRBTS-40005070/EQM_R-1/APEQM_R-1/CABINET_R-1/BBMOD_R-5/SFP_R-6'},\n",
    "             'label': 'RF6'}],\n",
    "  'productCode': '473096A.102',\n",
    "  'productName': 'ABIA AirScale Capacity',\n",
    "  'serialNumber': 'L1171013368',\n",
    "  'status': {'administrativeState': 'Unlocked',\n",
    "             'operationalState': 'enabled',\n",
    "             'proceduralStatus': 'configured',\n",
    "             'usageState': 'Active'}},\n",
    " {'cabinetId': {'configuration': 'MRBTS-40005070/EQM-1/APEQM-1/CABINET-1',\n",
    "                'internal': '/MRBTS-1/RAT-1/RUNTIME_VIEW-1/MRBTS_R-1/EQM_R-1/APEQM_R-1/CABINET_R-1',\n",
    "                'runtime': 'MRBTS-40005070/EQM_R-1/APEQM_R-1/CABINET_R-1'},\n",
    "  'fullCapacityInUse': 'Yes',\n",
    "  'id': {'configuration': 'MRBTS-40005070/EQM-1/APEQM-1/CABINET-1/BBMOD-5',\n",
    "         'internal': '/MRBTS-1/RAT-1/RUNTIME_VIEW-1/MRBTS_R-1/EQM_R-1/APEQM_R-1/CABINET_R-1/BBMOD_R-2',\n",
    "         'runtime': 'MRBTS-40005070/EQM_R-1/APEQM_R-1/CABINET_R-1/BBMOD_R-2'},\n",
    "  'ports': [{'id': {'configuration': 'MRBTS-40005070/EQM-1/APEQM-1/CABINET-1/BBMOD-5/SFP-1',\n",
    "                    'internal': '/MRBTS-1/RAT-1/RUNTIME_VIEW-1/MRBTS_R-1/EQM_R-1/APEQM_R-1/CABINET_R-1/BBMOD_R-2/SFP_R-1',\n",
    "                    'runtime': 'MRBTS-40005070/EQM_R-1/APEQM_R-1/CABINET_R-1/BBMOD_R-2/SFP_R-1'},\n",
    "             'label': 'RF1'},\n",
    "            {'id': {'internal': '/MRBTS-1/RAT-1/RUNTIME_VIEW-1/MRBTS_R-1/EQM_R-1/APEQM_R-1/CABINET_R-1/BBMOD_R-2/SFP_R-2',\n",
    "                    'runtime': 'MRBTS-40005070/EQM_R-1/APEQM_R-1/CABINET_R-1/BBMOD_R-2/SFP_R-2'},\n",
    "             'label': 'RF2'},\n",
    "            {'id': {'internal': '/MRBTS-1/RAT-1/RUNTIME_VIEW-1/MRBTS_R-1/EQM_R-1/APEQM_R-1/CABINET_R-1/BBMOD_R-2/SFP_R-3',\n",
    "                    'runtime': 'MRBTS-40005070/EQM_R-1/APEQM_R-1/CABINET_R-1/BBMOD_R-2/SFP_R-3'},\n",
    "             'label': 'RF3'},\n",
    "            {'id': {'configuration': 'MRBTS-40005070/EQM-1/APEQM-1/CABINET-1/BBMOD-5/RF4',\n",
    "                    'internal': '/MRBTS-1/RAT-1/BTS_L-4/EQM_L-1/CABINET_L-1/BBMOD_L-1/CONNECTOR_L-4',\n",
    "                    'runtime': 'MRBTS-40005070/EQM_R-1/APEQM_R-1/CABINET_R-1/BBMOD_R-2/RF4'},\n",
    "             'label': 'RF4'},\n",
    "            {'id': {'configuration': 'MRBTS-40005070/EQM-1/APEQM-1/CABINET-1/BBMOD-5/RF5',\n",
    "                    'internal': '/MRBTS-1/RAT-1/BTS_L-4/EQM_L-1/CABINET_L-1/BBMOD_L-1/CONNECTOR_L-5',\n",
    "                    'runtime': 'MRBTS-40005070/EQM_R-1/APEQM_R-1/CABINET_R-1/BBMOD_R-2/RF5'},\n",
    "             'label': 'RF5'},\n",
    "            {'id': {'configuration': 'MRBTS-40005070/EQM-1/APEQM-1/CABINET-1/BBMOD-5/RF6',\n",
    "                    'internal': '/MRBTS-1/RAT-1/BTS_L-4/EQM_L-1/CABINET_L-1/BBMOD_L-1/CONNECTOR_L-6',\n",
    "                    'runtime': 'MRBTS-40005070/EQM_R-1/APEQM_R-1/CABINET_R-1/BBMOD_R-2/RF6'},\n",
    "             'label': 'RF6'},\n",
    "            {'id': {'configuration': 'MRBTS-40005070/EQM-1/APEQM-1/CABINET-1/BBMOD-5/SFP-2',\n",
    "                    'internal': '/MRBTS-1/RAT-1/RUNTIME_VIEW-1/MRBTS_R-1/EQM_R-1/APEQM_R-1/CABINET_R-1/BBMOD_R-2/SFP_R-7',\n",
    "                    'runtime': 'MRBTS-40005070/EQM_R-1/APEQM_R-1/CABINET_R-1/BBMOD_R-2/SFP_R-7'},\n",
    "             'label': 'RF7'},\n",
    "            {'id': {'internal': '/MRBTS-1/RAT-1/RUNTIME_VIEW-1/MRBTS_R-1/EQM_R-1/APEQM_R-1/CABINET_R-1/BBMOD_R-2/SFP_R-8',\n",
    "                    'runtime': 'MRBTS-40005070/EQM_R-1/APEQM_R-1/CABINET_R-1/BBMOD_R-2/SFP_R-8'},\n",
    "             'label': 'RF8'},\n",
    "            {'id': {'internal': '/MRBTS-1/RAT-1/RUNTIME_VIEW-1/MRBTS_R-1/EQM_R-1/APEQM_R-1/CABINET_R-1/BBMOD_R-2/SFP_R-9',\n",
    "                    'runtime': 'MRBTS-40005070/EQM_R-1/APEQM_R-1/CABINET_R-1/BBMOD_R-2/SFP_R-9'},\n",
    "             'label': 'RF9'}],\n",
    "  'productCode': '475266A.103',\n",
    "  'productName': 'ABIO AirScale Capacity',\n",
    "  'serialNumber': 'L1211604233',\n",
    "  'status': {'administrativeState': 'Unlocked',\n",
    "             'operationalState': 'enabled',\n",
    "             'proceduralStatus': 'configured',\n",
    "             'usageState': 'Active'}}]"
   ]
  },
  {
   "cell_type": "code",
   "execution_count": 7,
   "id": "d20caa4c",
   "metadata": {},
   "outputs": [],
   "source": [
    "mod= next((m[\"id\"][\"configuration\"] for m in bbmod_list if m[\"id\"][\"configuration\"].rpartition(\"-\")[-1] == '5'), None)"
   ]
  },
  {
   "cell_type": "code",
   "execution_count": null,
   "id": "089bb5bf",
   "metadata": {},
   "outputs": [],
   "source": []
  },
  {
   "cell_type": "code",
   "execution_count": 8,
   "id": "91305730",
   "metadata": {},
   "outputs": [
    {
     "name": "stdout",
     "output_type": "stream",
     "text": [
      "MRBTS-40005070/EQM-1/APEQM-1/CABINET-1/BBMOD-5\n"
     ]
    }
   ],
   "source": [
    "print(mod)"
   ]
  },
  {
   "cell_type": "code",
   "execution_count": 15,
   "id": "1dd91dca",
   "metadata": {},
   "outputs": [],
   "source": [
    "module_list =[{'cabinetId': {'configuration': 'MRBTS-4004880/EQM-1/APEQM-1/CABINET-1',\n",
    "                'internal': '/MRBTS-1/RAT-1/RUNTIME_VIEW-1/MRBTS_R-1/EQM_R-1/APEQM_R-1/CABINET_R-1',\n",
    "                'runtime': 'MRBTS-4004880/EQM_R-1/APEQM_R-1/CABINET_R-1'},\n",
    "  'fullCapacityInUse': 'Yes',\n",
    "  'id': {'configuration': 'MRBTS-4004880/EQM-1/APEQM-1/CABINET-1/BBMOD-4',\n",
    "         'internal': '/MRBTS-1/RAT-1/RUNTIME_VIEW-1/MRBTS_R-1/EQM_R-1/APEQM_R-1/CABINET_R-1/BBMOD_R-1',\n",
    "         'runtime': 'MRBTS-4004880/EQM_R-1/APEQM_R-1/CABINET_R-1/BBMOD_R-1'},\n",
    "  'ports': [{'id': {'internal': '/MRBTS-1/RAT-1/RUNTIME_VIEW-1/MRBTS_R-1/EQM_R-1/APEQM_R-1/CABINET_R-1/BBMOD_R-1/SFP_R-1',\n",
    "                    'runtime': 'MRBTS-4004880/EQM_R-1/APEQM_R-1/CABINET_R-1/BBMOD_R-1/SFP_R-1'},\n",
    "             'label': 'RF1'},\n",
    "            {'id': {'configuration': 'MRBTS-4004880/EQM-1/APEQM-1/CABINET-1/BBMOD-4/RF2',\n",
    "                    'internal': '/MRBTS-1/RAT-1/BTS_L-4/EQM_L-1/CABINET_L-1/BBMOD_L-1/CONNECTOR_L-2',\n",
    "                    'runtime': 'MRBTS-4004880/EQM_R-1/APEQM_R-1/CABINET_R-1/BBMOD_R-1/RF2'},\n",
    "             'label': 'RF2'},\n",
    "            {'id': {'configuration': 'MRBTS-4004880/EQM-1/APEQM-1/CABINET-1/BBMOD-4/RF3',\n",
    "                    'internal': '/MRBTS-1/RAT-1/BTS_L-4/EQM_L-1/CABINET_L-1/BBMOD_L-1/CONNECTOR_L-3',\n",
    "                    'runtime': 'MRBTS-4004880/EQM_R-1/APEQM_R-1/CABINET_R-1/BBMOD_R-1/RF3'},\n",
    "             'label': 'RF3'},\n",
    "            {'id': {'configuration': 'MRBTS-4004880/EQM-1/APEQM-1/CABINET-1/BBMOD-4/RF4',\n",
    "                    'internal': '/MRBTS-1/RAT-1/BTS_L-4/EQM_L-1/CABINET_L-1/BBMOD_L-1/CONNECTOR_L-4',\n",
    "                    'runtime': 'MRBTS-4004880/EQM_R-1/APEQM_R-1/CABINET_R-1/BBMOD_R-1/RF4'},\n",
    "             'label': 'RF4'},\n",
    "            {'id': {'configuration': 'MRBTS-4004880/EQM-1/APEQM-1/CABINET-1/BBMOD-4/RF5',\n",
    "                    'internal': '/MRBTS-1/RAT-1/BTS_L-4/EQM_L-1/CABINET_L-1/BBMOD_L-1/CONNECTOR_L-5',\n",
    "                    'runtime': 'MRBTS-4004880/EQM_R-1/APEQM_R-1/CABINET_R-1/BBMOD_R-1/RF5'},\n",
    "             'label': 'RF5'},\n",
    "            {'id': {'configuration': 'MRBTS-4004880/EQM-1/APEQM-1/CABINET-1/BBMOD-4/RF6',\n",
    "                    'internal': '/MRBTS-1/RAT-1/BTS_L-4/EQM_L-1/CABINET_L-1/BBMOD_L-1/CONNECTOR_L-6',\n",
    "                    'runtime': 'MRBTS-4004880/EQM_R-1/APEQM_R-1/CABINET_R-1/BBMOD_R-1/RF6'},\n",
    "             'label': 'RF6'},\n",
    "            {'id': {'internal': '/MRBTS-1/RAT-1/RUNTIME_VIEW-1/MRBTS_R-1/EQM_R-1/APEQM_R-1/CABINET_R-1/BBMOD_R-1/SFP_R-7',\n",
    "                    'runtime': 'MRBTS-4004880/EQM_R-1/APEQM_R-1/CABINET_R-1/BBMOD_R-1/SFP_R-7'},\n",
    "             'label': 'RF7'},\n",
    "            {'id': {'configuration': 'MRBTS-4004880/EQM-1/APEQM-1/CABINET-1/BBMOD-4/RF8',\n",
    "                    'internal': '/MRBTS-1/RAT-1/BTS_L-4/EQM_L-1/CABINET_L-1/BBMOD_L-1/CONNECTOR_L-8',\n",
    "                    'runtime': 'MRBTS-4004880/EQM_R-1/APEQM_R-1/CABINET_R-1/BBMOD_R-1/RF8'},\n",
    "             'label': 'RF8'},\n",
    "            {'id': {'configuration': 'MRBTS-4004880/EQM-1/APEQM-1/CABINET-1/BBMOD-4/RF9',\n",
    "                    'internal': '/MRBTS-1/RAT-1/BTS_L-4/EQM_L-1/CABINET_L-1/BBMOD_L-1/CONNECTOR_L-9',\n",
    "                    'runtime': 'MRBTS-4004880/EQM_R-1/APEQM_R-1/CABINET_R-1/BBMOD_R-1/RF9'},\n",
    "             'label': 'RF9'}],\n",
    "  'productCode': '475266A.104',\n",
    "  'productName': 'ABIO AirScale Capacity',\n",
    "  'serialNumber': 'L1214403554',\n",
    "  'status': {'administrativeState': 'Unlocked',\n",
    "             'operationalState': 'enabled',\n",
    "             'proceduralStatus': 'configured',\n",
    "             'usageState': 'Active'}},\n",
    " {'cabinetId': {'configuration': 'MRBTS-4004880/EQM-1/APEQM-1/CABINET-1',\n",
    "                'internal': '/MRBTS-1/RAT-1/RUNTIME_VIEW-1/MRBTS_R-1/EQM_R-1/APEQM_R-1/CABINET_R-1',\n",
    "                'runtime': 'MRBTS-4004880/EQM_R-1/APEQM_R-1/CABINET_R-1'},\n",
    "  'fullCapacityInUse': 'Yes',\n",
    "  'id': {'configuration': 'MRBTS-4004880/EQM-1/APEQM-1/CABINET-1/BBMOD-1',\n",
    "         'internal': '/MRBTS-1/RAT-1/RUNTIME_VIEW-1/MRBTS_R-1/EQM_R-1/APEQM_R-1/CABINET_R-1/BBMOD_R-4',\n",
    "         'runtime': 'MRBTS-4004880/EQM_R-1/APEQM_R-1/CABINET_R-1/BBMOD_R-4'},\n",
    "  'ports': [{'id': {'internal': '/MRBTS-1/RAT-1/RUNTIME_VIEW-1/MRBTS_R-1/EQM_R-1/APEQM_R-1/CABINET_R-1/BBMOD_R-4/SFP_R-1',\n",
    "                    'runtime': 'MRBTS-4004880/EQM_R-1/APEQM_R-1/CABINET_R-1/BBMOD_R-4/SFP_R-1'},\n",
    "             'label': 'RF1'},\n",
    "            {'id': {'internal': '/MRBTS-1/RAT-1/RUNTIME_VIEW-1/MRBTS_R-1/EQM_R-1/APEQM_R-1/CABINET_R-1/BBMOD_R-4/SFP_R-2',\n",
    "                    'runtime': 'MRBTS-4004880/EQM_R-1/APEQM_R-1/CABINET_R-1/BBMOD_R-4/SFP_R-2'},\n",
    "             'label': 'RF2'},\n",
    "            {'id': {'internal': '/MRBTS-1/RAT-1/RUNTIME_VIEW-1/MRBTS_R-1/EQM_R-1/APEQM_R-1/CABINET_R-1/BBMOD_R-4/SFP_R-3',\n",
    "                    'runtime': 'MRBTS-4004880/EQM_R-1/APEQM_R-1/CABINET_R-1/BBMOD_R-4/SFP_R-3'},\n",
    "             'label': 'RF3'},\n",
    "            {'id': {'configuration': 'MRBTS-4004880/EQM-1/APEQM-1/CABINET-1/BBMOD-1/RF4',\n",
    "                    'internal': '/MRBTS-1/RAT-1/BTS_L-1/EQM_L-1/CABINET_L-1/BBMOD_L-2/CONNECTOR_L-4',\n",
    "                    'runtime': 'MRBTS-4004880/EQM_R-1/APEQM_R-1/CABINET_R-1/BBMOD_R-4/RF4'},\n",
    "             'label': 'RF4'},\n",
    "            {'id': {'configuration': 'MRBTS-4004880/EQM-1/APEQM-1/CABINET-1/BBMOD-1/RF5',\n",
    "                    'internal': '/MRBTS-1/RAT-1/BTS_L-1/EQM_L-1/CABINET_L-1/BBMOD_L-2/CONNECTOR_L-5',\n",
    "                    'runtime': 'MRBTS-4004880/EQM_R-1/APEQM_R-1/CABINET_R-1/BBMOD_R-4/RF5'},\n",
    "             'label': 'RF5'},\n",
    "            {'id': {'configuration': 'MRBTS-4004880/EQM-1/APEQM-1/CABINET-1/BBMOD-1/RF6',\n",
    "                    'internal': '/MRBTS-1/RAT-1/BTS_L-1/EQM_L-1/CABINET_L-1/BBMOD_L-2/CONNECTOR_L-6',\n",
    "                    'runtime': 'MRBTS-4004880/EQM_R-1/APEQM_R-1/CABINET_R-1/BBMOD_R-4/RF6'},\n",
    "             'label': 'RF6'},\n",
    "            {'id': {'internal': '/MRBTS-1/RAT-1/RUNTIME_VIEW-1/MRBTS_R-1/EQM_R-1/APEQM_R-1/CABINET_R-1/BBMOD_R-4/SFP_R-7',\n",
    "                    'runtime': 'MRBTS-4004880/EQM_R-1/APEQM_R-1/CABINET_R-1/BBMOD_R-4/SFP_R-7'},\n",
    "             'label': 'RF7'},\n",
    "            {'id': {'internal': '/MRBTS-1/RAT-1/RUNTIME_VIEW-1/MRBTS_R-1/EQM_R-1/APEQM_R-1/CABINET_R-1/BBMOD_R-4/SFP_R-8',\n",
    "                    'runtime': 'MRBTS-4004880/EQM_R-1/APEQM_R-1/CABINET_R-1/BBMOD_R-4/SFP_R-8'},\n",
    "             'label': 'RF8'},\n",
    "            {'id': {'internal': '/MRBTS-1/RAT-1/RUNTIME_VIEW-1/MRBTS_R-1/EQM_R-1/APEQM_R-1/CABINET_R-1/BBMOD_R-4/SFP_R-9',\n",
    "                    'runtime': 'MRBTS-4004880/EQM_R-1/APEQM_R-1/CABINET_R-1/BBMOD_R-4/SFP_R-9'},\n",
    "             'label': 'RF9'}],\n",
    "  'productCode': '475266A.104',\n",
    "  'productName': 'ABIO AirScale Capacity',\n",
    "  'serialNumber': 'L1214403610',\n",
    "  'status': {'administrativeState': 'Unlocked',\n",
    "             'operationalState': 'enabled',\n",
    "             'proceduralStatus': 'configured',\n",
    "             'usageState': 'Active'}},\n",
    " {'cabinetId': {'configuration': 'MRBTS-4004880/EQM-1/APEQM-1/CABINET-1',\n",
    "                'internal': '/MRBTS-1/RAT-1/RUNTIME_VIEW-1/MRBTS_R-1/EQM_R-1/APEQM_R-1/CABINET_R-1',\n",
    "                'runtime': 'MRBTS-4004880/EQM_R-1/APEQM_R-1/CABINET_R-1'},\n",
    "  'fullCapacityInUse': 'Yes',\n",
    "  'id': {'configuration': 'MRBTS-4004880/EQM-1/APEQM-1/CABINET-1/BBMOD-3',\n",
    "         'internal': '/MRBTS-1/RAT-1/RUNTIME_VIEW-1/MRBTS_R-1/EQM_R-1/APEQM_R-1/CABINET_R-1/BBMOD_R-5',\n",
    "         'runtime': 'MRBTS-4004880/EQM_R-1/APEQM_R-1/CABINET_R-1/BBMOD_R-5'},\n",
    "  'ports': [{'id': {'internal': '/MRBTS-1/RAT-1/RUNTIME_VIEW-1/MRBTS_R-1/EQM_R-1/APEQM_R-1/CABINET_R-1/BBMOD_R-5/SFP_R-1',\n",
    "                    'runtime': 'MRBTS-4004880/EQM_R-1/APEQM_R-1/CABINET_R-1/BBMOD_R-5/SFP_R-1'},\n",
    "             'label': 'RF1'},\n",
    "            {'id': {'internal': '/MRBTS-1/RAT-1/RUNTIME_VIEW-1/MRBTS_R-1/EQM_R-1/APEQM_R-1/CABINET_R-1/BBMOD_R-5/SFP_R-2',\n",
    "                    'runtime': 'MRBTS-4004880/EQM_R-1/APEQM_R-1/CABINET_R-1/BBMOD_R-5/SFP_R-2'},\n",
    "             'label': 'RF2'},\n",
    "            {'id': {'internal': '/MRBTS-1/RAT-1/RUNTIME_VIEW-1/MRBTS_R-1/EQM_R-1/APEQM_R-1/CABINET_R-1/BBMOD_R-5/SFP_R-3',\n",
    "                    'runtime': 'MRBTS-4004880/EQM_R-1/APEQM_R-1/CABINET_R-1/BBMOD_R-5/SFP_R-3'},\n",
    "             'label': 'RF3'},\n",
    "            {'id': {'configuration': 'MRBTS-4004880/EQM-1/APEQM-1/CABINET-1/BBMOD-3/RF4',\n",
    "                    'internal': '/MRBTS-1/RAT-1/BTS_L-1/EQM_L-1/CABINET_L-1/BBMOD_L-3/CONNECTOR_L-4',\n",
    "                    'runtime': 'MRBTS-4004880/EQM_R-1/APEQM_R-1/CABINET_R-1/BBMOD_R-5/RF4'},\n",
    "             'label': 'RF4'},\n",
    "            {'id': {'configuration': 'MRBTS-4004880/EQM-1/APEQM-1/CABINET-1/BBMOD-3/RF5',\n",
    "                    'internal': '/MRBTS-1/RAT-1/BTS_L-1/EQM_L-1/CABINET_L-1/BBMOD_L-3/CONNECTOR_L-5',\n",
    "                    'runtime': 'MRBTS-4004880/EQM_R-1/APEQM_R-1/CABINET_R-1/BBMOD_R-5/RF5'},\n",
    "             'label': 'RF5'},\n",
    "            {'id': {'configuration': 'MRBTS-4004880/EQM-1/APEQM-1/CABINET-1/BBMOD-3/RF6',\n",
    "                    'internal': '/MRBTS-1/RAT-1/BTS_L-1/EQM_L-1/CABINET_L-1/BBMOD_L-3/CONNECTOR_L-6',\n",
    "                    'runtime': 'MRBTS-4004880/EQM_R-1/APEQM_R-1/CABINET_R-1/BBMOD_R-5/RF6'},\n",
    "             'label': 'RF6'}],\n",
    "  'productCode': '473096A.103',\n",
    "  'productName': 'ABIA AirScale Capacity',\n",
    "  'serialNumber': 'AH181111039',\n",
    "  'status': {'administrativeState': 'Unlocked',\n",
    "             'operationalState': 'enabled',\n",
    "             'proceduralStatus': 'configured',\n",
    "             'usageState': 'Active'}},\n",
    " {'cabinetId': {'configuration': 'MRBTS-4004880/EQM-1/APEQM-1/CABINET-1',\n",
    "                'internal': '/MRBTS-1/RAT-1/RUNTIME_VIEW-1/MRBTS_R-1/EQM_R-1/APEQM_R-1/CABINET_R-1',\n",
    "                'runtime': 'MRBTS-4004880/EQM_R-1/APEQM_R-1/CABINET_R-1'},\n",
    "  'fullCapacityInUse': 'Yes',\n",
    "  'id': {'configuration': 'MRBTS-4004880/EQM-1/APEQM-1/CABINET-1/BBMOD-5',\n",
    "         'internal': '/MRBTS-1/RAT-1/RUNTIME_VIEW-1/MRBTS_R-1/EQM_R-1/APEQM_R-1/CABINET_R-1/BBMOD_R-2',\n",
    "         'runtime': 'MRBTS-4004880/EQM_R-1/APEQM_R-1/CABINET_R-1/BBMOD_R-2'},\n",
    "  'ports': [{'id': {'internal': '/MRBTS-1/RAT-1/RUNTIME_VIEW-1/MRBTS_R-1/EQM_R-1/APEQM_R-1/CABINET_R-1/BBMOD_R-2/SFP_R-1',\n",
    "                    'runtime': 'MRBTS-4004880/EQM_R-1/APEQM_R-1/CABINET_R-1/BBMOD_R-2/SFP_R-1'},\n",
    "             'label': 'RF1'},\n",
    "            {'id': {'configuration': 'MRBTS-4004880/EQM-1/APEQM-1/CABINET-1/BBMOD-5/RF2',\n",
    "                    'internal': '/MRBTS-1/RAT-1/BTS_L-4/EQM_L-1/CABINET_L-1/BBMOD_L-2/CONNECTOR_L-2',\n",
    "                    'runtime': 'MRBTS-4004880/EQM_R-1/APEQM_R-1/CABINET_R-1/BBMOD_R-2/RF2'},\n",
    "             'label': 'RF2'},\n",
    "            {'id': {'configuration': 'MRBTS-4004880/EQM-1/APEQM-1/CABINET-1/BBMOD-5/RF3',\n",
    "                    'internal': '/MRBTS-1/RAT-1/BTS_L-4/EQM_L-1/CABINET_L-1/BBMOD_L-2/CONNECTOR_L-3',\n",
    "                    'runtime': 'MRBTS-4004880/EQM_R-1/APEQM_R-1/CABINET_R-1/BBMOD_R-2/RF3'},\n",
    "             'label': 'RF3'},\n",
    "            {'id': {'configuration': 'MRBTS-4004880/EQM-1/APEQM-1/CABINET-1/BBMOD-5/RF4',\n",
    "                    'internal': '/MRBTS-1/RAT-1/BTS_L-4/EQM_L-1/CABINET_L-1/BBMOD_L-2/CONNECTOR_L-4',\n",
    "                    'runtime': 'MRBTS-4004880/EQM_R-1/APEQM_R-1/CABINET_R-1/BBMOD_R-2/RF4'},\n",
    "             'label': 'RF4'},\n",
    "            {'id': {'configuration': 'MRBTS-4004880/EQM-1/APEQM-1/CABINET-1/BBMOD-5/RF5',\n",
    "                    'internal': '/MRBTS-1/RAT-1/BTS_L-4/EQM_L-1/CABINET_L-1/BBMOD_L-2/CONNECTOR_L-5',\n",
    "                    'runtime': 'MRBTS-4004880/EQM_R-1/APEQM_R-1/CABINET_R-1/BBMOD_R-2/RF5'},\n",
    "             'label': 'RF5'},\n",
    "            {'id': {'configuration': 'MRBTS-4004880/EQM-1/APEQM-1/CABINET-1/BBMOD-5/RF6',\n",
    "                    'internal': '/MRBTS-1/RAT-1/BTS_L-4/EQM_L-1/CABINET_L-1/BBMOD_L-2/CONNECTOR_L-6',\n",
    "                    'runtime': 'MRBTS-4004880/EQM_R-1/APEQM_R-1/CABINET_R-1/BBMOD_R-2/RF6'},\n",
    "             'label': 'RF6'},\n",
    "            {'id': {'internal': '/MRBTS-1/RAT-1/RUNTIME_VIEW-1/MRBTS_R-1/EQM_R-1/APEQM_R-1/CABINET_R-1/BBMOD_R-2/SFP_R-7',\n",
    "                    'runtime': 'MRBTS-4004880/EQM_R-1/APEQM_R-1/CABINET_R-1/BBMOD_R-2/SFP_R-7'},\n",
    "             'label': 'RF7'},\n",
    "            {'id': {'configuration': 'MRBTS-4004880/EQM-1/APEQM-1/CABINET-1/BBMOD-5/RF8',\n",
    "                    'internal': '/MRBTS-1/RAT-1/BTS_L-4/EQM_L-1/CABINET_L-1/BBMOD_L-2/CONNECTOR_L-8',\n",
    "                    'runtime': 'MRBTS-4004880/EQM_R-1/APEQM_R-1/CABINET_R-1/BBMOD_R-2/RF8'},\n",
    "             'label': 'RF8'},\n",
    "            {'id': {'configuration': 'MRBTS-4004880/EQM-1/APEQM-1/CABINET-1/BBMOD-5/RF9',\n",
    "                    'internal': '/MRBTS-1/RAT-1/BTS_L-4/EQM_L-1/CABINET_L-1/BBMOD_L-2/CONNECTOR_L-9',\n",
    "                    'runtime': 'MRBTS-4004880/EQM_R-1/APEQM_R-1/CABINET_R-1/BBMOD_R-2/RF9'},\n",
    "             'label': 'RF9'}],\n",
    "  'productCode': '475266A.102',\n",
    "  'productName': 'ABIO AirScale Capacity',\n",
    "  'serialNumber': 'L1210400848',\n",
    "  'status': {'administrativeState': 'Unlocked',\n",
    "             'operationalState': 'enabled',\n",
    "             'proceduralStatus': 'configured',\n",
    "             'usageState': 'Active'}},\n",
    " {'cabinetId': {'configuration': 'MRBTS-4004880/EQM-1/APEQM-1/CABINET-1',\n",
    "                'internal': '/MRBTS-1/RAT-1/RUNTIME_VIEW-1/MRBTS_R-1/EQM_R-1/APEQM_R-1/CABINET_R-1',\n",
    "                'runtime': 'MRBTS-4004880/EQM_R-1/APEQM_R-1/CABINET_R-1'},\n",
    "  'fullCapacityInUse': 'Yes',\n",
    "  'id': {'configuration': 'MRBTS-4004880/EQM-1/APEQM-1/CABINET-1/BBMOD-2',\n",
    "         'internal': '/MRBTS-1/RAT-1/RUNTIME_VIEW-1/MRBTS_R-1/EQM_R-1/APEQM_R-1/CABINET_R-1/BBMOD_R-3',\n",
    "         'runtime': 'MRBTS-4004880/EQM_R-1/APEQM_R-1/CABINET_R-1/BBMOD_R-3'},\n",
    "  'ports': [{'id': {'internal': '/MRBTS-1/RAT-1/RUNTIME_VIEW-1/MRBTS_R-1/EQM_R-1/APEQM_R-1/CABINET_R-1/BBMOD_R-3/SFP_R-1',\n",
    "                    'runtime': 'MRBTS-4004880/EQM_R-1/APEQM_R-1/CABINET_R-1/BBMOD_R-3/SFP_R-1'},\n",
    "             'label': 'RF1'},\n",
    "            {'id': {'internal': '/MRBTS-1/RAT-1/RUNTIME_VIEW-1/MRBTS_R-1/EQM_R-1/APEQM_R-1/CABINET_R-1/BBMOD_R-3/SFP_R-2',\n",
    "                    'runtime': 'MRBTS-4004880/EQM_R-1/APEQM_R-1/CABINET_R-1/BBMOD_R-3/SFP_R-2'},\n",
    "             'label': 'RF2'},\n",
    "            {'id': {'configuration': 'MRBTS-4004880/EQM-1/APEQM-1/CABINET-1/BBMOD-2/RF3',\n",
    "                    'internal': '/MRBTS-1/RAT-1/BTS_L-1/EQM_L-1/CABINET_L-1/BBMOD_L-1/CONNECTOR_L-3',\n",
    "                    'runtime': 'MRBTS-4004880/EQM_R-1/APEQM_R-1/CABINET_R-1/BBMOD_R-3/RF3'},\n",
    "             'label': 'RF3'},\n",
    "            {'id': {'configuration': 'MRBTS-4004880/EQM-1/APEQM-1/CABINET-1/BBMOD-2/RF4',\n",
    "                    'internal': '/MRBTS-1/RAT-1/BTS_L-1/EQM_L-1/CABINET_L-1/BBMOD_L-1/CONNECTOR_L-4',\n",
    "                    'runtime': 'MRBTS-4004880/EQM_R-1/APEQM_R-1/CABINET_R-1/BBMOD_R-3/RF4'},\n",
    "             'label': 'RF4'},\n",
    "            {'id': {'configuration': 'MRBTS-4004880/EQM-1/APEQM-1/CABINET-1/BBMOD-2/RF5',\n",
    "                    'internal': '/MRBTS-1/RAT-1/BTS_L-1/EQM_L-1/CABINET_L-1/BBMOD_L-1/CONNECTOR_L-5',\n",
    "                    'runtime': 'MRBTS-4004880/EQM_R-1/APEQM_R-1/CABINET_R-1/BBMOD_R-3/RF5'},\n",
    "             'label': 'RF5'},\n",
    "            {'id': {'configuration': 'MRBTS-4004880/EQM-1/APEQM-1/CABINET-1/BBMOD-2/RF6',\n",
    "                    'internal': '/MRBTS-1/RAT-1/BTS_L-1/EQM_L-1/CABINET_L-1/BBMOD_L-1/CONNECTOR_L-6',\n",
    "                    'runtime': 'MRBTS-4004880/EQM_R-1/APEQM_R-1/CABINET_R-1/BBMOD_R-3/RF6'},\n",
    "             'label': 'RF6'},\n",
    "            {'id': {'configuration': 'MRBTS-4004880/EQM-1/APEQM-1/CABINET-1/BBMOD-2/RF7',\n",
    "                    'internal': '/MRBTS-1/RAT-1/BTS_L-1/EQM_L-1/CABINET_L-1/BBMOD_L-1/CONNECTOR_L-7',\n",
    "                    'runtime': 'MRBTS-4004880/EQM_R-1/APEQM_R-1/CABINET_R-1/BBMOD_R-3/RF7'},\n",
    "             'label': 'RF7'},\n",
    "            {'id': {'configuration': 'MRBTS-4004880/EQM-1/APEQM-1/CABINET-1/BBMOD-2/RF8',\n",
    "                    'internal': '/MRBTS-1/RAT-1/BTS_L-1/EQM_L-1/CABINET_L-1/BBMOD_L-1/CONNECTOR_L-8',\n",
    "                    'runtime': 'MRBTS-4004880/EQM_R-1/APEQM_R-1/CABINET_R-1/BBMOD_R-3/RF8'},\n",
    "             'label': 'RF8'},\n",
    "            {'id': {'configuration': 'MRBTS-4004880/EQM-1/APEQM-1/CABINET-1/BBMOD-2/RF9',\n",
    "                    'internal': '/MRBTS-1/RAT-1/BTS_L-1/EQM_L-1/CABINET_L-1/BBMOD_L-1/CONNECTOR_L-9',\n",
    "                    'runtime': 'MRBTS-4004880/EQM_R-1/APEQM_R-1/CABINET_R-1/BBMOD_R-3/RF9'},\n",
    "             'label': 'RF9'}],\n",
    "  'productCode': '475266A.104',\n",
    "  'productName': 'ABIO AirScale Capacity',\n",
    "  'serialNumber': 'L1214403617',\n",
    "  'status': {'administrativeState': 'Unlocked',\n",
    "             'operationalState': 'enabled',\n",
    "             'proceduralStatus': 'configured',\n",
    "             'usageState': 'Active'}}]"
   ]
  },
  {
   "cell_type": "code",
   "execution_count": 16,
   "id": "9472f143",
   "metadata": {},
   "outputs": [],
   "source": [
    "mod= next((m[\"id\"][\"configuration\"] lfor m in module_list if m[\"id\"][\"configuration\"].rpartition(\"-\")[-1] == '4'), None)"
   ]
  },
  {
   "cell_type": "code",
   "execution_count": 17,
   "id": "32047608",
   "metadata": {},
   "outputs": [
    {
     "name": "stdout",
     "output_type": "stream",
     "text": [
      "MRBTS-4004880/EQM-1/APEQM-1/CABINET-1/BBMOD-4\n"
     ]
    }
   ],
   "source": [
    "print(mod)"
   ]
  },
  {
   "cell_type": "code",
   "execution_count": 11,
   "id": "69335ab6",
   "metadata": {},
   "outputs": [],
   "source": [
    "msg = \"'2024 Jan 30 16:33:35.113 [2C] 0xB800 NR5G NAS SM5G Plain OTA Incoming Msg -- PDU session establishment accept Subscription ID = 1 Misc ID = 0 pkt_version = 1 (0x1) rel_number = 15 (0xf) rel_version_major = 4 (0x4) rel_version_minor = 0 (0x0) prot_disc_type = 14 (0xe) ext_protocol_disc = 46 (0x2e) pdu_session_id = 2 (0x2) proc_trans_id = 7 (0x7) msg_type = 194 (0xc2) (PDU session establishment accept) nr5g_smm_msg pdu_session_estab_accept ssc_mode ssc_mode_val = 3 (0x3) pdu_session_type pdu_session_type = 1 (0x1) (IPv4) authorized_qos_rules num_recs = 1 (0x1) Qos_rule[0] qos_rule_id = 1 (0x1) rule_opcode = 1 (0x1) (Create new QoS rule) DQR = 1 (0x1) num_pkt_filter = 1 (0x1) pkt_filters[0] change_rule pkt_filter_dir = 3 (0x3) (bidirectional) pkt_filter_id = 1 (0x1) num_comps = 1 (0x1) pkt_filters_comp_list[0] comp_type_id = 1 (0x1) (Match-all) rule_precedene_present = 1 (0x1) qos_rule_precedence = 254 (0xfe) qfi_present = 1 (0x1) segregation = 0 (0x0) qfi = 2 (0x2) session_ambr length = 6 (0x6) session_ambr_dl_unit = 9 (0x9) (inc in multiple of 64 Mbps) session_ambr_dl = 35579 (0x8afb) session_ambr_ul_unit = 12 (0xc) (inc in multiple of 4 Gbps) session_ambr_ul = 615 (0x267) _5gsm_cause_incl = 0 (0x0) pdu_addr_incl = 1 (0x1) pdu_addr length = 5 (0x5) si6lla = 0 (0x0) pdu_session_type = 1 (0x1) ipv4_addr[0] = 10 (0xa) ipv4_addr[1] = 48 (0x30) ipv4_addr[2] = 49 (0x31) ipv4_addr[3] = 97 (0x61) rq_timer_incl = 0 (0x0) s_nssai_incl = 1 (0x1) s_nssai s_nssai_len = 4 (0x4) sst = 1 (0x1) sd[0] = 209 (0xd1) sd[1] = 67 (0x43) sd[2] = 165 (0xa5) always_on_pdu_session_ind_incl = 1 (0x1) always_on_pdu_session_ind APSI = 1 (0x1) (always-on PDU session required) mapped_eps_bearer_context_inc = 0 (0x0) eap_msg_incl = 0 (0x0) auth_qos_flow_desc_incl = 1 (0x1) qos_flow_desc num_qos_flow_desc = 1 (0x1) qos_flow_description[0] qfi = 2 (0x2) opcode = 1 (0x1) (Create new QoS flow description) e_bit = 1 (0x1) num_parameters = 2 (0x2) params[0] params_id = 1 (0x1) length = 1 (0x1) qos_flow_desc_params _5qi _5qi_value = 5 (0x5) params[1] params_id = 7 (0x7) length = 1 (0x1) qos_flow_desc_params eps_bearer_id id = 6 (0x6) ext_prot_config_incl = 1 (0x1) ext_prot_config ext = 1 (0x1) conf_prot = 0 (0x0) num_recs = 6 (0x6) prot_or_container[0] id = 32801 (0x8021) (IPCP) prot_or_container prot_len = 16 (0x10) ipcp_prot ipcp_prot_id = 3 (0x3) (CONF_NAK) identifier = 0 (0x0) rfc1332_conf_nak num_options = 2 (0x2) conf_options[0] type = 129 (0x81) rfc1877_primary_dns_server_add length = 6 (0x6) ip_addr = 171196171 (0xa343f0b) (10.52.63.11) conf_options[1] type = 131 (0x83) rfc1877_sec_dns_server_add length = 6 (0x6) ip_addr = 171196172 (0xa343f0c) (10.52.63.12) prot_or_container[1] id = 12 (0xc) (P-CSCF IPv4 Address) prot_or_container prot_len = 4 (0x4) container container_contents[0] = 100 (0x64) container_contents[1] = 71 (0x47) container_contents[2] = 194 (0xc2) container_contents[3] = 5 (0x5) prot_or_container[2] id = 13 (0xd) (DNS Server IPv4 Address) prot_or_container prot_len = 4 (0x4) container container_contents[0] = 10 (0xa) container_contents[1] = 52 (0x34) container_contents[2] = 63 (0x3f) container_contents[3] = 11 (0xb) prot_or_container[3] id = 13 (0xd) (DNS Server IPv4 Address) prot_or_container prot_len = 4 (0x4) container container_contents[0] = 10 (0xa) container_contents[1] = 52 (0x34) container_contents[2] = 63 (0x3f) container_contents[3] = 12 (0xc) prot_or_container[4] id = 16 (0x10) (Ipv4 Link MTU Request) prot_or_container prot_len = 2 (0x2) container container_contents[0] = 5 (0x5) container_contents[1] = 220 (0xdc) prot_or_container[5] id = 5 (0x5) (Selected Bearer Control Mode) prot_or_container prot_len = 1 (0x1) container container_contents[0] = 1 (0x1) dnn_incl = 1 (0x1) dnn dnn_len = 19 (0x13) dnn_val[0] = 8 (0x8) (length) dnn_val[1] = 53 (0x35) (5) dnn_val[2] = 103 (0x67) (g) dnn_val[3] = 110 (0x6e) (n) dnn_val[4] = 97 (0x61) (a) dnn_val[5] = 109 (0x6d) (m) dnn_val[6] = 105 (0x69) (i) dnn_val[7] = 109 (0x6d) (m) dnn_val[8] = 115 (0x73) (s) dnn_val[9] = 5 (0x5) (length) dnn_val[10] = 110 (0x6e) (n) dnn_val[11] = 111 (0x6f) (o) dnn_val[12] = 107 (0x6b) (k) dnn_val[13] = 105 (0x69) (i) dnn_val[14] = 97 (0x61) (a) dnn_val[15] = 3 (0x3) (length) dnn_val[16] = 99 (0x63) (c) dnn_val[17] = 111 (0x6f) (o) dnn_val[18] = 109 (0x6d) (m) _5gsm_nwk_feature_support_incl = 0 (0x0) srv_plmn_rate_ctrl_incl = 0 (0x0) at_sss_container_incl = 0 (0x0) ctrl_plane_only_ind_incl = 0 (0x0) ip_hc_config_incl = 0 (0x0) ethernet_hc_config_incl = 0 (0x0) serv_level_aa_incl = 0 (0x0) recv_msb_container_incl = 0 (0x0)'\"\n"
   ]
  },
  {
   "cell_type": "code",
   "execution_count": 13,
   "id": "87362262",
   "metadata": {},
   "outputs": [],
   "source": [
    "import re\n",
    "re.search(r\".*pdu_session_estab_accept.*sd.*= \\d+.*(0xd1).*sd.*(0x43).*sd.*(0xa7)\",msg)"
   ]
  },
  {
   "cell_type": "code",
   "execution_count": 15,
   "id": "1845fe65",
   "metadata": {},
   "outputs": [],
   "source": [
    "s= '''2024 Jan 30 16:35:27.727 [F2] 0xB821 NR5G RRC OTA Packet -- DL_DCCH / RRCReconfiguration Subscription ID = 1 Misc ID = 0 Pkt Version = 12 RRC Release Number.Major.minor = 15.10.0 Radio Bearer ID = 1, Physical Cell ID = 339 NR Cell Global Id = N/A Freq = 520110 Sfn = 945, SubFrameNum = 9 slot = 2 PDU Number = DL_DCCH / RRCReconfiguration Message, Msg Length = 78 SIB Mask in SI = 0x00  Interpreted PDU:  value DL-DCCH-Message ::= { message c1 : rrcReconfiguration : { rrc-TransactionIdentifier 1, criticalExtensions rrcReconfiguration : { measConfig { measObjectToAddModList { { measObjectId 1, measObject measObjectNR : { ssbFrequency 520110, ssbSubcarrierSpacing kHz30, smtc1 { periodicityAndOffset sf20 : 0, duration sf5 }, referenceSignalConfig { ssb-ConfigMobility { deriveSSB-IndexFromCell TRUE } }, absThreshSS-BlocksConsolidation { thresholdRSRP 3, thresholdRSRQ 3 }, quantityConfigIndex 1, offsetMO { }, freqBandIndicatorNR 41 } }, { measObjectId 3, measObject measObjectNR : { ssbFrequency 396970, ssbSubcarrierSpacing kHz15, smtc1 { periodicityAndOffset sf20 : 0, duration sf1 }, referenceSignalConfig { ssb-ConfigMobility { deriveSSB-IndexFromCell TRUE } }, quantityConfigIndex 1, offsetMO { }, freqBandIndicatorNR 25, measCycleSCell sf320 } } }, reportConfigToRemoveList { 1 }, reportConfigToAddModList { { reportConfigId 6, reportConfig reportConfigNR : { reportType eventTriggered : { eventId eventA1 : { a1-Threshold rsrp : 58, reportOnLeave FALSE, hysteresis 2, timeToTrigger ms480 }, rsType ssb, reportInterval ms120, reportAmount r4, reportQuantityCell { rsrp TRUE, rsrq TRUE, sinr TRUE }, maxReportCells 8, reportQuantityRS-Indexes { rsrp TRUE, rsrq TRUE, sinr TRUE }, maxNrofRS-IndexesToReport 8, includeBeamMeasurements TRUE } } }, { reportConfigId 7, reportConfig reportConfigNR : { reportType eventTriggered : { eventId eventA3 : { a3-Offset rsrp : 30, reportOnLeave FALSE, hysteresis 2, timeToTrigger ms640, useWhiteCellList FALSE }, rsType ssb, reportInterval ms120, reportAmount r4, reportQuantityCell { rsrp TRUE, rsrq TRUE, sinr TRUE }, maxReportCells 8, reportQuantityRS-Indexes { rsrp TRUE, rsrq TRUE, sinr TRUE }, maxNrofRS-IndexesToReport 8, includeBeamMeasurements TRUE } } }, { r'''"
   ]
  },
  {
   "cell_type": "code",
   "execution_count": 17,
   "id": "3c858df0",
   "metadata": {},
   "outputs": [
    {
     "name": "stdout",
     "output_type": "stream",
     "text": [
      "2024 Jan 30 16:35:27.727 [F2] 0xB821 NR5G RRC OTA Packet -- DL_DCCH / RRCReconfiguration Subscription ID = 1 Misc ID = 0 Pkt Version = 12 RRC Release Number.Major.minor = 15.10.0 Radio Bearer ID = 1, Physical Cell ID = 339 NR Cell Global Id = N/A Freq = 520110 Sfn = 945, SubFrameNum = 9 slot = 2 PDU Number = DL_DCCH / RRCReconfiguration Message, Msg Length = 78 SIB Mask in SI = 0x00  Interpreted PDU:  value DL-DCCH-Message ::= { message c1 : rrcReconfiguration : { rrc-TransactionIdentifier 1, criticalExtensions rrcReconfiguration : { measConfig { measObjectToAddModList { { measObjectId 1, measObject measObjectNR : { ssbFrequency 520110, ssbSubcarrierSpacing kHz30, smtc1 { periodicityAndOffset sf20 : 0, duration sf5 }, referenceSignalConfig { ssb-ConfigMobility { deriveSSB-IndexFromCell TRUE } }, absThreshSS-BlocksConsolidation { thresholdRSRP 3, thresholdRSRQ 3 }, quantityConfigIndex 1, offsetMO { }, freqBandIndicatorNR 41 } }, { measObjectId 3, measObject measObjectNR : { ssbFrequency 396970, ssbSubcarrierSpacing kHz15, smtc1 { periodicityAndOffset sf20 : 0, duration sf1 }, referenceSignalConfig { ssb-ConfigMobility { deriveSSB-IndexFromCell TRUE } }, quantityConfigIndex 1, offsetMO { }, freqBandIndicatorNR 25, measCycleSCell sf320 } } }, reportConfigToRemoveList { 1 }, reportConfigToAddModList { { reportConfigId 6, reportConfig reportConfigNR : { reportType eventTriggered : { eventId eventA1 : { a1-Threshold rsrp : 58, reportOnLeave FALSE, hysteresis 2, timeToTrigger ms480 }, rsType ssb, reportInterval ms120, reportAmount r4, reportQuantityCell { rsrp TRUE, rsrq TRUE, sinr TRUE }, maxReportCells 8, reportQuantityRS-Indexes { rsrp TRUE, rsrq TRUE, sinr TRUE }, maxNrofRS-IndexesToReport 8, includeBeamMeasurements TRUE } } }, { reportConfigId 7, reportConfig reportConfigNR : { reportType eventTriggered : { eventId eventA3 : { a3-Offset rsrp : 30, reportOnLeave FALSE, hysteresis 2, timeToTrigger ms640, useWhiteCellList FALSE }, rsType ssb, reportInterval ms120, reportAmount r4, reportQuantityCell { rsrp TRUE, rsrq TRUE, sinr TRUE }, maxReportCells 8, reportQuantityRS-Indexes { rsrp TRUE, rsrq TRUE, sinr TRUE }, maxNrofRS-IndexesToReport 8, includeBeamMeasurements TRUE } } }, { r\n"
     ]
    }
   ],
   "source": [
    "print(s)"
   ]
  },
  {
   "cell_type": "code",
   "execution_count": 29,
   "id": "e2007eca",
   "metadata": {},
   "outputs": [],
   "source": [
    "p= re.search(r\".*rrcReconfiguration.*measConfig.*freqBandIndicatorNR 25.*reportConfigToAddModList.*reportConfigNR.*eventTriggered.*eventA1.*a1-Threshold rsrp :\",s)"
   ]
  },
  {
   "cell_type": "code",
   "execution_count": 30,
   "id": "bfa6db18",
   "metadata": {},
   "outputs": [],
   "source": [
    "a1_values = ('58', '2', 'ms480')"
   ]
  },
  {
   "cell_type": "code",
   "execution_count": 31,
   "id": "d56c2fb5",
   "metadata": {},
   "outputs": [],
   "source": [
    "a1= a1_values[0]"
   ]
  },
  {
   "cell_type": "code",
   "execution_count": 32,
   "id": "d928d8bd",
   "metadata": {},
   "outputs": [
    {
     "name": "stdout",
     "output_type": "stream",
     "text": [
      "58\n"
     ]
    }
   ],
   "source": [
    "print(a1)"
   ]
  },
  {
   "cell_type": "code",
   "execution_count": 33,
   "id": "de64da5d",
   "metadata": {},
   "outputs": [],
   "source": [
    "l1 =[[1, 4, 5], [1, 3, 4], [2, 6, 7, 8]]"
   ]
  },
  {
   "cell_type": "code",
   "execution_count": 34,
   "id": "b41aafc4",
   "metadata": {},
   "outputs": [],
   "source": [
    "l1_ou=[]"
   ]
  },
  {
   "cell_type": "code",
   "execution_count": 40,
   "id": "c081d31a",
   "metadata": {},
   "outputs": [
    {
     "name": "stdout",
     "output_type": "stream",
     "text": [
      "[1, 4, 5]\n",
      "1\n",
      "[1, 1, 1, 1, 1, 1, 1, 1, 1, 1, 1, 2, 2, 2, 2, 2, 3, 3, 3, 3, 3, 4, 4, 4, 4, 4, 4, 4, 4, 4, 4, 5, 5, 5, 5, 5, 6, 6, 6, 6, 6, 7, 7, 7, 7, 7, 8, 8, 8, 8, 8]\n",
      "4\n",
      "[1, 1, 1, 1, 1, 1, 1, 1, 1, 1, 1, 2, 2, 2, 2, 2, 3, 3, 3, 3, 3, 4, 4, 4, 4, 4, 4, 4, 4, 4, 4, 4, 5, 5, 5, 5, 5, 6, 6, 6, 6, 6, 7, 7, 7, 7, 7, 8, 8, 8, 8, 8]\n",
      "5\n",
      "[1, 1, 1, 1, 1, 1, 1, 1, 1, 1, 1, 2, 2, 2, 2, 2, 3, 3, 3, 3, 3, 4, 4, 4, 4, 4, 4, 4, 4, 4, 4, 4, 5, 5, 5, 5, 5, 5, 6, 6, 6, 6, 6, 7, 7, 7, 7, 7, 8, 8, 8, 8, 8]\n",
      "[1, 3, 4]\n",
      "1\n",
      "[1, 1, 1, 1, 1, 1, 1, 1, 1, 1, 1, 1, 2, 2, 2, 2, 2, 3, 3, 3, 3, 3, 4, 4, 4, 4, 4, 4, 4, 4, 4, 4, 4, 5, 5, 5, 5, 5, 5, 6, 6, 6, 6, 6, 7, 7, 7, 7, 7, 8, 8, 8, 8, 8]\n",
      "3\n",
      "[1, 1, 1, 1, 1, 1, 1, 1, 1, 1, 1, 1, 2, 2, 2, 2, 2, 3, 3, 3, 3, 3, 3, 4, 4, 4, 4, 4, 4, 4, 4, 4, 4, 4, 5, 5, 5, 5, 5, 5, 6, 6, 6, 6, 6, 7, 7, 7, 7, 7, 8, 8, 8, 8, 8]\n",
      "4\n",
      "[1, 1, 1, 1, 1, 1, 1, 1, 1, 1, 1, 1, 2, 2, 2, 2, 2, 3, 3, 3, 3, 3, 3, 4, 4, 4, 4, 4, 4, 4, 4, 4, 4, 4, 4, 5, 5, 5, 5, 5, 5, 6, 6, 6, 6, 6, 7, 7, 7, 7, 7, 8, 8, 8, 8, 8]\n",
      "[2, 6, 7, 8]\n",
      "2\n",
      "[1, 1, 1, 1, 1, 1, 1, 1, 1, 1, 1, 1, 2, 2, 2, 2, 2, 2, 3, 3, 3, 3, 3, 3, 4, 4, 4, 4, 4, 4, 4, 4, 4, 4, 4, 4, 5, 5, 5, 5, 5, 5, 6, 6, 6, 6, 6, 7, 7, 7, 7, 7, 8, 8, 8, 8, 8]\n",
      "6\n",
      "[1, 1, 1, 1, 1, 1, 1, 1, 1, 1, 1, 1, 2, 2, 2, 2, 2, 2, 3, 3, 3, 3, 3, 3, 4, 4, 4, 4, 4, 4, 4, 4, 4, 4, 4, 4, 5, 5, 5, 5, 5, 5, 6, 6, 6, 6, 6, 6, 7, 7, 7, 7, 7, 8, 8, 8, 8, 8]\n",
      "7\n",
      "[1, 1, 1, 1, 1, 1, 1, 1, 1, 1, 1, 1, 2, 2, 2, 2, 2, 2, 3, 3, 3, 3, 3, 3, 4, 4, 4, 4, 4, 4, 4, 4, 4, 4, 4, 4, 5, 5, 5, 5, 5, 5, 6, 6, 6, 6, 6, 6, 7, 7, 7, 7, 7, 7, 8, 8, 8, 8, 8]\n",
      "8\n",
      "[1, 1, 1, 1, 1, 1, 1, 1, 1, 1, 1, 1, 2, 2, 2, 2, 2, 2, 3, 3, 3, 3, 3, 3, 4, 4, 4, 4, 4, 4, 4, 4, 4, 4, 4, 4, 5, 5, 5, 5, 5, 5, 6, 6, 6, 6, 6, 6, 7, 7, 7, 7, 7, 7, 8, 8, 8, 8, 8, 8]\n"
     ]
    }
   ],
   "source": [
    "for i in l1:\n",
    "    print(i)\n",
    "    for i1 in i:\n",
    "        print(i1)\n",
    "        l1_ou.append(i1)\n",
    "        print(sorted(l1_ou))        "
   ]
  },
  {
   "cell_type": "code",
   "execution_count": 1,
   "id": "604a22e1",
   "metadata": {},
   "outputs": [],
   "source": [
    "mos =[{'attr': {'a1MeashoSsbRsrp': [{'a1HysteresishoSsbRsrp': '2',\n",
    "                                'a1ThresholdhoSsbRsrp': '63',\n",
    "                                'a1TimeToTriggerhoSsbRsrp': 'ms480'}],\n",
    "           'a2MeashoSsbRsrp': [{'a2HysteresishoSsbRsrp': '2',\n",
    "                                'a2ThresholdhoSsbRsrp': '59',\n",
    "                                'a2TimeToTriggerhoSsbRsrp': 'ms480'}]},\n",
    "  'distName': 'MRBTS-4004609/NRBTS-4004609/NRMEAS_PROFILE-1/NRMEASPR_IAF-1'},\n",
    " {'attr': {'a1MeashoSsbRsrp': [{'a1HysteresishoSsbRsrp': '2',\n",
    "                                'a1ThresholdhoSsbRsrp': '55',\n",
    "                                'a1TimeToTriggerhoSsbRsrp': 'ms480'}],\n",
    "           'a2MeashoSsbRsrp': [{'a2HysteresishoSsbRsrp': '2',\n",
    "                                'a2ThresholdhoSsbRsrp': '51',\n",
    "                                'a2TimeToTriggerhoSsbRsrp': 'ms480'}]},\n",
    "  'distName': 'MRBTS-4004609/NRBTS-4004609/NRMEAS_PROFILE-1/NRMEASPR_IAF-2'}]"
   ]
  },
  {
   "cell_type": "code",
   "execution_count": 6,
   "id": "6c43903d",
   "metadata": {},
   "outputs": [],
   "source": [
    "a=next((mo['distName'].rpartition('-')[-1]for mo in mos),None)"
   ]
  },
  {
   "cell_type": "code",
   "execution_count": 7,
   "id": "3f9d30e2",
   "metadata": {},
   "outputs": [
    {
     "name": "stdout",
     "output_type": "stream",
     "text": [
      "1\n"
     ]
    }
   ],
   "source": [
    "print(a)"
   ]
  },
  {
   "cell_type": "code",
   "execution_count": null,
   "id": "0f5b046a",
   "metadata": {},
   "outputs": [],
   "source": [
    "# Create a dictionary 'my_dict' with keys as 'C1', 'C2', and 'C3', and corresponding lists of values.\n",
    "my_dict = {'C1': [1, 2, 3], 'C2': [5, 6, 7], 'C3': [9, 10, 11]}\n",
    "\n",
    "# Use a list comprehension to create a list of tuples where each tuple contains a key and its corresponding list of values.\n",
    "# Sort the items (key-value pairs) in the 'my_dict' dictionary based on their keys.\n",
    "# The 'zip' function is used to transpose the rows and columns.\n",
    "for row in zip(*([key] + (value) for key, value in sorted(my_dict.items()))):\n",
    "    # Print each row of transposed data as space-separated values.\n",
    "    print(*row)\n"
   ]
  },
  {
   "cell_type": "code",
   "execution_count": 1,
   "id": "e04a635c",
   "metadata": {},
   "outputs": [
    {
     "name": "stdout",
     "output_type": "stream",
     "text": [
      "Input number of words: 7\n",
      "Input the words: \n",
      "red blue green\n",
      "uii\n",
      "uii\n",
      "uii\n",
      "uui\n",
      "uui\n",
      "uuui\n",
      "4\n",
      "1 3 2 1 "
     ]
    }
   ],
   "source": [
    "# Import the Counter and OrderedDict classes from the collections module\n",
    "from collections import Counter, OrderedDict\n",
    "\n",
    "# Create a new class 'OrderedCounter' that inherits from both Counter and OrderedDict\n",
    "class OrderedCounter(Counter, OrderedDict):\n",
    "   pass\n",
    "\n",
    "# Create an empty list 'word_array' to store words\n",
    "word_array = []\n",
    "\n",
    "# Prompt the user to input the number of words\n",
    "n = int(input(\"Input number of words: \"))\n",
    "\n",
    "# Prompt the user to input the words and store them in 'word_array'\n",
    "print(\"Input the words: \")\n",
    "for i in range(n):\n",
    "   word_array.append(input().strip())\n",
    "\n",
    "# Create an instance of the 'OrderedCounter' class using 'word_array'\n",
    "word_ctr = OrderedCounter(word_array)\n",
    "\n",
    "# Print the number of unique words in 'word_ctr'\n",
    "print(len(word_ctr))\n",
    "\n",
    "# Iterate over the words in 'word_ctr' and print their counts, separated by space\n",
    "for word in word_ctr:\n",
    "   print(word_ctr[word], end=' ') \n"
   ]
  },
  {
   "cell_type": "code",
   "execution_count": 4,
   "id": "7dfda682",
   "metadata": {},
   "outputs": [
    {
     "name": "stdout",
     "output_type": "stream",
     "text": [
      "Original list:\n",
      "[2, 3, 8, 4, 7, 9, 8, 2, 6, 5, 1, 6, 1, 2, 3, 2, 4, 6, 9, 1, 2]\n",
      "\n",
      "Item with the maximum frequency of the said list:\n",
      "dict_items([(2, 5), (3, 2), (8, 2), (4, 2), (7, 1), (9, 2), (6, 3), (5, 1), (1, 3)])\n",
      "(2, 5)\n",
      "(2, 5)\n"
     ]
    }
   ],
   "source": [
    "# Import the defaultdict class from the collections module\n",
    "from collections import defaultdict\n",
    "\n",
    "# Define a function 'max_occurrences' that finds the item with the maximum frequency in a list\n",
    "def max_occurrences(nums):\n",
    "    # Create a defaultdict 'dict' to count the occurrences of items in 'nums'\n",
    "    dict = defaultdict(int)\n",
    "    \n",
    "    # Loop through the items in 'nums' and increment their counts in 'dict'\n",
    "    for i in nums:\n",
    "        dict[i] += 1\n",
    "    print(dict.items())\n",
    "    # Find the item with the maximum count using 'max' and a key function\n",
    "    result = max(dict.items(), key=lambda x: x[1])\n",
    "    print(result)\n",
    "    # Return the result\n",
    "    return result\n",
    "\n",
    "# Create a list 'nums' with integer values\n",
    "nums = [2, 3, 8, 4, 7, 9, 8, 2, 6, 5, 1, 6, 1, 2, 3, 2, 4, 6, 9, 1, 2]\n",
    "\n",
    "# Print a message to indicate the display of the original list\n",
    "print(\"Original list:\")\n",
    "\n",
    "# Print the content of 'nums'\n",
    "print(nums)\n",
    "\n",
    "# Print a message to indicate the display of the item with the maximum frequency\n",
    "print(\"\\nItem with the maximum frequency of the said list:\")\n",
    "\n",
    "# Call the 'max_occurrences' function and print the result\n",
    "print(max_occurrences(nums)) \n"
   ]
  },
  {
   "cell_type": "code",
   "execution_count": 6,
   "id": "f051433b",
   "metadata": {},
   "outputs": [
    {
     "name": "stdout",
     "output_type": "stream",
     "text": [
      "Original string: \n",
      "hello world\n",
      "Counter({'l': 3, 'o': 2, 'h': 1, 'e': 1, ' ': 1, 'w': 1, 'r': 1, 'd': 1})\n",
      "\n",
      "Most common character of the said string: l\n",
      "Least common character of the said string: h\n"
     ]
    }
   ],
   "source": [
    "# Import the Counter class from the collections module\n",
    "from collections import Counter \n",
    "\n",
    "# Define a function 'max_least_char' that finds the most and least common characters in a string\n",
    "def max_least_char(str1):\n",
    "    # Create a Counter object 'temp' to count the occurrences of characters in 'str1'\n",
    "    temp = Counter(str1) \n",
    "    print(temp)\n",
    "    # Find the character with the maximum count using 'max' and the character with the minimum count using 'min'\n",
    "    max_char = max(temp, key=temp.get)\n",
    "    min_char = min(temp, key=temp.get)\n",
    "    \n",
    "    # Return a tuple containing the most and least common characters\n",
    "    return (max_char, min_char)\n",
    "\n",
    "# Create a string 'str1'\n",
    "str1 = \"hello world\"\n",
    "\n",
    "# Print a message to indicate the display of the original string\n",
    "print(\"Original string: \")\n",
    "print(str1)\n",
    "\n",
    "# Call the 'max_least_char' function with 'str1' and store the result in 'result'\n",
    "result = max_least_char(str1)\n",
    "\n",
    "# Print a message to indicate the display of the most common character in the string\n",
    "print(\"\\nMost common character of the said string:\", result[0])\n",
    "\n",
    "# Print a message to indicate the display of the least common character in the string\n",
    "print(\"Least common character of the said string:\", result[1]) \n"
   ]
  },
  {
   "cell_type": "code",
   "execution_count": 19,
   "id": "668a8a82",
   "metadata": {},
   "outputs": [
    {
     "ename": "SyntaxError",
     "evalue": "'(' was never closed (2583181736.py, line 12)",
     "output_type": "error",
     "traceback": [
      "\u001b[1;36m  Cell \u001b[1;32mIn[19], line 12\u001b[1;36m\u001b[0m\n\u001b[1;33m    result = Counter(tuple(sorted(i) for i in nums[0])\u001b[0m\n\u001b[1;37m                    ^\u001b[0m\n\u001b[1;31mSyntaxError\u001b[0m\u001b[1;31m:\u001b[0m '(' was never closed\n"
     ]
    }
   ],
   "source": [
    "# Import the Counter class from the collections module\n",
    "from collections import Counter\n",
    "\n",
    "# Create a list of tuples 'nums' with inner lists of pairs\n",
    "nums = [(['1', '4'], ['4', '1'], ['3', '4'], ['2', '7'], ['6', '8'], ['5', '8'], ['6', '8'], ['5', '7'], ['2', '7'])]\n",
    "\n",
    "# Print a message to indicate the display of the original list of tuples\n",
    "print(\"Original list of tuples:\")\n",
    "\n",
    "# Print the content of 'nums'\n",
    "print(nums[0])\n",
    "result = Counter(tuple(sorted(i) for i in nums[0])\n",
    "print(result)\n",
    "# Use Counter to count the frequency of tuples after sorting them\n",
    "result = Counter(tuple(sorted(i)) for i in nums[0])\n",
    "\n",
    "# Print a message to indicate the display of tuples and their frequency\n",
    "print(\"\\nTuples\", \"    \", \"frequency\")\n",
    "\n",
    "# Loop through the results and print each tuple and its frequency\n",
    "for key, val in result.items():\n",
    "    print(key, \" \", val) \n"
   ]
  },
  {
   "cell_type": "code",
   "execution_count": 5,
   "id": "92c43134",
   "metadata": {},
   "outputs": [],
   "source": [
    " data_line=\"\"\"\n",
    "   |     9|   15KHZ|   412|      1|      0|        C_RNTI|        UL_0_1|   LEVEL 8|  1|  00000000|  00000000|  81000000|  4354600E|  0| 24| 0|   1|    1|  1|          0|     0|  3|  0|       213|     0|  1|       63|        NA|      0|   0|      0|      0|    0|       0|                      NONE|   1|  0|      0|       0|                 NONE|FALSE|\n",
    "   \"\"\""
   ]
  },
  {
   "cell_type": "code",
   "execution_count": 6,
   "id": "39d6e77a",
   "metadata": {},
   "outputs": [
    {
     "name": "stdout",
     "output_type": "stream",
     "text": [
      "\n",
      "  |     9|   15KHZ|   412|      1|      0|        C_RNTI|        UL_0_1|   LEVEL 8|  1|  00000000|  00000000|  81000000|  4354600E|  0| 24| 0|   1|    1|  1|          0|     0|  3|  0|       213|     0|  1|       63|        NA|      0|   0|      0|      0|    0|       0|                      NONE|   1|  0|      0|       0|                 NONE|FALSE|\n",
      "  \n"
     ]
    }
   ],
   "source": [
    "print(data_line"
   ]
  },
  {
   "cell_type": "code",
   "execution_count": 16,
   "id": "d9dfc9d4",
   "metadata": {},
   "outputs": [],
   "source": [
    "split_line=data_line.split('|')"
   ]
  },
  {
   "cell_type": "code",
   "execution_count": 19,
   "id": "0bf22fb7",
   "metadata": {},
   "outputs": [
    {
     "name": "stdout",
     "output_type": "stream",
     "text": [
      "0\n",
      "1\n"
     ]
    }
   ],
   "source": [
    "print(split_line[16].split()[0])\n",
    "print(split_line[26].split()[0])"
   ]
  },
  {
   "cell_type": "code",
   "execution_count": 15,
   "id": "468628ff",
   "metadata": {},
   "outputs": [],
   "source": [
    "def pusch_repetition(qxdm_log):\n",
    "    # Initialise variables used in the code\n",
    "    new_dict={}\n",
    "    subseq_new_dict={}   \n",
    "    current = 0\n",
    "    with open(qxdm_log, \"r\", encoding=\"utf-8\") as filein:\n",
    "        data_file = filein.readlines()\n",
    "        for line in data_file:\n",
    "            if 'transformPrecoder enabled' in line:\n",
    "                current = current + 1\n",
    "                continue\n",
    "            if \"UL DCI Slot Info\" in line and current > 0:\n",
    "                current = current + 1\n",
    "                continue\n",
    "            if \"-----------------------------------------\" in line and current > 0:\n",
    "                current = current + 1\n",
    "                continue\n",
    "            if line == \"\\n\":\n",
    "                current = 0\n",
    "            if current == 4 and line != \"\\n\":\n",
    "                if \"UL_0_1\" in line:\n",
    "                    split_line = line.split('|')\n",
    "                    new_dict[split_line[16].split()[0]] = split_line[27].split()[0]\n",
    "                if  \"PUSCH\" in line:\n",
    "                    next_line = line.split('|')\n",
    "                    subseq_new_dict[next_line[12].split()[0]]=next_line[22].split()[0]\n",
    "            print(new_dict)\n",
    "            print(subseq_new_dict)\n",
    "            if 'transformPrecoder disabled' in line:\n",
    "                current = 0\n",
    "                continue"
   ]
  },
  {
   "cell_type": "code",
   "execution_count": 23,
   "id": "c14aaf09",
   "metadata": {},
   "outputs": [],
   "source": [
    "line2='''|  0|   7|  15KHZ|   266|      1|      0|      1|          C_RNTI|            PUSCH|         NEW_TX|   2|    0| 21|    SISO|    7|     3|     0|     14|     2|                              NONE| TRUE|          64QAM_TP|             217|   0808|   0| TYPE_A|     0|       CFG|   0|       0|      15|   1|27899|  31|   1|    0|  '''  "
   ]
  },
  {
   "cell_type": "code",
   "execution_count": 24,
   "id": "c0832f50",
   "metadata": {},
   "outputs": [
    {
     "name": "stdout",
     "output_type": "stream",
     "text": [
      "['', '  0', '   7', '  15KHZ', '   266', '      1', '      0', '      1', '          C_RNTI', '            PUSCH', '         NEW_TX', '   2', '    0', ' 21', '    SISO', '    7', '     3', '     0', '     14', '     2', '                              NONE', ' TRUE', '          64QAM_TP', '             217', '   0808', '   0', ' TYPE_A', '     0', '       CFG', '   0', '       0', '      15', '   1', '27899', '  31', '   1', '    0', '  ']\n"
     ]
    }
   ],
   "source": [
    " next_line = line2.split('|')\n",
    "print(next_line)   "
   ]
  },
  {
   "cell_type": "code",
   "execution_count": 25,
   "id": "78f7038c",
   "metadata": {},
   "outputs": [
    {
     "name": "stdout",
     "output_type": "stream",
     "text": [
      "0\n",
      "64QAM_TP\n"
     ]
    }
   ],
   "source": [
    "print(next_line[12].split()[0])\n",
    "print(next_line[22].split()[0])"
   ]
  },
  {
   "cell_type": "code",
   "execution_count": 6,
   "id": "dcb4fd41",
   "metadata": {},
   "outputs": [
    {
     "data": {
      "text/plain": [
       "True"
      ]
     },
     "execution_count": 6,
     "metadata": {},
     "output_type": "execute_result"
    }
   ],
   "source": [
    "l1 = ['0','0','0']\n",
    "l2=['0','0','0','0']\n",
    "any( i in set(l1)for i in ('0','2','4'))"
   ]
  },
  {
   "cell_type": "code",
   "execution_count": 5,
   "id": "f6d7eda7",
   "metadata": {},
   "outputs": [],
   "source": [
    "m= 'dynamic'"
   ]
  },
  {
   "cell_type": "code",
   "execution_count": 4,
   "id": "2888a1a3",
   "metadata": {},
   "outputs": [
    {
     "ename": "NameError",
     "evalue": "name 'm' is not defined",
     "output_type": "error",
     "traceback": [
      "\u001b[1;31m---------------------------------------------------------------------------\u001b[0m",
      "\u001b[1;31mNameError\u001b[0m                                 Traceback (most recent call last)",
      "Cell \u001b[1;32mIn[4], line 1\u001b[0m\n\u001b[1;32m----> 1\u001b[0m \u001b[38;5;28;01mif\u001b[39;00m \u001b[43mm\u001b[49m \u001b[38;5;241m==\u001b[39m \u001b[38;5;124m'\u001b[39m\u001b[38;5;124mdynamic\u001b[39m\u001b[38;5;124m'\u001b[39m:\n\u001b[0;32m      2\u001b[0m     \u001b[38;5;28mprint\u001b[39m(\u001b[38;5;124m\"\u001b[39m\u001b[38;5;124mtrue\u001b[39m\u001b[38;5;124m\"\u001b[39m)\n",
      "\u001b[1;31mNameError\u001b[0m: name 'm' is not defined"
     ]
    }
   ],
   "source": [
    "if m == 'dynamic':\n",
    "    print(\"true\")"
   ]
  },
  {
   "cell_type": "code",
   "execution_count": 9,
   "id": "92485a7c",
   "metadata": {},
   "outputs": [
    {
     "name": "stdout",
     "output_type": "stream",
     "text": [
      "['11', '11', '6', '10', '11', '6', '13', '12', '6', '11', '11', '6']\n"
     ]
    }
   ],
   "source": [
    " a=(('1', '11'),('2', '11'),('3', '6'),('1', '10'),('2', '11'),('3', '6'),('1', '13'),('2', '12'),('3', '6'),('1', '11'),('2', '11'),('3', '6'))\n",
    "\n",
    "x = [y for x, y in a]\n",
    "print(x)"
   ]
  },
  {
   "cell_type": "code",
   "execution_count": 13,
   "id": "497d9b7f",
   "metadata": {},
   "outputs": [
    {
     "data": {
      "text/plain": [
       "['13', '12', '6']"
      ]
     },
     "execution_count": 13,
     "metadata": {},
     "output_type": "execute_result"
    }
   ],
   "source": [
    "x[6:9] if m =='dynamic' else x[0:4]"
   ]
  },
  {
   "cell_type": "code",
   "execution_count": 4,
   "id": "5a2b93b4",
   "metadata": {},
   "outputs": [],
   "source": [
    "count= {'NRCELL-301': {'M55124C00001': [(1708959120, 0),\n",
    "                                 (1708959600, 0),\n",
    "                                 (1708960500, 0),\n",
    "                                 (1708961400, 0),\n",
    "                                 (1708962300, 7),\n",
    "                                 (1708963200, 3),\n",
    "                                 (1708964100, 9)],\n",
    "                'M55124C00006': [(1708959120, 0),\n",
    "                                 (1708959600, 0),\n",
    "                                 (1708960500, 0),\n",
    "                                 (1708961400, 0),\n",
    "                                 (1708962300, 7),\n",
    "                                 (1708963200, 3),\n",
    "                                 (1708964100, 8)],\n",
    "                'M55124C00007': [(1708959120, 0),\n",
    "                                 (1708959600, 0),\n",
    "                                 (1708960500, 0),\n",
    "                                 (1708961400, 0),\n",
    "                                 (1708962300, 6),\n",
    "                                 (1708963200, 3),\n",
    "                                 (1708964100, 8)],\n",
    "                'M55124C00010': [(1708959120, 0),\n",
    "                                 (1708959600, 0),\n",
    "                                 (1708960500, 0),\n",
    "                                 (1708961400, 0),\n",
    "                                 (1708962300, 6),\n",
    "                                 (1708963200, 3),\n",
    "                                 (1708964100, 8)],\n",
    "                'M55125C00021': [(1708959120, 0),\n",
    "                                 (1708959600, 0),\n",
    "                                 (1708960500, 0)]}}"
   ]
  },
  {
   "cell_type": "code",
   "execution_count": 8,
   "id": "140bd197",
   "metadata": {},
   "outputs": [
    {
     "data": {
      "text/plain": [
       "[(1708959120, 0),\n",
       " (1708959600, 0),\n",
       " (1708960500, 0),\n",
       " (1708961400, 0),\n",
       " (1708962300, 6),\n",
       " (1708963200, 3),\n",
       " (1708964100, 8)]"
      ]
     },
     "execution_count": 8,
     "metadata": {},
     "output_type": "execute_result"
    }
   ],
   "source": [
    "count['NRCELL-301']['M55124C00007']"
   ]
  },
  {
   "cell_type": "code",
   "execution_count": 5,
   "id": "307f07ed",
   "metadata": {},
   "outputs": [
    {
     "name": "stdout",
     "output_type": "stream",
     "text": [
      "Calling multiply with args: (10, 20), kwargs: {}\n",
      "multiply returned: 200\n",
      "200\n"
     ]
    }
   ],
   "source": [
    "def decorator(func):\n",
    "    def wrap(*args, **kwargs):\n",
    "        print(f\"Calling {func.__name__} with args: {args}, kwargs: {kwargs}\")\n",
    "        result = func(*args, **kwargs)\n",
    "        print(f\"{func.__name__} returned: {result}\")\n",
    "        return result\n",
    "    return wrap\n",
    "\n",
    "@decorator\n",
    "def multiply(x,y):\n",
    "    return x*y\n",
    "res = multiply(10,20)\n",
    "print(res)"
   ]
  },
  {
   "cell_type": "code",
   "execution_count": 11,
   "id": "f6afc584",
   "metadata": {},
   "outputs": [],
   "source": [
    "def execution_time(func):\n",
    "    def wrap(*args , **kwargs):\n",
    "        print(f\"calling {func.__name__} with {args} and {kwargs}\")\n",
    "        result = func(*args, **kwargs)\n",
    "        print(f\"result :{result}\")\n",
    "        \n",
    "        return result\n",
    "    return wrap"
   ]
  },
  {
   "cell_type": "code",
   "execution_count": 12,
   "id": "6bc6ad32",
   "metadata": {},
   "outputs": [
    {
     "name": "stdout",
     "output_type": "stream",
     "text": [
      "calling multiply with (10, 20) and {}\n",
      "result :200\n",
      "200\n"
     ]
    }
   ],
   "source": [
    "@execution_time\n",
    "def multiply(x,y):\n",
    "    return x*y\n",
    "res = multiply(10,20)\n",
    "print(res)"
   ]
  },
  {
   "cell_type": "code",
   "execution_count": 13,
   "id": "ed6b5201",
   "metadata": {},
   "outputs": [
    {
     "name": "stdout",
     "output_type": "stream",
     "text": [
      "Result: 30 <class 'int'>\n",
      "Result: Python Decorator <class 'str'>\n"
     ]
    }
   ],
   "source": [
    "def convert_to_data_type(data_type):\n",
    "    def decorator(func):\n",
    "        def wrapper(*args, **kwargs):\n",
    "            result = func(*args, **kwargs)\n",
    "            return data_type(result)\n",
    "        return wrapper\n",
    "    return decorator\n",
    "\n",
    "@convert_to_data_type(int)\n",
    "def add_numbers(x, y):\n",
    "    return x + y\n",
    "\n",
    "result = add_numbers(10, 20)\n",
    "print(\"Result:\", result, type(result))\n",
    "\n",
    "@convert_to_data_type(str)\n",
    "def concatenate_strings(x, y):\n",
    "    return x + y\n",
    "\n",
    "result = concatenate_strings(\"Python\", \" Decorator\")\n",
    "print(\"Result:\", result, type(result))\n"
   ]
  },
  {
   "cell_type": "code",
   "execution_count": 16,
   "id": "add63b4f",
   "metadata": {},
   "outputs": [
    {
     "name": "stdout",
     "output_type": "stream",
     "text": [
      "{}\n",
      "(4, 5)\n",
      "Calculating the product of two numbers...\n",
      "20\n",
      "(4, 5)\n",
      "Retrieving result from cache...\n",
      "20\n",
      "(5, 7)\n",
      "Calculating the product of two numbers...\n",
      "35\n",
      "(5, 7)\n",
      "Retrieving result from cache...\n",
      "35\n",
      "(-3, 7)\n",
      "Calculating the product of two numbers...\n",
      "-21\n",
      "(-3, 7)\n",
      "Retrieving result from cache...\n",
      "-21\n"
     ]
    }
   ],
   "source": [
    "def cache_result(func):\n",
    "    cache = {}\n",
    "\n",
    "    def wrapper(*args, **kwargs):\n",
    "        key = (*args, *kwargs.items())\n",
    "        print (key)\n",
    "        if key in cache:\n",
    "            print(\"Retrieving result from cache...\")\n",
    "            return cache[key]\n",
    "\n",
    "        result = func(*args, **kwargs)\n",
    "        cache[key] = result\n",
    "\n",
    "        return result\n",
    "    print(cache)\n",
    "    return wrapper\n",
    "\n",
    "\n",
    "# Example usage\n",
    "\n",
    "@cache_result\n",
    "def calculate_multiply(x, y):\n",
    "    print(\"Calculating the product of two numbers...\")\n",
    "    return x * y\n",
    "\n",
    "# Call the decorated function multiple times\n",
    "print(calculate_multiply(4, 5))  # Calculation is performed\n",
    "print(calculate_multiply(4, 5))  # Result is retrieved from cache\n",
    "print(calculate_multiply(5, 7))  # Calculation is performed\n",
    "print(calculate_multiply(5, 7))  # Result is retrieved from cache\n",
    "print(calculate_multiply(-3, 7))  # Calculation is performed\n",
    "print(calculate_multiply(-3, 7))  # Result is retrieved from cache\n"
   ]
  },
  {
   "cell_type": "code",
   "execution_count": 17,
   "id": "a704ba06",
   "metadata": {},
   "outputs": [
    {
     "name": "stdout",
     "output_type": "stream",
     "text": [
      "125\n"
     ]
    },
    {
     "ename": "ValueError",
     "evalue": "Invalid arguments passed to the function",
     "output_type": "error",
     "traceback": [
      "\u001b[1;31m---------------------------------------------------------------------------\u001b[0m",
      "\u001b[1;31mValueError\u001b[0m                                Traceback (most recent call last)",
      "Cell \u001b[1;32mIn[17], line 16\u001b[0m\n\u001b[0;32m     13\u001b[0m     \u001b[38;5;28;01mreturn\u001b[39;00m x \u001b[38;5;241m*\u001b[39m\u001b[38;5;241m*\u001b[39m \u001b[38;5;241m3\u001b[39m\n\u001b[0;32m     15\u001b[0m \u001b[38;5;28mprint\u001b[39m(calculate_cube(\u001b[38;5;241m5\u001b[39m))  \u001b[38;5;66;03m# Output: 125\u001b[39;00m\n\u001b[1;32m---> 16\u001b[0m \u001b[38;5;28mprint\u001b[39m(\u001b[43mcalculate_cube\u001b[49m\u001b[43m(\u001b[49m\u001b[38;5;241;43m-\u001b[39;49m\u001b[38;5;241;43m2\u001b[39;49m\u001b[43m)\u001b[49m)  \u001b[38;5;66;03m# Raises ValueError: Invalid arguments passed to the function\u001b[39;00m\n",
      "Cell \u001b[1;32mIn[17], line 7\u001b[0m, in \u001b[0;36mvalidate_arguments.<locals>.decorator.<locals>.wrapper\u001b[1;34m(*args, **kwargs)\u001b[0m\n\u001b[0;32m      5\u001b[0m     \u001b[38;5;28;01mreturn\u001b[39;00m func(\u001b[38;5;241m*\u001b[39margs, \u001b[38;5;241m*\u001b[39m\u001b[38;5;241m*\u001b[39mkwargs)\n\u001b[0;32m      6\u001b[0m \u001b[38;5;28;01melse\u001b[39;00m:\n\u001b[1;32m----> 7\u001b[0m     \u001b[38;5;28;01mraise\u001b[39;00m \u001b[38;5;167;01mValueError\u001b[39;00m(\u001b[38;5;124m\"\u001b[39m\u001b[38;5;124mInvalid arguments passed to the function\u001b[39m\u001b[38;5;124m\"\u001b[39m)\n",
      "\u001b[1;31mValueError\u001b[0m: Invalid arguments passed to the function"
     ]
    }
   ],
   "source": [
    "def validate_arguments(condition):\n",
    "    def decorator(func):\n",
    "        def wrapper(*args, **kwargs):\n",
    "            if condition(*args, **kwargs):\n",
    "                return func(*args, **kwargs)\n",
    "            else:\n",
    "                raise ValueError(\"Invalid arguments passed to the function\")\n",
    "        return wrapper\n",
    "    return decorator\n",
    "\n",
    "@validate_arguments(lambda x: x > 0)\n",
    "def calculate_cube(x):\n",
    "    return x ** 3\n",
    "\n",
    "print(calculate_cube(5))  # Output: 125\n",
    "print(calculate_cube(-2))  # Raises ValueError: Invalid arguments passed to the function\n"
   ]
  },
  {
   "cell_type": "code",
   "execution_count": 27,
   "id": "8bc7d99f",
   "metadata": {},
   "outputs": [],
   "source": [
    "out=lambda x : x>0"
   ]
  },
  {
   "cell_type": "code",
   "execution_count": 29,
   "id": "6044c4be",
   "metadata": {},
   "outputs": [
    {
     "name": "stdout",
     "output_type": "stream",
     "text": [
      "true\n"
     ]
    }
   ],
   "source": [
    "if out(5):\n",
    "    print(\"true\")"
   ]
  },
  {
   "cell_type": "code",
   "execution_count": null,
   "id": "a9899f46",
   "metadata": {},
   "outputs": [],
   "source": [
    "def cis_rest_node(mrbts_dn):\n",
    "    \"\"\"Reset via NetAct.\n",
    "\n",
    "    Args:\n",
    "      mrbts_dn (str): MRBTS distname\n",
    "      \n",
    "    \"\"\"\n",
    " \n",
    "    result = cis_netact_run_keyword(\n",
    "        \"reset_ne\",dist_names=f\"PLMN-PLMN/{mrbts_dn}\")\n",
    "        if result.get(\"Successful\") != \"1\":\n",
    "        raise_assertion_exception(f\"NetAct MRBTS Reset is failed: {result}\")"
   ]
  },
  {
   "cell_type": "code",
   "execution_count": null,
   "id": "cd3824cd",
   "metadata": {},
   "outputs": [],
   "source": []
  }
 ],
 "metadata": {
  "kernelspec": {
   "display_name": "Python 3 (ipykernel)",
   "language": "python",
   "name": "python3"
  },
  "language_info": {
   "codemirror_mode": {
    "name": "ipython",
    "version": 3
   },
   "file_extension": ".py",
   "mimetype": "text/x-python",
   "name": "python",
   "nbconvert_exporter": "python",
   "pygments_lexer": "ipython3",
   "version": "3.10.11"
  }
 },
 "nbformat": 4,
 "nbformat_minor": 5
}

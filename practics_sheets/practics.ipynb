{
 "cells": [
  {
   "cell_type": "code",
   "execution_count": 21,
   "id": "c38db3e9",
   "metadata": {},
   "outputs": [],
   "source": [
    "    list1 = []\n",
    "    list2 = [0]"
   ]
  },
  {
   "cell_type": "code",
   "execution_count": null,
   "id": "43b2404b",
   "metadata": {},
   "outputs": [],
   "source": []
  },
  {
   "cell_type": "code",
   "execution_count": 22,
   "id": "08f7e313",
   "metadata": {},
   "outputs": [],
   "source": [
    "list1.extend(list2)"
   ]
  },
  {
   "cell_type": "code",
   "execution_count": 23,
   "id": "badb750d",
   "metadata": {},
   "outputs": [
    {
     "name": "stdout",
     "output_type": "stream",
     "text": [
      "[0]\n"
     ]
    }
   ],
   "source": [
    "print(list1)"
   ]
  },
  {
   "cell_type": "code",
   "execution_count": 24,
   "id": "d36ea871",
   "metadata": {},
   "outputs": [
    {
     "name": "stdout",
     "output_type": "stream",
     "text": [
      "[0]\n"
     ]
    }
   ],
   "source": [
    "print (sorted(list1))"
   ]
  },
  {
   "cell_type": "code",
   "execution_count": 43,
   "id": "105a4e39",
   "metadata": {},
   "outputs": [
    {
     "name": "stdout",
     "output_type": "stream",
     "text": [
      "[1, 2, 3, 4, 5, 6, 7, 8, 9, 10, 11, 12, 13, 14, 15, 20, 21, 22, 27, 49, 89]\n",
      "89\n",
      "21\n",
      "0.23595505617977527\n",
      "1\n",
      "1\n",
      "1\n",
      "1\n",
      "1\n",
      "1\n",
      "1\n",
      "1\n",
      "1\n",
      "1\n",
      "1\n",
      "1\n",
      "1\n",
      "1\n",
      "5\n",
      "1\n",
      "1\n",
      "5\n",
      "22\n"
     ]
    },
    {
     "ename": "RuntimeError",
     "evalue": "Voice muting oberved from:49 to  27",
     "output_type": "error",
     "traceback": [
      "\u001b[1;31m---------------------------------------------------------------------------\u001b[0m",
      "\u001b[1;31mRuntimeError\u001b[0m                              Traceback (most recent call last)",
      "Cell \u001b[1;32mIn[43], line 26\u001b[0m\n\u001b[0;32m     24\u001b[0m \u001b[38;5;28;01mif\u001b[39;00m missing_packets \u001b[38;5;241m>\u001b[39m \u001b[38;5;241m15\u001b[39m:\n\u001b[0;32m     25\u001b[0m     error \u001b[38;5;241m=\u001b[39m \u001b[38;5;124mf\u001b[39m\u001b[38;5;124m\"\u001b[39m\u001b[38;5;124mVoice muting oberved from:\u001b[39m\u001b[38;5;132;01m{\u001b[39;00mpackets_sequence[index\u001b[38;5;241m+\u001b[39m\u001b[38;5;241m1\u001b[39m]\u001b[38;5;132;01m}\u001b[39;00m\u001b[38;5;124m to  \u001b[39m\u001b[38;5;132;01m{\u001b[39;00mpackets_sequence[index]\u001b[38;5;132;01m}\u001b[39;00m\u001b[38;5;124m\"\u001b[39m\n\u001b[1;32m---> 26\u001b[0m     \u001b[38;5;28;01mraise\u001b[39;00m \u001b[38;5;167;01mRuntimeError\u001b[39;00m(error)\n",
      "\u001b[1;31mRuntimeError\u001b[0m: Voice muting oberved from:49 to  27"
     ]
    }
   ],
   "source": [
    "raw_sequence  = [1,2,3,4,5,6,7,8,9,10,11,12,13,14,15,20,21,22,0,0,0,5,27,49,89]\n",
    "packets_sequence =[]\n",
    "for seq in raw_sequence:\n",
    "    if not packets_sequence:\n",
    "        packets_sequence.append(seq)\n",
    "    else:\n",
    "        if packets_sequence[-1]<seq:\n",
    "            packets_sequence.append(seq)\n",
    "\n",
    "print(packets_sequence)\n",
    "\n",
    "packets_total = int(packets_sequence[len(packets_sequence)-1])\n",
    "print(packets_total)\n",
    "present_packets = len(packets_sequence)\n",
    "print(present_packets)\n",
    "packets_loss = present_packets / packets_total\n",
    "print(packets_loss)\n",
    "if packets_loss < 0.08:\n",
    "    error = f\"voice muting or possible gargled voice observed:{packets_loss:.2f}\"\n",
    "    raise RuntimeError(error)\n",
    "for index in range(len(packets_sequence) - 1):\n",
    "            missing_packets = int(packets_sequence[index + 1]) - int(packets_sequence[index])\n",
    "            print (missing_packets)\n",
    "            if missing_packets > 15:\n",
    "                error = f\"Voice muting oberved from:{packets_sequence[index+1]} to  {packets_sequence[index]}\"\n",
    "                raise RuntimeError(error)"
   ]
  },
  {
   "cell_type": "code",
   "execution_count": 17,
   "id": "15f6d29e",
   "metadata": {},
   "outputs": [
    {
     "data": {
      "text/plain": [
       "'Maserati'"
      ]
     },
     "execution_count": 17,
     "metadata": {},
     "output_type": "execute_result"
    }
   ],
   "source": []
  },
  {
   "cell_type": "code",
   "execution_count": 47,
   "id": "fab41ffa",
   "metadata": {},
   "outputs": [
    {
     "name": "stderr",
     "output_type": "stream",
     "text": [
      "IOPub data rate exceeded.\n",
      "The notebook server will temporarily stop sending output\n",
      "to the client in order to avoid crashing it.\n",
      "To change this limit, set the config variable\n",
      "`--NotebookApp.iopub_data_rate_limit`.\n",
      "\n",
      "Current values:\n",
      "NotebookApp.iopub_data_rate_limit=1000000.0 (bytes/sec)\n",
      "NotebookApp.rate_limit_window=3.0 (secs)\n",
      "\n"
     ]
    }
   ],
   "source": [
    "\n",
    "old =['1', '2', '3', '4', '5', '6', '7', '8', '9', '10', '11', '12', '13', '14', '15', '16', '17', '18', '19', '20', '21', '22', '23', '24', '25', '26', '27', '28', '29', '30', '31', '32', '33', '34', '35', '36', '37', '38', '39', '40', '41', '42', '43', '44', '45', '46', '47', '48', '49', '50', '51', '52', '53', '54', '55', '56', '57', '58', '59', '60', '61', '62', '63', '64', '65', '66', '67', '68', '69', '70', '71', '72', '73', '74', '75', '76', '77', '78', '79', '80', '81', '82', '83', '84', '85', '86', '87', '88', '89', '90', '91', '92', '93', '94', '95', '96', '97', '98', '99', '100', '101', '102', '103', '104', '105', '106', '107', '108', '109', '110', '111', '112', '113', '114', '115', '116', '117', '118', '119', '120', '121', '122', '123', '124', '125', '126', '127', '128', '129', '130', '131', '132', '133', '134', '135', '136', '137', '138', '139', '140', '141', '142', '143', '144', '145', '146', '147', '148', '149', '150', '151', '152', '153', '154', '155', '156', '157', '158', '159', '160', '161', '162', '163', '164', '165', '166', '167', '168', '169', '170', '171', '172', '173', '174', '175', '176', '177', '178', '179', '180', '181', '182', '183', '184', '185', '186', '187', '188', '189', '190', '191', '192', '193', '194', '195', '196', '197', '198', '199', '200', '201', '202', '203', '204', '205', '206', '207', '208', '209', '210', '211', '212', '213', '214', '215', '216', '217', '218', '219', '220', '221', '222', '223', '224', '225', '226', '227', '228', '229', '230', '231', '232', '233', '234', '235', '236', '237', '238', '239', '240', '241', '242', '243', '244', '245', '246', '247', '248', '249', '250', '251', '252', '253', '254', '255', '256', '257', '258', '259', '260', '261', '262', '263', '264', '265', '266', '267', '268', '269', '270', '271', '272', '273', '274', '275', '276', '277', '278', '279', '280', '281', '282', '283', '284', '285', '286', '287', '288', '289', '290', '291', '292', '293', '294', '295', '296', '297', '298', '299', '300', '301', '302', '303', '304', '305', '306', '307', '308', '309', '310', '311', '312', '313', '314', '315', '316', '317', '318', '319', '320', '321', '322', '323', '324', '325', '326', '327', '328', '329', '330', '331', '332', '333', '334', '335', '336', '337', '338', '339', '340', '341', '342', '343', '344', '345', '346', '347', '348', '349', '350', '351', '352', '353', '354', '355', '356', '357', '358', '359', '360', '361', '362', '363', '364', '365', '366', '367', '368', '369', '370', '371', '372', '373', '374', '375', '376', '377', '378', '379', '380', '381', '382', '383', '384', '385', '386', '387', '388', '389', '390', '391', '392', '393', '394', '395', '396', '397', '398', '399', '400', '401', '402', '403', '404', '405', '406', '407', '408', '409', '410', '411', '412', '413', '414', '415', '416', '417', '418', '419', '420', '421', '422', '423', '424', '425', '426', '427', '428', '429', '430', '431', '432', '433', '434', '435', '436', '437', '438', '439', '440', '441', '442', '443', '444', '445', '446', '447', '448', '449', '450', '451', '452', '453', '454', '455', '456', '457', '458', '459', '460', '461', '462', '463', '464', '465', '466', '467', '468', '469', '470', '471', '472', '473', '474', '475', '476', '477', '478', '479', '480', '481', '482', '483', '484', '485', '486', '487', '488', '489', '490', '491', '492', '493', '494', '495', '496', '497', '498', '499', '500', '501', '502', '503', '504', '505', '506', '507', '508', '509', '510', '511', '512', '513', '514', '515', '516', '517', '518', '519', '520', '521', '522', '523', '524', '525', '526', '527', '528', '529', '530', '531', '532', '533', '534', '535', '536', '537', '538', '539', '540', '541', '542', '543', '544', '545', '546', '547', '548', '549', '550', '551', '552', '553', '554', '555', '556', '557', '558', '559', '560', '561', '562', '563', '564', '565', '566', '567', '568', '569', '570', '571', '572', '573', '574', '575', '576', '577', '578', '579', '580', '581', '582', '583', '584', '585', '586', '587', '588', '589', '590', '591', '592', '593', '594', '595', '596', '597', '598', '599', '600', '601', '602', '603', '604', '618', '619', '620', '621', '622', '623', '624', '625', '626', '627', '628', '629', '630', '631', '632', '633', '634', '635', '636', '637', '638', '639', '640', '641', '642', '643', '644', '645', '646', '647', '648', '649', '650', '651', '652', '653', '654', '655', '656', '657', '658', '659', '660', '661', '662', '663', '664', '665', '666', '667', '668', '669', '670', '671', '672', '673', '674', '675', '676', '677', '678', '679', '680', '681', '682', '683', '684', '685', '686', '687', '688', '689', '690', '691', '692', '693', '694', '695', '696', '697', '698', '699', '700', '701', '702', '703', '704', '705', '706', '707', '708', '709', '710', '711', '712', '713', '714', '715', '716', '717', '718', '719', '720', '721', '722', '723', '724', '725', '726', '727', '728', '729', '730', '731', '732', '733', '734', '735', '736', '737', '738', '739', '740', '741', '742', '743', '744', '745', '746', '747', '748', '749', '750', '751', '752', '753', '754', '755', '756', '757', '758', '759', '760', '761', '762', '763', '764', '765', '766', '767', '768', '769', '770', '771', '772', '773', '774', '775', '776', '777', '778', '779', '780', '781', '782', '783', '784', '785', '786', '787', '788', '789', '790', '791', '792', '793', '794', '795', '796', '797', '798', '799', '800', '801', '802', '803', '804', '805', '806', '807', '808', '809', '810', '811', '812', '813', '814', '815', '816', '817', '818', '819', '820', '821', '822', '823', '824', '825', '826', '827', '828', '829', '830', '831', '832', '833', '834', '835', '836', '837', '838', '839', '840', '841', '842', '843', '844', '845', '846', '847', '848', '849', '850', '851', '852', '853', '854', '855', '856', '857', '858', '859', '860', '861', '862', '863', '864', '865', '866', '867', '868', '869', '870', '871', '873', '894', '895', '896', '897', '898', '899', '900', '901', '902', '903', '904', '905', '906', '907', '908', '909', '910', '911', '912', '913', '914', '915', '916', '917', '918', '919', '920', '921', '922', '923', '924', '925', '926', '927', '928', '929', '930', '931', '932', '933', '934', '935', '936', '937', '938', '939', '940', '941', '942', '943', '944', '945', '946', '947', '948', '949', '950', '951', '952', '953', '954', '955', '956', '957', '958', '959', '960', '961', '962', '963', '964', '965', '966', '967', '968', '969', '970', '971', '972', '973', '974', '975', '976', '977', '978', '979', '980', '981', '982', '983', '984', '985', '986', '987', '988', '989', '990', '991', '992', '993', '994', '995', '996', '997', '998', '999', '1000', '1001', '1002', '1003', '1004', '1005', '1006', '1007', '1008', '1009', '1010', '1011', '1012', '1013', '1014', '1015', '1016', '1017', '1018', '1019', '1020', '1021', '1022', '1023', '1024', '1025', '1026', '1027', '1028', '1029', '1030', '1031', '1032', '1033', '1034', '1035', '1036', '1037', '1038', '1039', '1040', '1041', '1042', '1043', '1044', '1045', '1046', '1047', '1048', '1049', '1050', '1051', '1052', '1053', '1054', '1055', '1056', '1057', '1058', '1059', '1060', '1061', '1062', '1063', '1064', '1065', '1066', '1067', '1068', '1069', '1070', '1071', '1072', '1073', '1074', '1075', '1076', '1077', '1078', '1079', '1080', '1081', '1082', '1083', '1084', '1085', '1086', '1087', '1088', '1089', '1090', '1091', '1092', '1093', '1094', '1095', '1096', '1097', '1098', '1099', '1100', '1101', '1102', '1103', '1104', '1105', '1106', '1107', '1108', '1109', '1110', '1111', '1112', '1113', '1113', '1133', '1134', '1135', '1136', '1137', '1138', '1139', '1140', '1141', '1142', '1143', '1144', '1145', '1146', '1147', '1148', '1149', '1150', '1151', '1152', '1153', '1154', '1155', '1156', '1157', '1158', '1159', '1160', '1161', '1162', '1163', '1164', '1165', '1166', '1167', '1168', '1169', '1170', '1171', '1172', '1173', '1174', '1175', '1176', '1177', '1178', '1179', '1180', '1181', '1182', '1183', '1184', '1185', '1186', '1187', '1188', '1189', '1190', '1191', '1192', '1193', '1194', '1195', '1196', '1197', '1198', '1199', '1200', '1201', '1202', '1203', '1204', '1205', '1206', '1207', '1208', '1209', '1210', '1211', '1212', '1213', '1214', '1215', '1216', '1217', '1218', '1219', '1220', '1221', '1222', '1223', '1224', '1225', '1226', '1227', '1228', '1229', '1230', '1231', '1232', '1233', '1234', '1235', '1236', '1237', '1238', '1239', '1240', '1241', '1242', '1243', '1244', '1245', '1246', '1247', '1248', '1249', '1250', '1251', '1252', '1253', '1254', '1255', '1256', '1257', '1258', '1259', '1260', '1261', '1262', '1263', '1264', '1265', '1266', '1267', '1268', '1269', '1270', '1271', '1272', '1273', '1274', '1275', '1276', '1277', '1278', '1279', '1280', '1281', '1282', '1283', '1284', '1285', '1286', '1287', '1288', '1289', '1290', '1291', '1292', '1293', '1294', '1295', '1296', '1297', '1298', '1299', '1300', '1301', '1302', '1303', '1304', '1305', '1306', '1307', '1308', '1309', '1310']\n",
    "new =[]\n",
    "for i in old:\n",
    "    if not new:\n",
    "        new.append(i)\n",
    "    else:\n",
    "        if int(new[-1])<int(i):\n",
    "            new.append(i)\n",
    "            print(new)          \n",
    "        "
   ]
  },
  {
   "cell_type": "code",
   "execution_count": 7,
   "id": "5e277b80",
   "metadata": {},
   "outputs": [
    {
     "name": "stdout",
     "output_type": "stream",
     "text": [
      "array('i', [1, 2, 3, 4, 5])\n"
     ]
    }
   ],
   "source": [
    "from array import *\n",
    "array_num= array('i',[1,2,3,4,5])\n",
    "print(array_num)"
   ]
  },
  {
   "cell_type": "code",
   "execution_count": 8,
   "id": "683d6f3c",
   "metadata": {},
   "outputs": [
    {
     "name": "stdout",
     "output_type": "stream",
     "text": [
      "array('i', [1, 2, 3, 4, 5, 11])\n",
      "Original array: array('i', [1, 2, 3, 4, 5, 11])\n",
      "Length in bytes of one array item: 4\n"
     ]
    }
   ],
   "source": [
    "array_num.append(11)\n",
    "print(array_num)\n",
    "print(\"Original array: \"+str(array_num))\n",
    "print(\"Length in bytes of one array item: \"+str(array_num.itemsize))"
   ]
  },
  {
   "cell_type": "code",
   "execution_count": 11,
   "id": "5047464a",
   "metadata": {},
   "outputs": [
    {
     "name": "stdout",
     "output_type": "stream",
     "text": [
      "Original array: array('i', [1, 3, 5, 7, 9])\n",
      "Current memory address and the length in elements of the buffer: (2094124172688, 5)\n",
      "The size of the memory buffer in bytes: 20\n"
     ]
    }
   ],
   "source": [
    "from array import *\n",
    "array_num = array('i', [1, 3, 5, 7, 9])\n",
    "print(\"Original array: \"+str(array_num))\n",
    "print(\"Current memory address and the length in elements of the buffer: \"+str(array_num.buffer_info()))\n",
    "print(\"The size of the memory buffer in bytes: \"+str(array_num.buffer_info()[1] * array_num.itemsize))\n"
   ]
  },
  {
   "cell_type": "code",
   "execution_count": 14,
   "id": "13ec1f0f",
   "metadata": {},
   "outputs": [
    {
     "data": {
      "text/plain": [
       "5"
      ]
     },
     "execution_count": 14,
     "metadata": {},
     "output_type": "execute_result"
    }
   ],
   "source": [
    "array_num.buffer_info()[1]"
   ]
  },
  {
   "cell_type": "code",
   "execution_count": 20,
   "id": "0813512c",
   "metadata": {},
   "outputs": [
    {
     "data": {
      "text/plain": [
       "3"
      ]
     },
     "execution_count": 20,
     "metadata": {},
     "output_type": "execute_result"
    }
   ],
   "source": [
    "array_num=array('i', [1, 3, 5, 3, 7, 9, 3])\n",
    "array_num.count(3)\n",
    "\n"
   ]
  },
  {
   "cell_type": "code",
   "execution_count": 22,
   "id": "541d1dab",
   "metadata": {},
   "outputs": [],
   "source": [
    "array_num.reverse()\n"
   ]
  },
  {
   "cell_type": "code",
   "execution_count": 23,
   "id": "4f60e76b",
   "metadata": {},
   "outputs": [
    {
     "name": "stdout",
     "output_type": "stream",
     "text": [
      "Bytes to String: \n",
      "b'w3resource'\n"
     ]
    }
   ],
   "source": [
    "from array import *\n",
    "print(\"Bytes to String: \")\n",
    "x = array('b', [119, 51, 114, 101,  115, 111, 117, 114, 99, 101])\n",
    "s = x.tobytes()\n",
    "print(s)"
   ]
  },
  {
   "cell_type": "code",
   "execution_count": 25,
   "id": "8de8e09d",
   "metadata": {},
   "outputs": [
    {
     "name": "stdout",
     "output_type": "stream",
     "text": [
      "[1, 3, 5, 3, 7, 9, 3]\n"
     ]
    }
   ],
   "source": [
    "num_list = array_num.tolist()\n",
    "print(num_list)"
   ]
  },
  {
   "cell_type": "code",
   "execution_count": 26,
   "id": "452968cc",
   "metadata": {},
   "outputs": [],
   "source": [
    "def test_duplicate(array_nums):\n",
    "    nums_set = set(array_nums)    \n",
    "    return len(array_nums) != len(nums_set)"
   ]
  },
  {
   "cell_type": "code",
   "execution_count": 27,
   "id": "8ca91113",
   "metadata": {},
   "outputs": [
    {
     "name": "stdout",
     "output_type": "stream",
     "text": [
      "False\n",
      "True\n",
      "True\n"
     ]
    }
   ],
   "source": [
    "print(test_duplicate([1,2,3,4,5]))\n",
    "print(test_duplicate([1,2,3,4, 4]))\n",
    "print(test_duplicate([1,1,2,2,3,3,4,4,5]))"
   ]
  },
  {
   "cell_type": "code",
   "execution_count": 28,
   "id": "86824c6e",
   "metadata": {},
   "outputs": [],
   "source": [
    "def find_first_duplicate(num):\n",
    "    num_set=set()\n",
    "    dup =-1\n",
    "    for i in range(len(num)):\n",
    "        if num[i] in num_set:\n",
    "            return num[i]\n",
    "        else:\n",
    "            num_set.add(num[i])\n",
    "    return dup        "
   ]
  },
  {
   "cell_type": "code",
   "execution_count": 29,
   "id": "74c242e1",
   "metadata": {},
   "outputs": [
    {
     "name": "stdout",
     "output_type": "stream",
     "text": [
      "4\n",
      "-1\n",
      "1\n"
     ]
    }
   ],
   "source": [
    "print(find_first_duplicate([1, 2, 3, 4, 4, 5]))\n",
    "print(find_first_duplicate([1, 2, 3, 4]))\n",
    "print(find_first_duplicate([1, 1, 2, 3, 3, 2, 2]))"
   ]
  },
  {
   "cell_type": "code",
   "execution_count": 54,
   "id": "34d116eb",
   "metadata": {},
   "outputs": [
    {
     "name": "stdout",
     "output_type": "stream",
     "text": [
      "{'a', 'b'}\n",
      "{'red', 'green'}\n",
      "{'a': ['red'], 'b': ['green', 'green']}\n",
      "2\n",
      "True\n",
      "{'a', 'b'}\n",
      "{'red', 'greenn', 'green'}\n",
      "{'a': ['red'], 'b': ['green', 'greenn']}\n",
      "2\n",
      "False\n"
     ]
    }
   ],
   "source": [
    "def is_samePatterns(colors, patterns):    \n",
    "    if len(colors) != len(patterns):\n",
    "        return False    \n",
    "    sdict = {}\n",
    "    pset = set()\n",
    "    sset = set()    \n",
    "    for i in range(len(patterns)):\n",
    "        pset.add(patterns[i])\n",
    "        sset.add(colors[i])\n",
    "        if patterns[i] not in sdict.keys():\n",
    "            sdict[patterns[i]] = []\n",
    "\n",
    "        keys = sdict[patterns[i]]\n",
    "        keys.append(colors[i])\n",
    "        sdict[patterns[i]] = keys\n",
    "    print(pset)\n",
    "    print(sset)\n",
    "    print(sdict)\n",
    "    print(len(sdict.values()))\n",
    "\n",
    "    if len(pset) != len(sset):\n",
    "        return False   \n",
    "\n",
    "    for values in sdict.values():\n",
    "        \n",
    "        for i in range(len(values) - 1):\n",
    "            if values[i] != values[i+1]:\n",
    "                return False\n",
    "\n",
    "    return True\n",
    "\n",
    "print(is_samePatterns([\"red\", \n",
    " \"green\", \n",
    " \"green\"], [\"a\", \n",
    " \"b\", \n",
    " \"b\"])) \n",
    "\n",
    "print(is_samePatterns([\"red\", \n",
    " \"green\", \n",
    " \"greenn\"], [\"a\", \n",
    " \"b\", \n",
    " \"b\"])) \n",
    "       \n",
    "\n"
   ]
  },
  {
   "cell_type": "code",
   "execution_count": 49,
   "id": "c1cbcea4",
   "metadata": {},
   "outputs": [
    {
     "name": "stdout",
     "output_type": "stream",
     "text": [
      "False\n"
     ]
    }
   ],
   "source": [
    "print(is_samePatterns([\"red\", \n",
    " \"green\", \n",
    " \"greenn\"], [\"a\", \n",
    " \"b\", \n",
    " \"b\"])) "
   ]
  },
  {
   "cell_type": "code",
   "execution_count": 58,
   "id": "078083dc",
   "metadata": {},
   "outputs": [],
   "source": [
    "import re\n",
    "def is_allowed_specific_char(string):\n",
    "    charRe = re.compile(r'[^a-zA-Z0-9]')\n",
    "    string = charRe.search(string)\n",
    "    return  bool(string)"
   ]
  },
  {
   "cell_type": "code",
   "execution_count": 59,
   "id": "6776a0a7",
   "metadata": {},
   "outputs": [
    {
     "name": "stdout",
     "output_type": "stream",
     "text": [
      "False\n",
      "True\n"
     ]
    }
   ],
   "source": [
    "print(is_allowed_specific_char(\"ABCDEFabcdef123450\")) \n",
    "print(is_allowed_specific_char(\"*&%@#!}{\"))"
   ]
  },
  {
   "cell_type": "code",
   "execution_count": null,
   "id": "dfed2ff3",
   "metadata": {},
   "outputs": [],
   "source": [
    "import re\n",
    "def text_match(text):\n",
    "        patterns = '^a(b*)$'\n",
    "        if re.search(patterns,  text):\n",
    "                return 'Found a match!'\n",
    "        else:\n",
    "                return('Not matched!')\n",
    "print(text_match(\"ac\"))\n",
    "print(text_match(\"abc\"))\n",
    "print(text_match(\"a\"))\n",
    "print(text_match(\"ab\"))\n",
    "print(text_match(\"abb\"))"
   ]
  },
  {
   "cell_type": "code",
   "execution_count": 47,
   "id": "40f4e2bb",
   "metadata": {},
   "outputs": [],
   "source": [
    "import re\n",
    "def text_match(text):\n",
    "        patterns = '\\bz\\b'\n",
    "        if re.search(patterns,  text):\n",
    "                return 'Found a match!'\n",
    "        else:\n",
    "                return('Not matched!')"
   ]
  },
  {
   "cell_type": "code",
   "execution_count": 48,
   "id": "ac6c12f3",
   "metadata": {},
   "outputs": [
    {
     "name": "stdout",
     "output_type": "stream",
     "text": [
      "Not matched!\n",
      "Not matched!\n"
     ]
    }
   ],
   "source": [
    "\n",
    "print(text_match(\"The quick brown fox jumps over the azb dog.\"))\n",
    "print(text_match(\"Python Exercises.\"))"
   ]
  },
  {
   "cell_type": "code",
   "execution_count": null,
   "id": "271a1bd5",
   "metadata": {},
   "outputs": [],
   "source": []
  },
  {
   "cell_type": "code",
   "execution_count": null,
   "id": "0fc061ba",
   "metadata": {},
   "outputs": [],
   "source": []
  }
 ],
 "metadata": {
  "kernelspec": {
   "display_name": "Python 3 (ipykernel)",
   "language": "python",
   "name": "python3"
  },
  "language_info": {
   "codemirror_mode": {
    "name": "ipython",
    "version": 3
   },
   "file_extension": ".py",
   "mimetype": "text/x-python",
   "name": "python",
   "nbconvert_exporter": "python",
   "pygments_lexer": "ipython3",
   "version": "3.10.11"
  }
 },
 "nbformat": 4,
 "nbformat_minor": 5
}

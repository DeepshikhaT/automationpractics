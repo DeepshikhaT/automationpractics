{
 "cells": [
  {
   "cell_type": "code",
   "execution_count": 1,
   "id": "8dd5ee7b",
   "metadata": {},
   "outputs": [
    {
     "ename": "SyntaxError",
     "evalue": "invalid syntax. Perhaps you forgot a comma? (3580008964.py, line 1)",
     "output_type": "error",
     "traceback": [
      "\u001b[1;36m  Cell \u001b[1;32mIn[1], line 1\u001b[1;36m\u001b[0m\n\u001b[1;33m    val= [{'attr': {'act': 'false','allo': 'max MI','cAggrLteN': ['-1']'dlPathlossChg': '3 db','dynTriggerLteNrDcConfList': [{'actB1NrBeamMeas': 'false','lcrId': '-1','method': 'coverageBased'}]}}]\u001b[0m\n\u001b[1;37m                                                                 ^\u001b[0m\n\u001b[1;31mSyntaxError\u001b[0m\u001b[1;31m:\u001b[0m invalid syntax. Perhaps you forgot a comma?\n"
     ]
    }
   ],
   "source": [
    "val= [{'attr': {'act': 'false','allo': 'max MI','cAggrLteN': ['-1']'dlPathlossChg': '3 db','dynTriggerLteNrDcConfList': [{'actB1NrBeamMeas': 'false','lcrId': '-1','method': 'coverageBased'}]}}]"
   ]
  },
  {
   "cell_type": "code",
   "execution_count": null,
   "id": "6d82368a",
   "metadata": {},
   "outputs": [],
   "source": []
  },
  {
   "cell_type": "code",
   "execution_count": null,
   "id": "352b6a16",
   "metadata": {},
   "outputs": [],
   "source": []
  },
  {
   "cell_type": "code",
   "execution_count": 5,
   "id": "dcf1edbe",
   "metadata": {},
   "outputs": [],
   "source": [
    "val= [{'attr': {'actSortBcListEnDc': 'false',\n",
    "           'allowedBcSelectMethod': 'max MIMO layers with max CCs',\n",
    "           'cAggrLteNrDcCellList': ['-1'],\n",
    "           'dlPathlossChg': '3 db',\n",
    "           'dynTriggerLteNrDcConfList': [{'actB1NrBeamMeas': 'false',\n",
    "                                          'lcrId': '-1',\n",
    "                                          'method': 'coverageBased'}],\n",
    "           'enDCpMaxEUTRApowerOffset': '0',\n",
    "           'enDCpMaxNRpowerOffset': '0',\n",
    "           'tPeriodicPhr': '20sf',\n",
    "           'tProhibitPhr': '0sf'},\n",
    "  'distName': 'MRBTS-4004880/LNBTS-240/NRDCDPR-0'}]"
   ]
  },
  {
   "cell_type": "code",
   "execution_count": 6,
   "id": "876b8a76",
   "metadata": {},
   "outputs": [],
   "source": [
    "a =[{'attr': {'act': 'false','allo': 'max MI','cAggrLteN': ['-1'],'dlPathlossChg': '3 db','dynTriggerLteNrDcConfList': [{'actB1NrBeamMeas': 'false','lcrId': '-1','method': 'coverageBased'}]}}]"
   ]
  },
  {
   "cell_type": "code",
   "execution_count": 7,
   "id": "61fa1d97",
   "metadata": {},
   "outputs": [],
   "source": [
    "b =   a[0]['attr']['dynTriggerLteNrDcConfList'][0]['method']"
   ]
  },
  {
   "cell_type": "code",
   "execution_count": 8,
   "id": "358b22ea",
   "metadata": {},
   "outputs": [
    {
     "data": {
      "text/plain": [
       "'coverageBased'"
      ]
     },
     "execution_count": 8,
     "metadata": {},
     "output_type": "execute_result"
    }
   ],
   "source": [
    "b"
   ]
  },
  {
   "cell_type": "code",
   "execution_count": 4,
   "id": "185727e1",
   "metadata": {},
   "outputs": [],
   "source": [
    "class Solution(object):\n",
    "    def strStr(self, haystack, needle):\n",
    "        \"\"\"\n",
    "        :type haystack: str\n",
    "        :type needle: str\n",
    "        :rtype: int\n",
    "        \"\"\"\n",
    "        if needle in haystack:\n",
    "            haystack[:len(needle)]==needle\n",
    "            return 0\n",
    "        else:\n",
    "            return -1"
   ]
  },
  {
   "cell_type": "code",
   "execution_count": 5,
   "id": "7736fe2b",
   "metadata": {},
   "outputs": [],
   "source": [
    "s= Solution()"
   ]
  },
  {
   "cell_type": "code",
   "execution_count": 7,
   "id": "005a938d",
   "metadata": {},
   "outputs": [
    {
     "data": {
      "text/plain": [
       "-1"
      ]
     },
     "execution_count": 7,
     "metadata": {},
     "output_type": "execute_result"
    }
   ],
   "source": [
    "s.strStr(\"leetcode\",'leeto')"
   ]
  },
  {
   "cell_type": "code",
   "execution_count": 2,
   "id": "279d099e",
   "metadata": {},
   "outputs": [],
   "source": [
    "class Solution(object):\n",
    "    def class Solution(object):\n",
    "    def searchInsert(self, nums, target):\n",
    "        \"\"\"\n",
    "        :type nums: List[int]\n",
    "        :type target: int\n",
    "        :rtype: int\n",
    "        \"\"\"(self, nums, target):\n",
    "        \"\"\"\n",
    "        :type nums: List[int]\n",
    "        :type target: int\n",
    "        :rtype: int\n",
    "        \"\"\"\n"
   ]
  },
  {
   "cell_type": "code",
   "execution_count": 18,
   "id": "a1a76e78",
   "metadata": {},
   "outputs": [],
   "source": [
    "    def searchInsert(nums, target):   \n",
    "        if target in nums:\n",
    "            return nums.index(target)\n",
    "        elif target-1 in nums:\n",
    "            return nums.index(target-1)+1\n",
    "        elif target+1 in nums:\n",
    "            return  nums.index(target+1)-1"
   ]
  },
  {
   "cell_type": "code",
   "execution_count": 19,
   "id": "eff1960f",
   "metadata": {},
   "outputs": [
    {
     "data": {
      "text/plain": [
       "4"
      ]
     },
     "execution_count": 19,
     "metadata": {},
     "output_type": "execute_result"
    }
   ],
   "source": [
    "nums = [1,3,5,6]\n",
    "target = 7\n",
    "searchInsert(nums, target)"
   ]
  },
  {
   "cell_type": "code",
   "execution_count": 2,
   "id": "ac80a87d",
   "metadata": {},
   "outputs": [],
   "source": [
    "def count_way_to_climb(n):\n",
    "    if n <=0:\n",
    "        return 0\n",
    "    elif n==1:\n",
    "        return 1\n",
    "    elif n==2:\n",
    "        return 2\n",
    "    else:\n",
    "        ways = [0]*(n+1)\n",
    "        \n",
    "        ways[0]=0\n",
    "        ways[1]=1\n",
    "        ways[2]=2\n",
    "        for i in range(3,n+1):\n",
    "            ways[i]=ways[i-1]+ways[i-2]\n",
    "            print(ways[i])\n",
    "        return ways[n]"
   ]
  },
  {
   "cell_type": "code",
   "execution_count": 3,
   "id": "02579e1c",
   "metadata": {},
   "outputs": [
    {
     "name": "stdout",
     "output_type": "stream",
     "text": [
      "3\n"
     ]
    },
    {
     "data": {
      "text/plain": [
       "3"
      ]
     },
     "execution_count": 3,
     "metadata": {},
     "output_type": "execute_result"
    }
   ],
   "source": [
    "count_way_to_climb(3)"
   ]
  },
  {
   "cell_type": "code",
   "execution_count": 19,
   "id": "439b9b0c",
   "metadata": {},
   "outputs": [],
   "source": [
    "class Solution(object):\n",
    "    def climbStairs(self, n):\n",
    "        \"\"\"\n",
    "        :type n: int\n",
    "        :rtype: int\n",
    "        \"\"\"\n",
    "        if n == 0:\n",
    "            return 0\n",
    "        elif n == 1:\n",
    "            return 1\n",
    "        elif n == 2:\n",
    "            return 2\n",
    "        else:\n",
    "            ways = [0]*(n+1)\n",
    "            ways[0]=0\n",
    "            ways[1]=1\n",
    "            ways[2]=2\n",
    "            print(ways)\n",
    "            for i in range (3,n+1):\n",
    "                ways[i]=ways[i-1]+ways[i-2]\n",
    "                print(ways[n])\n",
    "            return ways[n]              \n"
   ]
  },
  {
   "cell_type": "code",
   "execution_count": 20,
   "id": "864e53b0",
   "metadata": {},
   "outputs": [],
   "source": [
    "s = Solution()"
   ]
  },
  {
   "cell_type": "code",
   "execution_count": 23,
   "id": "4782a77a",
   "metadata": {},
   "outputs": [
    {
     "name": "stdout",
     "output_type": "stream",
     "text": [
      "[0, 1, 2, 0, 0, 0]\n",
      "0\n",
      "0\n",
      "8\n"
     ]
    },
    {
     "data": {
      "text/plain": [
       "8"
      ]
     },
     "execution_count": 23,
     "metadata": {},
     "output_type": "execute_result"
    }
   ],
   "source": [
    "s.climbStairs(5)"
   ]
  },
  {
   "cell_type": "code",
   "execution_count": 32,
   "id": "3db245a0",
   "metadata": {},
   "outputs": [],
   "source": [
    "class Node:\n",
    "    def __init__(self,data):\n",
    "        self.data = data\n",
    "        self.next =None\n",
    "    \n",
    "    def __repr__():\n",
    "        return self.data\n",
    "    \n",
    "class LinkedList:\n",
    "        def __init__(self):\n",
    "            self.head = None\n",
    "\n",
    "        def __repr__(self):\n",
    "            node = self.head\n",
    "            nodes = []\n",
    "            while node is not None:\n",
    "                nodes.append(node.data)\n",
    "                node = node.next\n",
    "                nodes.append(\"None\")\n",
    "                return \" -> \".join(nodes)\n",
    "        \n",
    "    "
   ]
  },
  {
   "cell_type": "code",
   "execution_count": 33,
   "id": "8bc1a11b",
   "metadata": {},
   "outputs": [],
   "source": [
    "ll = LinkedList()"
   ]
  },
  {
   "cell_type": "code",
   "execution_count": 34,
   "id": "aad50fd5",
   "metadata": {},
   "outputs": [],
   "source": [
    "first_node = Node(\"a\")"
   ]
  },
  {
   "cell_type": "code",
   "execution_count": 35,
   "id": "55607160",
   "metadata": {},
   "outputs": [],
   "source": [
    "second_node =Node(\"b\")"
   ]
  },
  {
   "cell_type": "code",
   "execution_count": 36,
   "id": "bc8e3d35",
   "metadata": {},
   "outputs": [
    {
     "ename": "TypeError",
     "evalue": "__repr__ returned non-string (type NoneType)",
     "output_type": "error",
     "traceback": [
      "\u001b[1;31m---------------------------------------------------------------------------\u001b[0m",
      "\u001b[1;31mTypeError\u001b[0m                                 Traceback (most recent call last)",
      "File \u001b[1;32m~\\AppData\\Local\\Programs\\Python\\Python310\\lib\\site-packages\\IPython\\core\\formatters.py:708\u001b[0m, in \u001b[0;36mPlainTextFormatter.__call__\u001b[1;34m(self, obj)\u001b[0m\n\u001b[0;32m    701\u001b[0m stream \u001b[38;5;241m=\u001b[39m StringIO()\n\u001b[0;32m    702\u001b[0m printer \u001b[38;5;241m=\u001b[39m pretty\u001b[38;5;241m.\u001b[39mRepresentationPrinter(stream, \u001b[38;5;28mself\u001b[39m\u001b[38;5;241m.\u001b[39mverbose,\n\u001b[0;32m    703\u001b[0m     \u001b[38;5;28mself\u001b[39m\u001b[38;5;241m.\u001b[39mmax_width, \u001b[38;5;28mself\u001b[39m\u001b[38;5;241m.\u001b[39mnewline,\n\u001b[0;32m    704\u001b[0m     max_seq_length\u001b[38;5;241m=\u001b[39m\u001b[38;5;28mself\u001b[39m\u001b[38;5;241m.\u001b[39mmax_seq_length,\n\u001b[0;32m    705\u001b[0m     singleton_pprinters\u001b[38;5;241m=\u001b[39m\u001b[38;5;28mself\u001b[39m\u001b[38;5;241m.\u001b[39msingleton_printers,\n\u001b[0;32m    706\u001b[0m     type_pprinters\u001b[38;5;241m=\u001b[39m\u001b[38;5;28mself\u001b[39m\u001b[38;5;241m.\u001b[39mtype_printers,\n\u001b[0;32m    707\u001b[0m     deferred_pprinters\u001b[38;5;241m=\u001b[39m\u001b[38;5;28mself\u001b[39m\u001b[38;5;241m.\u001b[39mdeferred_printers)\n\u001b[1;32m--> 708\u001b[0m \u001b[43mprinter\u001b[49m\u001b[38;5;241;43m.\u001b[39;49m\u001b[43mpretty\u001b[49m\u001b[43m(\u001b[49m\u001b[43mobj\u001b[49m\u001b[43m)\u001b[49m\n\u001b[0;32m    709\u001b[0m printer\u001b[38;5;241m.\u001b[39mflush()\n\u001b[0;32m    710\u001b[0m \u001b[38;5;28;01mreturn\u001b[39;00m stream\u001b[38;5;241m.\u001b[39mgetvalue()\n",
      "File \u001b[1;32m~\\AppData\\Local\\Programs\\Python\\Python310\\lib\\site-packages\\IPython\\lib\\pretty.py:410\u001b[0m, in \u001b[0;36mRepresentationPrinter.pretty\u001b[1;34m(self, obj)\u001b[0m\n\u001b[0;32m    407\u001b[0m                         \u001b[38;5;28;01mreturn\u001b[39;00m meth(obj, \u001b[38;5;28mself\u001b[39m, cycle)\n\u001b[0;32m    408\u001b[0m                 \u001b[38;5;28;01mif\u001b[39;00m \u001b[38;5;28mcls\u001b[39m \u001b[38;5;129;01mis\u001b[39;00m \u001b[38;5;129;01mnot\u001b[39;00m \u001b[38;5;28mobject\u001b[39m \\\n\u001b[0;32m    409\u001b[0m                         \u001b[38;5;129;01mand\u001b[39;00m \u001b[38;5;28mcallable\u001b[39m(\u001b[38;5;28mcls\u001b[39m\u001b[38;5;241m.\u001b[39m\u001b[38;5;18m__dict__\u001b[39m\u001b[38;5;241m.\u001b[39mget(\u001b[38;5;124m'\u001b[39m\u001b[38;5;124m__repr__\u001b[39m\u001b[38;5;124m'\u001b[39m)):\n\u001b[1;32m--> 410\u001b[0m                     \u001b[38;5;28;01mreturn\u001b[39;00m \u001b[43m_repr_pprint\u001b[49m\u001b[43m(\u001b[49m\u001b[43mobj\u001b[49m\u001b[43m,\u001b[49m\u001b[43m \u001b[49m\u001b[38;5;28;43mself\u001b[39;49m\u001b[43m,\u001b[49m\u001b[43m \u001b[49m\u001b[43mcycle\u001b[49m\u001b[43m)\u001b[49m\n\u001b[0;32m    412\u001b[0m     \u001b[38;5;28;01mreturn\u001b[39;00m _default_pprint(obj, \u001b[38;5;28mself\u001b[39m, cycle)\n\u001b[0;32m    413\u001b[0m \u001b[38;5;28;01mfinally\u001b[39;00m:\n",
      "File \u001b[1;32m~\\AppData\\Local\\Programs\\Python\\Python310\\lib\\site-packages\\IPython\\lib\\pretty.py:778\u001b[0m, in \u001b[0;36m_repr_pprint\u001b[1;34m(obj, p, cycle)\u001b[0m\n\u001b[0;32m    776\u001b[0m \u001b[38;5;250m\u001b[39m\u001b[38;5;124;03m\"\"\"A pprint that just redirects to the normal repr function.\"\"\"\u001b[39;00m\n\u001b[0;32m    777\u001b[0m \u001b[38;5;66;03m# Find newlines and replace them with p.break_()\u001b[39;00m\n\u001b[1;32m--> 778\u001b[0m output \u001b[38;5;241m=\u001b[39m \u001b[38;5;28;43mrepr\u001b[39;49m\u001b[43m(\u001b[49m\u001b[43mobj\u001b[49m\u001b[43m)\u001b[49m\n\u001b[0;32m    779\u001b[0m lines \u001b[38;5;241m=\u001b[39m output\u001b[38;5;241m.\u001b[39msplitlines()\n\u001b[0;32m    780\u001b[0m \u001b[38;5;28;01mwith\u001b[39;00m p\u001b[38;5;241m.\u001b[39mgroup():\n",
      "\u001b[1;31mTypeError\u001b[0m: __repr__ returned non-string (type NoneType)"
     ]
    }
   ],
   "source": [
    "ll\n"
   ]
  },
  {
   "cell_type": "code",
   "execution_count": 44,
   "id": "1e92af11",
   "metadata": {},
   "outputs": [],
   "source": [
    "def findMissingRanges(self, nums, lower, upper):\n",
    "        \"\"\"\n",
    "        :type nums: List[int]\n",
    "        :type lower: int\n",
    "        :type upper: int\n",
    "        :rtype: List[List[int]]\n",
    "        \"\"\"\n",
    "        missing = []\n",
    "        if lower<nums[0]:\n",
    "            missing.append(range(lower,nums[0]))\n",
    "        elif  nums[-1]<upper:\n",
    "            missing.append(range(nums[-1],upper))\n",
    "\n",
    "        "
   ]
  },
  {
   "cell_type": "code",
   "execution_count": null,
   "id": "e566d9ba",
   "metadata": {},
   "outputs": [],
   "source": []
  },
  {
   "cell_type": "code",
   "execution_count": null,
   "id": "d1ccb73d",
   "metadata": {},
   "outputs": [],
   "source": [
    "        else:\n",
    "            for i in nums:\n",
    "                if nums[i] !=  nums[i+1]-1:\n",
    "                    missing.append(range(nums[i],nums[i+1])"
   ]
  },
  {
   "cell_type": "code",
   "execution_count": 54,
   "id": "c3678db2",
   "metadata": {},
   "outputs": [],
   "source": [
    "class Solution(object):\n",
    "    def findMissingRanges(self, nums, lower, upper):\n",
    "        \"\"\"\n",
    "        :type nums: List[int]\n",
    "        :type lower: int\n",
    "        :type upper: int\n",
    "        :rtype: List[List[int]]\n",
    "        \"\"\"\n",
    "        if len(nums)==0:\n",
    "            return [[lower,upper]]\n",
    "        missing =[]\n",
    "        start = lower\n",
    "       \n",
    "        if  start not in nums:\n",
    "            missing.append([start,nums[0]-1])\n",
    "        for i in range(len(nums)-1):\n",
    "             if nums[i+1]-1 !=nums[i]:\n",
    "                missing.append([nums[i]+1,nums[i+1]-1])\n",
    "\n",
    "        if upper not in nums:\n",
    "             missing.append([nums[-1]+1,upper])"
   ]
  },
  {
   "cell_type": "code",
   "execution_count": null,
   "id": "c0eb374a",
   "metadata": {},
   "outputs": [],
   "source": [
    "    df = world[(world['area'] >= 3000000) | (world['population'] >= 25000000)]\n",
    "    "
   ]
  },
  {
   "cell_type": "code",
   "execution_count": 2,
   "id": "19da86b4",
   "metadata": {},
   "outputs": [
    {
     "ename": "SyntaxError",
     "evalue": "unterminated string literal (detected at line 1) (1984767232.py, line 1)",
     "output_type": "error",
     "traceback": [
      "\u001b[1;36m  Cell \u001b[1;32mIn[2], line 1\u001b[1;36m\u001b[0m\n\u001b[1;33m    report  = NRCELL-6: {'M55308C36001': [(1691617500, 49),(1691636400, 100)],'M55308C36002': [(1691583960, 0),(1691584200, 100)]}'\u001b[0m\n\u001b[1;37m                                                                                                                                  ^\u001b[0m\n\u001b[1;31mSyntaxError\u001b[0m\u001b[1;31m:\u001b[0m unterminated string literal (detected at line 1)\n"
     ]
    }
   ],
   "source": [
    "report  = NRCELL-6: {'M55308C36001': [(1691617500, 49),(1691636400, 100)],'M55308C36002': [(1691583960, 0),(1691584200, 100)]}'\n"
   ]
  },
  {
   "cell_type": "code",
   "execution_count": 1,
   "id": "253b083e",
   "metadata": {},
   "outputs": [
    {
     "data": {
      "text/plain": [
       "'0x002a'"
      ]
     },
     "execution_count": 1,
     "metadata": {},
     "output_type": "execute_result"
    }
   ],
   "source": [
    "value = 42\n",
    "padding = 6\n",
    "a = value:\""
   ]
  },
  {
   "cell_type": "code",
   "execution_count": 47,
   "id": "eb90f100",
   "metadata": {},
   "outputs": [],
   "source": [
    "line= '''|  0|     2|   30KHZ|   980|  1|      0|        C_RNTI|        UL_0_1|  LEVEL 4|  1|  00000000|  F4080000|  40C482E1|  0| 23|      0| 0|   7|    1|     0|  1|          0|     0|       786|  1|  3|  0|         0|       63|      0|   0|      0|      0|    0|       0|   1|  0|                 NONE|                 NONE|         |          |   |         |          |       |         |         |            |        |            |       |       |    |     |            |                |      |                     |       |      |       |       |          |      |     |'''"
   ]
  },
  {
   "cell_type": "code",
   "execution_count": 55,
   "id": "d4c0e2ee",
   "metadata": {},
   "outputs": [],
   "source": [
    "line='''|  0|    19|   30KHZ|    32|  1|      0|        C_RNTI|        DL_1_1|  LEVEL 4|  0|          |          |          |   |   |       |  |    |     |      |   |           |      |          |   |   |   |          |         |       |    |       |       |     |        |    |   |                     |                     |        1|         0|  0|        1|         0|      1|        0|        2|           0|       0|           0|      0|      0|  14|    0|           3|            NONE|      |                     |       |      |       |       |          |      |     |'''"
   ]
  },
  {
   "cell_type": "code",
   "execution_count": 56,
   "id": "81bbe6e5",
   "metadata": {},
   "outputs": [],
   "source": [
    "split_line=line.split('|')"
   ]
  },
  {
   "cell_type": "code",
   "execution_count": 57,
   "id": "a48a1336",
   "metadata": {},
   "outputs": [
    {
     "name": "stdout",
     "output_type": "stream",
     "text": [
      "   \n"
     ]
    }
   ],
   "source": [
    "bwp_id=1\n",
    "value=[]\n",
    "a = split_line[14]\n",
    "if a is not None:\n",
    "    value.append(a.strip())\n",
    "   \n",
    "print(a)"
   ]
  },
  {
   "cell_type": "code",
   "execution_count": 93,
   "id": "302b7902",
   "metadata": {},
   "outputs": [],
   "source": [
    "\ta ='''Packet (Length: 98)\n",
    "Layer ETH:\n",
    "\tDestination: 02:40:43:80:02:09\n",
    "\tAddress: 02:40:43:80:02:09\n",
    "\t.... ..1. .... .... .... .... = LG bit: Locally administered address (this is NOT the factory default)\n",
    "\t.... ...0 .... .... .... .... = IG bit: Individual address (unicast)\n",
    "\tSource: 02:40:43:80:02:22\n",
    "\t.... ..1. .... .... .... .... = LG bit: Locally administered address (this is NOT the factory default)\n",
    "\t.... ...0 .... .... .... .... = IG bit: Individual address (unicast)\n",
    "\tType: QinQ: old non-standard 802.1ad (0x9100)\n",
    "\tAddress: 02:40:43:80:02:22\n",
    "Layer VLAN:\n",
    "\t000. .... .... .... = Priority: Best Effort (default) (0)\n",
    "\t...0 .... .... .... = DEI: Ineligible\n",
    "\t.... 0001 0011 0110 = ID: 310\n",
    "\tType: 802.1Q Virtual LAN (0x8100)\n",
    "Layer VLAN:\n",
    "\t101. .... .... .... = Priority: Voice, < 10ms latency and jitter (5)\n",
    "\t...0 .... .... .... = DEI: Ineligible\n",
    "\t.... 0000 1101 1010 = ID: 218\n",
    "\tType: BIP (0x8951)\n",
    "Layer BIP:\n",
    "Layer BIP_EVENT_CHAINING:\n",
    "\tStream ID: 0x20a2\n",
    "\t0010 .... .... .... = Stream ID Type: Event Chaining (2)\n",
    "\t.... 0000 1010 0010 = Stream ID id: 162\n",
    "\tEvent Size: 68\n",
    "\tTimestamp-Pointer: 0xce00021c\n",
    "\tEvent Seq Num: 0xce\n",
    "\tFragment Index: 0x00\n",
    "\tLocal Queue ID: 0x021c\n",
    "Layer SWE:\n",
    "\tSW Event Header: 0002e23100000000\n",
    "\tReserved: 0x00\n",
    "\tTimestamp and Event format indicator: 0x02\n",
    "\t.... ...0 = Timestamp indication: No timestamp (0)\n",
    "\t.... ..1. = Event type: SW event with SW event header (1)\n",
    "\tMessage ID: 0xe231\n",
    "\tTimestamp: 0\n",
    "\tSW Event Payload: 130007000800000001000000110113000700070000800000000000000000000000000000...\n",
    "\tReserved: 0x00\n",
    "Layer ICOM_5G:\n",
    "\tsfn (Uint16): 19\n",
    "\tslot (Uint8): 7\n",
    "\tsubcells (DynamicVariableSizedArray)\n",
    "\tOffset (Uint32): 8\n",
    "\tLength (Uint32): 1\n",
    "\tsubcellId (Uint8): 17\n",
    "\tprocessInRealTime (Boolean): True\n",
    "\tsfnForProcessing (Uint16): 19\n",
    "\tslotForProcessing (Uint8): 7\n",
    "\tprachPrbOffset (Uint16): 7\n",
    "\tprachOccasions_item_0 (Uint16): 32768\n",
    "\tnumCeAxCIndex (l1_common_numCeAxC_t): NUM_C_EAXC_2 (2)\n",
    "\tceAxCIndex_item_0 (Uint8): 0\n",
    "\tpatternId_item_0 (Uint16): 0\n",
    "\teCpriSectionId (Uint16): 0\n",
    "\tprachOccasions (StaticFixedSizedArray)\n",
    "\toccasions (DynamicVariableSizedArray)\n",
    "\tceAxCIndex (StaticFixedSizedArray)\n",
    "\tpatternId (StaticFixedSizedArray)\n",
    "\tOffset (Uint32): 8\n",
    "\tLength (Uint32): 1\n",
    "\tprachOccasions_item_1 (Uint16): 0\n",
    "\tprachOccasions_item_2 (Uint16): 0\n",
    "\tprachOccasions_item_3 (Uint16): 0\n",
    "\tprachOccasions_item_4 (Uint16): 0\n",
    "\tprachOccasions_item_5 (Uint16): 0\n",
    "\tprachOccasions_item_6 (Uint16): 0\n",
    "\tprachOccasions_item_7 (Uint16): 0\n",
    "\tceAxCIndex_item_1 (Uint8): 0\n",
    "\tceAxCIndex_item_2 (Uint8): 0\n",
    "\tceAxCIndex_item_3 (Uint8): 0\n",
    "\tpatternId_item_1 (Uint16): 0'''"
   ]
  },
  {
   "cell_type": "code",
   "execution_count": 94,
   "id": "5a1b8557",
   "metadata": {},
   "outputs": [
    {
     "name": "stdout",
     "output_type": "stream",
     "text": [
      "Packet (Length: 98)\n",
      "Layer ETH:\n",
      "Destination: 02:40:43:80:02:09\n",
      "Address: 02:40:43:80:02:09\n",
      ".... ..1. .... .... .... .... = LG bit: Locally administered address (this is NOT the factory default)\n",
      ".... ...0 .... .... .... .... = IG bit: Individual address (unicast)\n",
      "Source: 02:40:43:80:02:22\n",
      ".... ..1. .... .... .... .... = LG bit: Locally administered address (this is NOT the factory default)\n",
      ".... ...0 .... .... .... .... = IG bit: Individual address (unicast)\n",
      "Type: QinQ: old non-standard 802.1ad (0x9100)\n",
      "Address: 02:40:43:80:02:22\n",
      "Layer VLAN:\n",
      "000. .... .... .... = Priority: Best Effort (default) (0)\n",
      "...0 .... .... .... = DEI: Ineligible\n",
      ".... 0001 0011 0110 = ID: 310\n",
      "Type: 802.1Q Virtual LAN (0x8100)\n",
      "Layer VLAN:\n",
      "101. .... .... .... = Priority: Voice, < 10ms latency and jitter (5)\n",
      "...0 .... .... .... = DEI: Ineligible\n",
      ".... 0000 1101 1010 = ID: 218\n",
      "Type: BIP (0x8951)\n",
      "Layer BIP:\n",
      "Layer BIP_EVENT_CHAINING:\n",
      "Stream ID: 0x20a2\n",
      "0010 .... .... .... = Stream ID Type: Event Chaining (2)\n",
      ".... 0000 1010 0010 = Stream ID id: 162\n",
      "Event Size: 68\n",
      "Timestamp-Pointer: 0xce00021c\n",
      "Event Seq Num: 0xce\n",
      "Fragment Index: 0x00\n",
      "Local Queue ID: 0x021c\n",
      "Layer SWE:\n",
      "SW Event Header: 0002e23100000000\n",
      "Reserved: 0x00\n",
      "Timestamp and Event format indicator: 0x02\n",
      ".... ...0 = Timestamp indication: No timestamp (0)\n",
      ".... ..1. = Event type: SW event with SW event header (1)\n",
      "Message ID: 0xe231\n",
      "Timestamp: 0\n",
      "SW Event Payload: 130007000800000001000000110113000700070000800000000000000000000000000000...\n",
      "Reserved: 0x00\n",
      "Layer ICOM_5G:\n",
      "sfn (Uint16): 19\n",
      "slot (Uint8): 7\n",
      "subcells (DynamicVariableSizedArray)\n",
      "Offset (Uint32): 8\n",
      "Length (Uint32): 1\n",
      "subcellId (Uint8): 17\n",
      "processInRealTime (Boolean): True\n",
      "sfnForProcessing (Uint16): 19\n",
      "slotForProcessing (Uint8): 7\n",
      "prachPrbOffset (Uint16): 7\n",
      "prachOccasions_item_0 (Uint16): 32768\n",
      "numCeAxCIndex (l1_common_numCeAxC_t): NUM_C_EAXC_2 (2)\n",
      "ceAxCIndex_item_0 (Uint8): 0\n",
      "patternId_item_0 (Uint16): 0\n",
      "eCpriSectionId (Uint16): 0\n",
      "prachOccasions (StaticFixedSizedArray)\n",
      "occasions (DynamicVariableSizedArray)\n",
      "ceAxCIndex (StaticFixedSizedArray)\n",
      "patternId (StaticFixedSizedArray)\n",
      "Offset (Uint32): 8\n",
      "Length (Uint32): 1\n",
      "prachOccasions_item_1 (Uint16): 0\n",
      "prachOccasions_item_2 (Uint16): 0\n",
      "prachOccasions_item_3 (Uint16): 0\n",
      "prachOccasions_item_4 (Uint16): 0\n",
      "prachOccasions_item_5 (Uint16): 0\n",
      "prachOccasions_item_6 (Uint16): 0\n",
      "prachOccasions_item_7 (Uint16): 0\n",
      "ceAxCIndex_item_1 (Uint8): 0\n",
      "ceAxCIndex_item_2 (Uint8): 0\n",
      "ceAxCIndex_item_3 (Uint8): 0\n",
      "patternId_item_1 (Uint16): 0\n"
     ]
    }
   ],
   "source": [
    "print (a)"
   ]
  },
  {
   "cell_type": "code",
   "execution_count": 9,
   "id": "41fcf671",
   "metadata": {},
   "outputs": [],
   "source": [
    "def get_value(packet):\n",
    "    for layer in packet.layers:\n",
    "        if layer.layer_name == layer_name:\n",
    "            return layer\n"
   ]
  },
  {
   "cell_type": "code",
   "execution_count": 10,
   "id": "db013b1e",
   "metadata": {},
   "outputs": [
    {
     "ename": "AttributeError",
     "evalue": "'str' object has no attribute 'layers'",
     "output_type": "error",
     "traceback": [
      "\u001b[1;31m---------------------------------------------------------------------------\u001b[0m",
      "\u001b[1;31mAttributeError\u001b[0m                            Traceback (most recent call last)",
      "Cell \u001b[1;32mIn[10], line 1\u001b[0m\n\u001b[1;32m----> 1\u001b[0m \u001b[43mget_value\u001b[49m\u001b[43m(\u001b[49m\u001b[43ma\u001b[49m\u001b[43m)\u001b[49m\n",
      "Cell \u001b[1;32mIn[9], line 2\u001b[0m, in \u001b[0;36mget_value\u001b[1;34m(packet)\u001b[0m\n\u001b[0;32m      1\u001b[0m \u001b[38;5;28;01mdef\u001b[39;00m \u001b[38;5;21mget_value\u001b[39m(packet):\n\u001b[1;32m----> 2\u001b[0m     \u001b[38;5;28;01mfor\u001b[39;00m layer \u001b[38;5;129;01min\u001b[39;00m \u001b[43mpacket\u001b[49m\u001b[38;5;241;43m.\u001b[39;49m\u001b[43mlayers\u001b[49m:\n\u001b[0;32m      3\u001b[0m         \u001b[38;5;28;01mif\u001b[39;00m layer\u001b[38;5;241m.\u001b[39mlayer_name \u001b[38;5;241m==\u001b[39m layer_name:\n\u001b[0;32m      4\u001b[0m             \u001b[38;5;28;01mreturn\u001b[39;00m layer\n",
      "\u001b[1;31mAttributeError\u001b[0m: 'str' object has no attribute 'layers'"
     ]
    }
   ],
   "source": [
    "get_value(a)"
   ]
  },
  {
   "cell_type": "code",
   "execution_count": 12,
   "id": "5482cf8f",
   "metadata": {},
   "outputs": [
    {
     "ename": "JSONDecodeError",
     "evalue": "Expecting value: line 1 column 1 (char 0)",
     "output_type": "error",
     "traceback": [
      "\u001b[1;31m---------------------------------------------------------------------------\u001b[0m",
      "\u001b[1;31mJSONDecodeError\u001b[0m                           Traceback (most recent call last)",
      "Cell \u001b[1;32mIn[12], line 2\u001b[0m\n\u001b[0;32m      1\u001b[0m \u001b[38;5;28;01mimport\u001b[39;00m \u001b[38;5;21;01mjson\u001b[39;00m\n\u001b[1;32m----> 2\u001b[0m res \u001b[38;5;241m=\u001b[39m \u001b[43mjson\u001b[49m\u001b[38;5;241;43m.\u001b[39;49m\u001b[43mloads\u001b[49m\u001b[43m(\u001b[49m\u001b[43ma\u001b[49m\u001b[43m)\u001b[49m\n\u001b[0;32m      3\u001b[0m \u001b[38;5;28mprint\u001b[39m (res)\n",
      "File \u001b[1;32m~\\AppData\\Local\\Programs\\Python\\Python310\\lib\\json\\__init__.py:346\u001b[0m, in \u001b[0;36mloads\u001b[1;34m(s, cls, object_hook, parse_float, parse_int, parse_constant, object_pairs_hook, **kw)\u001b[0m\n\u001b[0;32m    341\u001b[0m     s \u001b[38;5;241m=\u001b[39m s\u001b[38;5;241m.\u001b[39mdecode(detect_encoding(s), \u001b[38;5;124m'\u001b[39m\u001b[38;5;124msurrogatepass\u001b[39m\u001b[38;5;124m'\u001b[39m)\n\u001b[0;32m    343\u001b[0m \u001b[38;5;28;01mif\u001b[39;00m (\u001b[38;5;28mcls\u001b[39m \u001b[38;5;129;01mis\u001b[39;00m \u001b[38;5;28;01mNone\u001b[39;00m \u001b[38;5;129;01mand\u001b[39;00m object_hook \u001b[38;5;129;01mis\u001b[39;00m \u001b[38;5;28;01mNone\u001b[39;00m \u001b[38;5;129;01mand\u001b[39;00m\n\u001b[0;32m    344\u001b[0m         parse_int \u001b[38;5;129;01mis\u001b[39;00m \u001b[38;5;28;01mNone\u001b[39;00m \u001b[38;5;129;01mand\u001b[39;00m parse_float \u001b[38;5;129;01mis\u001b[39;00m \u001b[38;5;28;01mNone\u001b[39;00m \u001b[38;5;129;01mand\u001b[39;00m\n\u001b[0;32m    345\u001b[0m         parse_constant \u001b[38;5;129;01mis\u001b[39;00m \u001b[38;5;28;01mNone\u001b[39;00m \u001b[38;5;129;01mand\u001b[39;00m object_pairs_hook \u001b[38;5;129;01mis\u001b[39;00m \u001b[38;5;28;01mNone\u001b[39;00m \u001b[38;5;129;01mand\u001b[39;00m \u001b[38;5;129;01mnot\u001b[39;00m kw):\n\u001b[1;32m--> 346\u001b[0m     \u001b[38;5;28;01mreturn\u001b[39;00m \u001b[43m_default_decoder\u001b[49m\u001b[38;5;241;43m.\u001b[39;49m\u001b[43mdecode\u001b[49m\u001b[43m(\u001b[49m\u001b[43ms\u001b[49m\u001b[43m)\u001b[49m\n\u001b[0;32m    347\u001b[0m \u001b[38;5;28;01mif\u001b[39;00m \u001b[38;5;28mcls\u001b[39m \u001b[38;5;129;01mis\u001b[39;00m \u001b[38;5;28;01mNone\u001b[39;00m:\n\u001b[0;32m    348\u001b[0m     \u001b[38;5;28mcls\u001b[39m \u001b[38;5;241m=\u001b[39m JSONDecoder\n",
      "File \u001b[1;32m~\\AppData\\Local\\Programs\\Python\\Python310\\lib\\json\\decoder.py:337\u001b[0m, in \u001b[0;36mJSONDecoder.decode\u001b[1;34m(self, s, _w)\u001b[0m\n\u001b[0;32m    332\u001b[0m \u001b[38;5;28;01mdef\u001b[39;00m \u001b[38;5;21mdecode\u001b[39m(\u001b[38;5;28mself\u001b[39m, s, _w\u001b[38;5;241m=\u001b[39mWHITESPACE\u001b[38;5;241m.\u001b[39mmatch):\n\u001b[0;32m    333\u001b[0m \u001b[38;5;250m    \u001b[39m\u001b[38;5;124;03m\"\"\"Return the Python representation of ``s`` (a ``str`` instance\u001b[39;00m\n\u001b[0;32m    334\u001b[0m \u001b[38;5;124;03m    containing a JSON document).\u001b[39;00m\n\u001b[0;32m    335\u001b[0m \n\u001b[0;32m    336\u001b[0m \u001b[38;5;124;03m    \"\"\"\u001b[39;00m\n\u001b[1;32m--> 337\u001b[0m     obj, end \u001b[38;5;241m=\u001b[39m \u001b[38;5;28;43mself\u001b[39;49m\u001b[38;5;241;43m.\u001b[39;49m\u001b[43mraw_decode\u001b[49m\u001b[43m(\u001b[49m\u001b[43ms\u001b[49m\u001b[43m,\u001b[49m\u001b[43m \u001b[49m\u001b[43midx\u001b[49m\u001b[38;5;241;43m=\u001b[39;49m\u001b[43m_w\u001b[49m\u001b[43m(\u001b[49m\u001b[43ms\u001b[49m\u001b[43m,\u001b[49m\u001b[43m \u001b[49m\u001b[38;5;241;43m0\u001b[39;49m\u001b[43m)\u001b[49m\u001b[38;5;241;43m.\u001b[39;49m\u001b[43mend\u001b[49m\u001b[43m(\u001b[49m\u001b[43m)\u001b[49m\u001b[43m)\u001b[49m\n\u001b[0;32m    338\u001b[0m     end \u001b[38;5;241m=\u001b[39m _w(s, end)\u001b[38;5;241m.\u001b[39mend()\n\u001b[0;32m    339\u001b[0m     \u001b[38;5;28;01mif\u001b[39;00m end \u001b[38;5;241m!=\u001b[39m \u001b[38;5;28mlen\u001b[39m(s):\n",
      "File \u001b[1;32m~\\AppData\\Local\\Programs\\Python\\Python310\\lib\\json\\decoder.py:355\u001b[0m, in \u001b[0;36mJSONDecoder.raw_decode\u001b[1;34m(self, s, idx)\u001b[0m\n\u001b[0;32m    353\u001b[0m     obj, end \u001b[38;5;241m=\u001b[39m \u001b[38;5;28mself\u001b[39m\u001b[38;5;241m.\u001b[39mscan_once(s, idx)\n\u001b[0;32m    354\u001b[0m \u001b[38;5;28;01mexcept\u001b[39;00m \u001b[38;5;167;01mStopIteration\u001b[39;00m \u001b[38;5;28;01mas\u001b[39;00m err:\n\u001b[1;32m--> 355\u001b[0m     \u001b[38;5;28;01mraise\u001b[39;00m JSONDecodeError(\u001b[38;5;124m\"\u001b[39m\u001b[38;5;124mExpecting value\u001b[39m\u001b[38;5;124m\"\u001b[39m, s, err\u001b[38;5;241m.\u001b[39mvalue) \u001b[38;5;28;01mfrom\u001b[39;00m \u001b[38;5;28;01mNone\u001b[39;00m\n\u001b[0;32m    356\u001b[0m \u001b[38;5;28;01mreturn\u001b[39;00m obj, end\n",
      "\u001b[1;31mJSONDecodeError\u001b[0m: Expecting value: line 1 column 1 (char 0)"
     ]
    }
   ],
   "source": [
    "import json\n",
    "res = json.loads(a)\n",
    "print (res)"
   ]
  },
  {
   "cell_type": "code",
   "execution_count": 23,
   "id": "df293646",
   "metadata": {},
   "outputs": [],
   "source": [
    "a= list(a.split(\" \"))"
   ]
  },
  {
   "cell_type": "code",
   "execution_count": 14,
   "id": "00ae0b1a",
   "metadata": {},
   "outputs": [
    {
     "ename": "FileNotFoundError",
     "evalue": "[Errno 2] No such file or directory: 'Packet (Length: 98)\\nLayer ETH:\\nDestination: 02:40:43:80:02:09\\nAddress: 02:40:43:80:02:09\\n.... ..1. .... .... .... .... = LG bit: Locally administered address (this is NOT the factory default)\\n.... ...0 .... .... .... .... = IG bit: Individual address (unicast)\\nSource: 02:40:43:80:02:22\\n.... ..1. .... .... .... .... = LG bit: Locally administered address (this is NOT the factory default)\\n.... ...0 .... .... .... .... = IG bit: Individual address (unicast)\\nType: QinQ: old non-standard 802.1ad (0x9100)\\nAddress: 02:40:43:80:02:22\\nLayer VLAN:\\n000. .... .... .... = Priority: Best Effort (default) (0)\\n...0 .... .... .... = DEI: Ineligible\\n.... 0001 0011 0110 = ID: 310\\nType: 802.1Q Virtual LAN (0x8100)\\nLayer VLAN:\\n101. .... .... .... = Priority: Voice, < 10ms latency and jitter (5)\\n...0 .... .... .... = DEI: Ineligible\\n.... 0000 1101 1010 = ID: 218\\nType: BIP (0x8951)\\nLayer BIP:\\nLayer BIP_EVENT_CHAINING:\\nStream ID: 0x20a2\\n0010 .... .... .... = Stream ID Type: Event Chaining (2)\\n.... 0000 1010 0010 = Stream ID id: 162\\nEvent Size: 68\\nTimestamp-Pointer: 0xce00021c\\nEvent Seq Num: 0xce\\nFragment Index: 0x00\\nLocal Queue ID: 0x021c\\nLayer SWE:\\nSW Event Header: 0002e23100000000\\nReserved: 0x00\\nTimestamp and Event format indicator: 0x02\\n.... ...0 = Timestamp indication: No timestamp (0)\\n.... ..1. = Event type: SW event with SW event header (1)\\nMessage ID: 0xe231\\nTimestamp: 0\\nSW Event Payload: 130007000800000001000000110113000700070000800000000000000000000000000000...\\nReserved: 0x00\\nLayer ICOM_5G:\\nsfn (Uint16): 19\\nslot (Uint8): 7\\nsubcells (DynamicVariableSizedArray)\\nOffset (Uint32): 8\\nLength (Uint32): 1\\nsubcellId (Uint8): 17\\nprocessInRealTime (Boolean): True\\nsfnForProcessing (Uint16): 19\\nslotForProcessing (Uint8): 7\\nprachPrbOffset (Uint16): 7\\nprachOccasions_item_0 (Uint16): 32768\\nnumCeAxCIndex (l1_common_numCeAxC_t): NUM_C_EAXC_2 (2)\\nceAxCIndex_item_0 (Uint8): 0\\npatternId_item_0 (Uint16): 0\\neCpriSectionId (Uint16): 0\\nprachOccasions (StaticFixedSizedArray)\\noccasions (DynamicVariableSizedArray)\\nceAxCIndex (StaticFixedSizedArray)\\npatternId (StaticFixedSizedArray)\\nOffset (Uint32): 8\\nLength (Uint32): 1\\nprachOccasions_item_1 (Uint16): 0\\nprachOccasions_item_2 (Uint16): 0\\nprachOccasions_item_3 (Uint16): 0\\nprachOccasions_item_4 (Uint16): 0\\nprachOccasions_item_5 (Uint16): 0\\nprachOccasions_item_6 (Uint16): 0\\nprachOccasions_item_7 (Uint16): 0\\nceAxCIndex_item_1 (Uint8): 0\\nceAxCIndex_item_2 (Uint8): 0\\nceAxCIndex_item_3 (Uint8): 0\\npatternId_item_1 (Uint16): 0'",
     "output_type": "error",
     "traceback": [
      "\u001b[1;31m---------------------------------------------------------------------------\u001b[0m",
      "\u001b[1;31mFileNotFoundError\u001b[0m                         Traceback (most recent call last)",
      "Cell \u001b[1;32mIn[14], line 1\u001b[0m\n\u001b[1;32m----> 1\u001b[0m \u001b[38;5;28;01mwith\u001b[39;00m \u001b[38;5;28;43mopen\u001b[39;49m\u001b[43m(\u001b[49m\u001b[43ma\u001b[49m\u001b[43m,\u001b[49m\u001b[43m \u001b[49m\u001b[38;5;124;43m\"\u001b[39;49m\u001b[38;5;124;43mr\u001b[39;49m\u001b[38;5;124;43m\"\u001b[39;49m\u001b[43m,\u001b[49m\u001b[43m \u001b[49m\u001b[43mencoding\u001b[49m\u001b[38;5;241;43m=\u001b[39;49m\u001b[38;5;124;43m\"\u001b[39;49m\u001b[38;5;124;43mutf-8\u001b[39;49m\u001b[38;5;124;43m\"\u001b[39;49m\u001b[43m)\u001b[49m \u001b[38;5;28;01mas\u001b[39;00m conn:\n\u001b[0;32m      2\u001b[0m     text \u001b[38;5;241m=\u001b[39m conn\u001b[38;5;241m.\u001b[39mread()\u001b[38;5;241m.\u001b[39msplitlines()\n\u001b[0;32m      3\u001b[0m     \u001b[38;5;28;01mfor\u001b[39;00m line \u001b[38;5;129;01min\u001b[39;00m text:\n",
      "File \u001b[1;32m~\\AppData\\Local\\Programs\\Python\\Python310\\lib\\site-packages\\IPython\\core\\interactiveshell.py:284\u001b[0m, in \u001b[0;36m_modified_open\u001b[1;34m(file, *args, **kwargs)\u001b[0m\n\u001b[0;32m    277\u001b[0m \u001b[38;5;28;01mif\u001b[39;00m file \u001b[38;5;129;01min\u001b[39;00m {\u001b[38;5;241m0\u001b[39m, \u001b[38;5;241m1\u001b[39m, \u001b[38;5;241m2\u001b[39m}:\n\u001b[0;32m    278\u001b[0m     \u001b[38;5;28;01mraise\u001b[39;00m \u001b[38;5;167;01mValueError\u001b[39;00m(\n\u001b[0;32m    279\u001b[0m         \u001b[38;5;124mf\u001b[39m\u001b[38;5;124m\"\u001b[39m\u001b[38;5;124mIPython won\u001b[39m\u001b[38;5;124m'\u001b[39m\u001b[38;5;124mt let you open fd=\u001b[39m\u001b[38;5;132;01m{\u001b[39;00mfile\u001b[38;5;132;01m}\u001b[39;00m\u001b[38;5;124m by default \u001b[39m\u001b[38;5;124m\"\u001b[39m\n\u001b[0;32m    280\u001b[0m         \u001b[38;5;124m\"\u001b[39m\u001b[38;5;124mas it is likely to crash IPython. If you know what you are doing, \u001b[39m\u001b[38;5;124m\"\u001b[39m\n\u001b[0;32m    281\u001b[0m         \u001b[38;5;124m\"\u001b[39m\u001b[38;5;124myou can use builtins\u001b[39m\u001b[38;5;124m'\u001b[39m\u001b[38;5;124m open.\u001b[39m\u001b[38;5;124m\"\u001b[39m\n\u001b[0;32m    282\u001b[0m     )\n\u001b[1;32m--> 284\u001b[0m \u001b[38;5;28;01mreturn\u001b[39;00m io_open(file, \u001b[38;5;241m*\u001b[39margs, \u001b[38;5;241m*\u001b[39m\u001b[38;5;241m*\u001b[39mkwargs)\n",
      "\u001b[1;31mFileNotFoundError\u001b[0m: [Errno 2] No such file or directory: 'Packet (Length: 98)\\nLayer ETH:\\nDestination: 02:40:43:80:02:09\\nAddress: 02:40:43:80:02:09\\n.... ..1. .... .... .... .... = LG bit: Locally administered address (this is NOT the factory default)\\n.... ...0 .... .... .... .... = IG bit: Individual address (unicast)\\nSource: 02:40:43:80:02:22\\n.... ..1. .... .... .... .... = LG bit: Locally administered address (this is NOT the factory default)\\n.... ...0 .... .... .... .... = IG bit: Individual address (unicast)\\nType: QinQ: old non-standard 802.1ad (0x9100)\\nAddress: 02:40:43:80:02:22\\nLayer VLAN:\\n000. .... .... .... = Priority: Best Effort (default) (0)\\n...0 .... .... .... = DEI: Ineligible\\n.... 0001 0011 0110 = ID: 310\\nType: 802.1Q Virtual LAN (0x8100)\\nLayer VLAN:\\n101. .... .... .... = Priority: Voice, < 10ms latency and jitter (5)\\n...0 .... .... .... = DEI: Ineligible\\n.... 0000 1101 1010 = ID: 218\\nType: BIP (0x8951)\\nLayer BIP:\\nLayer BIP_EVENT_CHAINING:\\nStream ID: 0x20a2\\n0010 .... .... .... = Stream ID Type: Event Chaining (2)\\n.... 0000 1010 0010 = Stream ID id: 162\\nEvent Size: 68\\nTimestamp-Pointer: 0xce00021c\\nEvent Seq Num: 0xce\\nFragment Index: 0x00\\nLocal Queue ID: 0x021c\\nLayer SWE:\\nSW Event Header: 0002e23100000000\\nReserved: 0x00\\nTimestamp and Event format indicator: 0x02\\n.... ...0 = Timestamp indication: No timestamp (0)\\n.... ..1. = Event type: SW event with SW event header (1)\\nMessage ID: 0xe231\\nTimestamp: 0\\nSW Event Payload: 130007000800000001000000110113000700070000800000000000000000000000000000...\\nReserved: 0x00\\nLayer ICOM_5G:\\nsfn (Uint16): 19\\nslot (Uint8): 7\\nsubcells (DynamicVariableSizedArray)\\nOffset (Uint32): 8\\nLength (Uint32): 1\\nsubcellId (Uint8): 17\\nprocessInRealTime (Boolean): True\\nsfnForProcessing (Uint16): 19\\nslotForProcessing (Uint8): 7\\nprachPrbOffset (Uint16): 7\\nprachOccasions_item_0 (Uint16): 32768\\nnumCeAxCIndex (l1_common_numCeAxC_t): NUM_C_EAXC_2 (2)\\nceAxCIndex_item_0 (Uint8): 0\\npatternId_item_0 (Uint16): 0\\neCpriSectionId (Uint16): 0\\nprachOccasions (StaticFixedSizedArray)\\noccasions (DynamicVariableSizedArray)\\nceAxCIndex (StaticFixedSizedArray)\\npatternId (StaticFixedSizedArray)\\nOffset (Uint32): 8\\nLength (Uint32): 1\\nprachOccasions_item_1 (Uint16): 0\\nprachOccasions_item_2 (Uint16): 0\\nprachOccasions_item_3 (Uint16): 0\\nprachOccasions_item_4 (Uint16): 0\\nprachOccasions_item_5 (Uint16): 0\\nprachOccasions_item_6 (Uint16): 0\\nprachOccasions_item_7 (Uint16): 0\\nceAxCIndex_item_1 (Uint8): 0\\nceAxCIndex_item_2 (Uint8): 0\\nceAxCIndex_item_3 (Uint8): 0\\npatternId_item_1 (Uint16): 0'"
     ]
    }
   ],
   "source": [
    "with open(a, \"r\", encoding=\"utf-8\") as conn:\n",
    "    text = conn.read().splitlines()\n",
    "    for line in text:\n",
    "        for value, key in line:\n",
    "            result[key] = int(value)"
   ]
  },
  {
   "cell_type": "code",
   "execution_count": 16,
   "id": "e587d516",
   "metadata": {},
   "outputs": [
    {
     "ename": "ValueError",
     "evalue": "not enough values to unpack (expected 2, got 1)",
     "output_type": "error",
     "traceback": [
      "\u001b[1;31m---------------------------------------------------------------------------\u001b[0m",
      "\u001b[1;31mValueError\u001b[0m                                Traceback (most recent call last)",
      "Cell \u001b[1;32mIn[16], line 1\u001b[0m\n\u001b[1;32m----> 1\u001b[0m v,n \u001b[38;5;241m=\u001b[39m[(i,j) \u001b[38;5;28;01mfor\u001b[39;00m i,j \u001b[38;5;129;01min\u001b[39;00m \u001b[38;5;28mzip\u001b[39m(a)]\n",
      "Cell \u001b[1;32mIn[16], line 1\u001b[0m, in \u001b[0;36m<listcomp>\u001b[1;34m(.0)\u001b[0m\n\u001b[1;32m----> 1\u001b[0m v,n \u001b[38;5;241m=\u001b[39m[(i,j) \u001b[38;5;28;01mfor\u001b[39;00m i,j \u001b[38;5;129;01min\u001b[39;00m \u001b[38;5;28mzip\u001b[39m(a)]\n",
      "\u001b[1;31mValueError\u001b[0m: not enough values to unpack (expected 2, got 1)"
     ]
    }
   ],
   "source": [
    "v,n =[(i,j) for i,j in zip(a)]\n",
    "    "
   ]
  },
  {
   "cell_type": "code",
   "execution_count": 26,
   "id": "0d303afa",
   "metadata": {},
   "outputs": [],
   "source": [
    "z= [(i,j) for i,j in zip(a,a[1:]) if i.startswith('prachPrbOffset')]"
   ]
  },
  {
   "cell_type": "code",
   "execution_count": 27,
   "id": "087f3bb8",
   "metadata": {},
   "outputs": [
    {
     "name": "stdout",
     "output_type": "stream",
     "text": [
      "[]\n"
     ]
    }
   ],
   "source": [
    "print(z)"
   ]
  },
  {
   "cell_type": "code",
   "execution_count": 46,
   "id": "494618a3",
   "metadata": {},
   "outputs": [
    {
     "name": "stdout",
     "output_type": "stream",
     "text": [
      "['Packet', '(Length:', '98)\\nLayer', 'ETH:\\nDestination:', '02:40:43:80:02:09\\nAddress:', '02:40:43:80:02:09\\n....', '..1.', '....', '....', '....', '....', '=', 'LG', 'bit:', 'Locally', 'administered', 'address', '(this', 'is', 'NOT', 'the', 'factory', 'default)\\n....', '...0', '....', '....', '....', '....', '=', 'IG', 'bit:', 'Individual', 'address', '(unicast)\\nSource:', '02:40:43:80:02:22\\n....', '..1.', '....', '....', '....', '....', '=', 'LG', 'bit:', 'Locally', 'administered', 'address', '(this', 'is', 'NOT', 'the', 'factory', 'default)\\n....', '...0', '....', '....', '....', '....', '=', 'IG', 'bit:', 'Individual', 'address', '(unicast)\\nType:', 'QinQ:', 'old', 'non-standard', '802.1ad', '(0x9100)\\nAddress:', '02:40:43:80:02:22\\nLayer', 'VLAN:\\n000.', '....', '....', '....', '=', 'Priority:', 'Best', 'Effort', '(default)', '(0)\\n...0', '....', '....', '....', '=', 'DEI:', 'Ineligible\\n....', '0001', '0011', '0110', '=', 'ID:', '310\\nType:', '802.1Q', 'Virtual', 'LAN', '(0x8100)\\nLayer', 'VLAN:\\n101.', '....', '....', '....', '=', 'Priority:', 'Voice,', '<', '10ms', 'latency', 'and', 'jitter', '(5)\\n...0', '....', '....', '....', '=', 'DEI:', 'Ineligible\\n....', '0000', '1101', '1010', '=', 'ID:', '218\\nType:', 'BIP', '(0x8951)\\nLayer', 'BIP:\\nLayer', 'BIP_EVENT_CHAINING:\\nStream', 'ID:', '0x20a2\\n0010', '....', '....', '....', '=', 'Stream', 'ID', 'Type:', 'Event', 'Chaining', '(2)\\n....', '0000', '1010', '0010', '=', 'Stream', 'ID', 'id:', '162\\nEvent', 'Size:', '68\\nTimestamp-Pointer:', '0xce00021c\\nEvent', 'Seq', 'Num:', '0xce\\nFragment', 'Index:', '0x00\\nLocal', 'Queue', 'ID:', '0x021c\\nLayer', 'SWE:\\nSW', 'Event', 'Header:', '0002e23100000000\\nReserved:', '0x00\\nTimestamp', 'and', 'Event', 'format', 'indicator:', '0x02\\n....', '...0', '=', 'Timestamp', 'indication:', 'No', 'timestamp', '(0)\\n....', '..1.', '=', 'Event', 'type:', 'SW', 'event', 'with', 'SW', 'event', 'header', '(1)\\nMessage', 'ID:', '0xe231\\nTimestamp:', '0\\nSW', 'Event', 'Payload:', '130007000800000001000000110113000700070000800000000000000000000000000000...\\nReserved:', '0x00\\nLayer', 'ICOM_5G:\\nsfn', '(Uint16):', '19\\nslot', '(Uint8):', '7\\nsubcells', '(DynamicVariableSizedArray)\\nOffset', '(Uint32):', '8\\nLength', '(Uint32):', '1\\nsubcellId', '(Uint8):', '17\\nprocessInRealTime', '(Boolean):', 'True\\nsfnForProcessing', '(Uint16):', '19\\nslotForProcessing', '(Uint8):', '7\\nprachPrbOffset', '(Uint16):', '7\\nprachOccasions_item_0', '(Uint16):', '32768\\nnumCeAxCIndex', '(l1_common_numCeAxC_t):', 'NUM_C_EAXC_2', '(2)\\nceAxCIndex_item_0', '(Uint8):', '0\\npatternId_item_0', '(Uint16):', '0\\neCpriSectionId', '(Uint16):', '0\\nprachOccasions', '(StaticFixedSizedArray)\\noccasions', '(DynamicVariableSizedArray)\\nceAxCIndex', '(StaticFixedSizedArray)\\npatternId', '(StaticFixedSizedArray)\\nOffset', '(Uint32):', '8\\nLength', '(Uint32):', '1\\nprachOccasions_item_1', '(Uint16):', '0\\nprachOccasions_item_2', '(Uint16):', '0\\nprachOccasions_item_3', '(Uint16):', '0\\nprachOccasions_item_4', '(Uint16):', '0\\nprachOccasions_item_5', '(Uint16):', '0\\nprachOccasions_item_6', '(Uint16):', '0\\nprachOccasions_item_7', '(Uint16):', '0\\nceAxCIndex_item_1', '(Uint8):', '0\\nceAxCIndex_item_2', '(Uint8):', '0\\nceAxCIndex_item_3', '(Uint8):', '0\\npatternId_item_1', '(Uint16):', '0']\n"
     ]
    }
   ],
   "source": [
    "pkt= list(a.split(\" \"))\n",
    "print(pkt)"
   ]
  },
  {
   "cell_type": "code",
   "execution_count": 41,
   "id": "08ba8153",
   "metadata": {},
   "outputs": [],
   "source": [
    "z = [(i,j) for i,j in zip(pkt,pkt[1:])if \"7prach\"]"
   ]
  },
  {
   "cell_type": "code",
   "execution_count": 42,
   "id": "5aecc0cb",
   "metadata": {},
   "outputs": [
    {
     "name": "stdout",
     "output_type": "stream",
     "text": [
      "[]\n"
     ]
    }
   ],
   "source": [
    "print(z)"
   ]
  },
  {
   "cell_type": "code",
   "execution_count": 54,
   "id": "97816b4c",
   "metadata": {},
   "outputs": [],
   "source": [
    "res = []\n",
    "for sub in pkt:\n",
    "    res.append(sub.replace(\"\\n\", \"\"))\n"
   ]
  },
  {
   "cell_type": "code",
   "execution_count": 55,
   "id": "801a638b",
   "metadata": {},
   "outputs": [
    {
     "name": "stdout",
     "output_type": "stream",
     "text": [
      "['Packet', '(Length:', '98)Layer', 'ETH:Destination:', '02:40:43:80:02:09Address:', '02:40:43:80:02:09....', '..1.', '....', '....', '....', '....', '=', 'LG', 'bit:', 'Locally', 'administered', 'address', '(this', 'is', 'NOT', 'the', 'factory', 'default)....', '...0', '....', '....', '....', '....', '=', 'IG', 'bit:', 'Individual', 'address', '(unicast)Source:', '02:40:43:80:02:22....', '..1.', '....', '....', '....', '....', '=', 'LG', 'bit:', 'Locally', 'administered', 'address', '(this', 'is', 'NOT', 'the', 'factory', 'default)....', '...0', '....', '....', '....', '....', '=', 'IG', 'bit:', 'Individual', 'address', '(unicast)Type:', 'QinQ:', 'old', 'non-standard', '802.1ad', '(0x9100)Address:', '02:40:43:80:02:22Layer', 'VLAN:000.', '....', '....', '....', '=', 'Priority:', 'Best', 'Effort', '(default)', '(0)...0', '....', '....', '....', '=', 'DEI:', 'Ineligible....', '0001', '0011', '0110', '=', 'ID:', '310Type:', '802.1Q', 'Virtual', 'LAN', '(0x8100)Layer', 'VLAN:101.', '....', '....', '....', '=', 'Priority:', 'Voice,', '<', '10ms', 'latency', 'and', 'jitter', '(5)...0', '....', '....', '....', '=', 'DEI:', 'Ineligible....', '0000', '1101', '1010', '=', 'ID:', '218Type:', 'BIP', '(0x8951)Layer', 'BIP:Layer', 'BIP_EVENT_CHAINING:Stream', 'ID:', '0x20a20010', '....', '....', '....', '=', 'Stream', 'ID', 'Type:', 'Event', 'Chaining', '(2)....', '0000', '1010', '0010', '=', 'Stream', 'ID', 'id:', '162Event', 'Size:', '68Timestamp-Pointer:', '0xce00021cEvent', 'Seq', 'Num:', '0xceFragment', 'Index:', '0x00Local', 'Queue', 'ID:', '0x021cLayer', 'SWE:SW', 'Event', 'Header:', '0002e23100000000Reserved:', '0x00Timestamp', 'and', 'Event', 'format', 'indicator:', '0x02....', '...0', '=', 'Timestamp', 'indication:', 'No', 'timestamp', '(0)....', '..1.', '=', 'Event', 'type:', 'SW', 'event', 'with', 'SW', 'event', 'header', '(1)Message', 'ID:', '0xe231Timestamp:', '0SW', 'Event', 'Payload:', '130007000800000001000000110113000700070000800000000000000000000000000000...Reserved:', '0x00Layer', 'ICOM_5G:sfn', '(Uint16):', '19slot', '(Uint8):', '7subcells', '(DynamicVariableSizedArray)Offset', '(Uint32):', '8Length', '(Uint32):', '1subcellId', '(Uint8):', '17processInRealTime', '(Boolean):', 'TruesfnForProcessing', '(Uint16):', '19slotForProcessing', '(Uint8):', '7prachPrbOffset', '(Uint16):', '7prachOccasions_item_0', '(Uint16):', '32768numCeAxCIndex', '(l1_common_numCeAxC_t):', 'NUM_C_EAXC_2', '(2)ceAxCIndex_item_0', '(Uint8):', '0patternId_item_0', '(Uint16):', '0eCpriSectionId', '(Uint16):', '0prachOccasions', '(StaticFixedSizedArray)occasions', '(DynamicVariableSizedArray)ceAxCIndex', '(StaticFixedSizedArray)patternId', '(StaticFixedSizedArray)Offset', '(Uint32):', '8Length', '(Uint32):', '1prachOccasions_item_1', '(Uint16):', '0prachOccasions_item_2', '(Uint16):', '0prachOccasions_item_3', '(Uint16):', '0prachOccasions_item_4', '(Uint16):', '0prachOccasions_item_5', '(Uint16):', '0prachOccasions_item_6', '(Uint16):', '0prachOccasions_item_7', '(Uint16):', '0ceAxCIndex_item_1', '(Uint8):', '0ceAxCIndex_item_2', '(Uint8):', '0ceAxCIndex_item_3', '(Uint8):', '0patternId_item_1', '(Uint16):', '0']\n"
     ]
    }
   ],
   "source": [
    "print(res)"
   ]
  },
  {
   "cell_type": "code",
   "execution_count": 59,
   "id": "5f8d5c50",
   "metadata": {},
   "outputs": [],
   "source": [
    "z = [(i,j) for i,j in zip(res,res[1:])if j.startswith(\"7prach\")]"
   ]
  },
  {
   "cell_type": "code",
   "execution_count": 60,
   "id": "d1578833",
   "metadata": {},
   "outputs": [
    {
     "name": "stdout",
     "output_type": "stream",
     "text": [
      "[('(Uint8):', '7prachPrbOffset'), ('(Uint16):', '7prachOccasions_item_0')]\n"
     ]
    }
   ],
   "source": [
    "print (z)"
   ]
  },
  {
   "cell_type": "code",
   "execution_count": 61,
   "id": "439653cb",
   "metadata": {},
   "outputs": [],
   "source": [
    "with open('textfile.txt', 'w') as textfile:\n",
    "    textfile.write(a)"
   ]
  },
  {
   "cell_type": "code",
   "execution_count": 63,
   "id": "a8defe6e",
   "metadata": {},
   "outputs": [],
   "source": [
    "with open('test.txt', 'w+') as fh:\n",
    "    fh.write(a)"
   ]
  },
  {
   "cell_type": "code",
   "execution_count": 87,
   "id": "f73da047",
   "metadata": {},
   "outputs": [
    {
     "name": "stdout",
     "output_type": "stream",
     "text": [
      " 7\n",
      "7\n"
     ]
    }
   ],
   "source": [
    "file1 = open('test.txt', 'r')\n",
    "for line in file1:\n",
    "    if 'prachPrbOffset' in line:\n",
    "        txt=((line).strip())\n",
    "        txt = txt.rpartition(':')[-1]\n",
    "\n",
    "        \n",
    "\n",
    "   \n"
   ]
  },
  {
   "cell_type": "code",
   "execution_count": 81,
   "id": "ff9f6c79",
   "metadata": {},
   "outputs": [],
   "source": [
    "print()"
   ]
  },
  {
   "cell_type": "code",
   "execution_count": 77,
   "id": "421f11aa",
   "metadata": {},
   "outputs": [
    {
     "data": {
      "text/plain": [
       "'7 :)61tniU( tesffObrPhcarp'"
      ]
     },
     "execution_count": 77,
     "metadata": {},
     "output_type": "execute_result"
    }
   ],
   "source": [
    "str[::-1]"
   ]
  },
  {
   "cell_type": "code",
   "execution_count": 125,
   "id": "5f47d202",
   "metadata": {},
   "outputs": [],
   "source": [
    "def check_msg_values(pkt,num_of_used_prb,msg):\n",
    "    with open('textfile.txt', 'w') as textfile:\n",
    "        textfile.write(pkt)\n",
    "        file1 = open('test.txt', 'r')\n",
    "        for line in file1:\n",
    "            if msg in line:\n",
    "                txt=((line).strip())\n",
    "                txt = txt.rpartition(':')[-1]\n",
    "                print(txt)\n",
    "                try:\n",
    "                    if int(txt) > int(num_of_used_prb):\n",
    "                        raise ValueError (\"prb_offset value is not less than number of used prb\")\n",
    "                except ValueError as ex:\n",
    "                    print(repr(ex))\n",
    "                    return False\n",
    "        return txt"
   ]
  },
  {
   "cell_type": "code",
   "execution_count": 126,
   "id": "71aa2baa",
   "metadata": {},
   "outputs": [
    {
     "name": "stdout",
     "output_type": "stream",
     "text": [
      " 7\n"
     ]
    },
    {
     "data": {
      "text/plain": [
       "' 7'"
      ]
     },
     "execution_count": 126,
     "metadata": {},
     "output_type": "execute_result"
    }
   ],
   "source": [
    "check_prb_offset(a,10,'prachPrbOffset')"
   ]
  },
  {
   "cell_type": "code",
   "execution_count": 104,
   "id": "4e3de7e1",
   "metadata": {},
   "outputs": [
    {
     "name": "stdout",
     "output_type": "stream",
     "text": [
      "Packet (Length: 98)\n",
      "Layer ETH:\n",
      "Destination: 02:40:43:80:02:09\n",
      "Address: 02:40:43:80:02:09\n",
      ".... ..1. .... .... .... .... = LG bit: Locally administered address (this is NOT the factory default)\n",
      ".... ...0 .... .... .... .... = IG bit: Individual address (unicast)\n",
      "Source: 02:40:43:80:02:22\n",
      ".... ..1. .... .... .... .... = LG bit: Locally administered address (this is NOT the factory default)\n",
      ".... ...0 .... .... .... .... = IG bit: Individual address (unicast)\n",
      "Type: QinQ: old non-standard 802.1ad (0x9100)\n",
      "Address: 02:40:43:80:02:22\n",
      "Layer VLAN:\n",
      "000. .... .... .... = Priority: Best Effort (default) (0)\n",
      "...0 .... .... .... = DEI: Ineligible\n",
      ".... 0001 0011 0110 = ID: 310\n",
      "Type: 802.1Q Virtual LAN (0x8100)\n",
      "Layer VLAN:\n",
      "101. .... .... .... = Priority: Voice, < 10ms latency and jitter (5)\n",
      "...0 .... .... .... = DEI: Ineligible\n",
      ".... 0000 1101 1010 = ID: 218\n",
      "Type: BIP (0x8951)\n",
      "Layer BIP:\n",
      "Layer BIP_EVENT_CHAINING:\n",
      "Stream ID: 0x20a2\n",
      "0010 .... .... .... = Stream ID Type: Event Chaining (2)\n",
      ".... 0000 1010 0010 = Stream ID id: 162\n",
      "Event Size: 68\n",
      "Timestamp-Pointer: 0xce00021c\n",
      "Event Seq Num: 0xce\n",
      "Fragment Index: 0x00\n",
      "Local Queue ID: 0x021c\n",
      "Layer SWE:\n",
      "SW Event Header: 0002e23100000000\n",
      "Reserved: 0x00\n",
      "Timestamp and Event format indicator: 0x02\n",
      ".... ...0 = Timestamp indication: No timestamp (0)\n",
      ".... ..1. = Event type: SW event with SW event header (1)\n",
      "Message ID: 0xe231\n",
      "Timestamp: 0\n",
      "SW Event Payload: 130007000800000001000000110113000700070000800000000000000000000000000000...\n",
      "Reserved: 0x00\n",
      "Layer ICOM_5G:\n",
      "sfn (Uint16): 19\n",
      "slot (Uint8): 7\n",
      "subcells (DynamicVariableSizedArray)\n",
      "Offset (Uint32): 8\n",
      "Length (Uint32): 1\n",
      "subcellId (Uint8): 17\n",
      "processInRealTime (Boolean): True\n",
      "sfnForProcessing (Uint16): 19\n",
      "slotForProcessing (Uint8): 7\n",
      "prachPrbOffset (Uint16): 7\n",
      "prachOccasions_item_0 (Uint16): 32768\n",
      "numCeAxCIndex (l1_common_numCeAxC_t): NUM_C_EAXC_2 (2)\n",
      "ceAxCIndex_item_0 (Uint8): 0\n",
      "patternId_item_0 (Uint16): 0\n",
      "eCpriSectionId (Uint16): 0\n",
      "prachOccasions (StaticFixedSizedArray)\n",
      "occasions (DynamicVariableSizedArray)\n",
      "ceAxCIndex (StaticFixedSizedArray)\n",
      "patternId (StaticFixedSizedArray)\n",
      "Offset (Uint32): 8\n",
      "Length (Uint32): 1\n",
      "prachOccasions_item_1 (Uint16): 0\n",
      "prachOccasions_item_2 (Uint16): 0\n",
      "prachOccasions_item_3 (Uint16): 0\n",
      "prachOccasions_item_4 (Uint16): 0\n",
      "prachOccasions_item_5 (Uint16): 0\n",
      "prachOccasions_item_6 (Uint16): 0\n",
      "prachOccasions_item_7 (Uint16): 0\n",
      "ceAxCIndex_item_1 (Uint8): 0\n",
      "ceAxCIndex_item_2 (Uint8): 0\n",
      "ceAxCIndex_item_3 (Uint8): 0\n",
      "patternId_item_1 (Uint16): 0\n"
     ]
    }
   ],
   "source": [
    "print(a)"
   ]
  },
  {
   "cell_type": "code",
   "execution_count": 128,
   "id": "979b13ed",
   "metadata": {},
   "outputs": [],
   "source": [
    "def check_bip_pcap_for_used_prbs_1(pcap_file,value):\n",
    "    display_filter = \"uldata_puschreceivereq\"\n",
    "    with pcap.open_pcap(pcap_file, \"bip\", display_filter) as capture:\n",
    "        for pkt in capture:\n",
    "            if pkt.icom_5g.get_field(\"UlData_prachReceiveReqSubcell_t.prachPrbOffset\"):\n",
    "                if pkt.icom_5g.UlData_prachReceiveReqSubcell_t.prachPrbOffset < value:\n",
    "                    print(pkt.icom_5g.UlData_prachReceiveReqSubcell_t.prachPrbOffset)\n",
    "                    return True\n",
    "                else:\n",
    "                    raise RuntimeError(\"BIP analysis failed\") \n",
    "            else:\n",
    "                print(\"packet not found\")\n",
    "                return False"
   ]
  },
  {
   "cell_type": "code",
   "execution_count": 129,
   "id": "c4d5680c",
   "metadata": {},
   "outputs": [
    {
     "data": {
      "text/plain": [
       "True"
      ]
     },
     "execution_count": 129,
     "metadata": {},
     "output_type": "execute_result"
    }
   ],
   "source": [
    "'er' <\"gh\""
   ]
  },
  {
   "cell_type": "code",
   "execution_count": 7,
   "id": "23dfd06d",
   "metadata": {},
   "outputs": [
    {
     "name": "stdout",
     "output_type": "stream",
     "text": [
      "[]\n"
     ]
    }
   ],
   "source": [
    "a= [1,2,3]\n",
    "b=[3,7,1]\n",
    "s=[i for i, j in zip(a, b) if i == j]\n",
    "print(s)\n"
   ]
  },
  {
   "cell_type": "code",
   "execution_count": 10,
   "id": "6ac98a5a",
   "metadata": {},
   "outputs": [
    {
     "name": "stdout",
     "output_type": "stream",
     "text": [
      "[1, 3]\n"
     ]
    }
   ],
   "source": [
    "a= [1,2,3]\n",
    "b=[3,7,1]\n",
    "c= [i for i in a if i in b]\n",
    "print(c)"
   ]
  },
  {
   "cell_type": "code",
   "execution_count": 6,
   "id": "0b51e192",
   "metadata": {},
   "outputs": [
    {
     "name": "stdout",
     "output_type": "stream",
     "text": [
      "0\n",
      "1\n",
      "2\n",
      "1\n"
     ]
    }
   ],
   "source": [
    "operations = [\"--X\",\"X++\",\"X++\"]\n",
    "add = operations.count(\"++X\")\n",
    "print(add)\n",
    "sub = operations.count(\"--X\")\n",
    "print(sub)\n",
    "add += operations.count(\"X++\")\n",
    "print(add)\n",
    "sub += operations.count(\"X--\")\n",
    "print(sub)"
   ]
  },
  {
   "cell_type": "code",
   "execution_count": 46,
   "id": "69567df4",
   "metadata": {},
   "outputs": [
    {
     "name": "stdout",
     "output_type": "stream",
     "text": [
      "22\n"
     ]
    }
   ],
   "source": [
    "key = 'pqrstuvwxyzabcdefghijklmno'\n",
    "word ='leetcode'\n",
    "sum = {}\n",
    "total=0\n",
    "for i,j in enumerate(key):\n",
    "    sum[j]=i\n",
    "\n",
    "for i in range(len(word)-1):\n",
    "    t = abs(sum[word[i]] - sum[word[i-1]])\n",
    "    t +=t\n",
    "print(t)\n",
    "\n",
    "   \n",
    "        "
   ]
  },
  {
   "cell_type": "code",
   "execution_count": 4,
   "id": "3e8acda8",
   "metadata": {},
   "outputs": [
    {
     "data": {
      "text/plain": [
       "1"
      ]
     },
     "execution_count": 4,
     "metadata": {},
     "output_type": "execute_result"
    }
   ],
   "source": [
    "add - sub"
   ]
  },
  {
   "cell_type": "code",
   "execution_count": 14,
   "id": "da0dc428",
   "metadata": {},
   "outputs": [],
   "source": [
    "jewels = \"z\"\n",
    "stones = \"ZZ\""
   ]
  },
  {
   "cell_type": "code",
   "execution_count": 15,
   "id": "5714c0a1",
   "metadata": {},
   "outputs": [
    {
     "name": "stdout",
     "output_type": "stream",
     "text": [
      "0\n"
     ]
    }
   ],
   "source": [
    "num =0\n",
    "for c in jewels:\n",
    "     num +=stones.count(c)\n",
    "print(num)        "
   ]
  },
  {
   "cell_type": "code",
   "execution_count": null,
   "id": "ae5f2af6",
   "metadata": {},
   "outputs": [],
   "source": []
  },
  {
   "cell_type": "code",
   "execution_count": 54,
   "id": "c2e5e248",
   "metadata": {},
   "outputs": [],
   "source": []
  },
  {
   "cell_type": "code",
   "execution_count": 235,
   "id": "16b2c8cf",
   "metadata": {},
   "outputs": [],
   "source": [
    "class Solution(object):\n",
    "    def calculateTime(self, keyboard, word):\n",
    "        \"\"\"\n",
    "        :type keyboard: str\n",
    "        :type word: str\n",
    "        :rtype: int\n",
    "        \"\"\"\n",
    "        letter_dict={}\n",
    "        pre=0\n",
    "        cur=0\n",
    "        total=0\n",
    "        \n",
    "        for i ,j in enumerate(keyboard):\n",
    "            letter_dict[j]=i\n",
    "        for w in word:\n",
    "            cur= abs(letter_dict[w])\n",
    "            total+=abs(cur-pre)\n",
    "            pre=cur\n",
    "        return total"
   ]
  },
  {
   "cell_type": "code",
   "execution_count": 236,
   "id": "df019390",
   "metadata": {},
   "outputs": [],
   "source": [
    "s= Solution()"
   ]
  },
  {
   "cell_type": "code",
   "execution_count": 237,
   "id": "ea5e639a",
   "metadata": {},
   "outputs": [
    {
     "data": {
      "text/plain": [
       "4"
      ]
     },
     "execution_count": 237,
     "metadata": {},
     "output_type": "execute_result"
    }
   ],
   "source": [
    "keyboard = \"abcdefghijklmnopqrstuvwxyz\"\n",
    "word = \"cba\"\n",
    "s.calculateTime(keyboard,word)"
   ]
  },
  {
   "cell_type": "code",
   "execution_count": null,
   "id": "1211c827",
   "metadata": {},
   "outputs": [],
   "source": []
  },
  {
   "cell_type": "code",
   "execution_count": 232,
   "id": "b49c23f3",
   "metadata": {},
   "outputs": [
    {
     "ename": "NameError",
     "evalue": "name 'w' is not defined",
     "output_type": "error",
     "traceback": [
      "\u001b[1;31m---------------------------------------------------------------------------\u001b[0m",
      "\u001b[1;31mNameError\u001b[0m                                 Traceback (most recent call last)",
      "Cell \u001b[1;32mIn[232], line 1\u001b[0m\n\u001b[1;32m----> 1\u001b[0m \u001b[38;5;28mprint\u001b[39m(\u001b[43mw\u001b[49m)\n\u001b[0;32m      2\u001b[0m \u001b[38;5;28mprint\u001b[39m(word[w])\n\u001b[0;32m      3\u001b[0m \u001b[38;5;28mprint\u001b[39m(word[w\u001b[38;5;241m+\u001b[39m\u001b[38;5;241m1\u001b[39m])\n",
      "\u001b[1;31mNameError\u001b[0m: name 'w' is not defined"
     ]
    }
   ],
   "source": [
    "            print(w)\n",
    "            print(word[w])\n",
    "            print(word[w+1])\n",
    "            \n",
    "            print(letter_dict[word[w]])\n",
    "            print(letter_dict[word[w+1]])\n",
    "            total = abs(letter_dict[word[w]]-letter_dict[word[w+1]])"
   ]
  },
  {
   "cell_type": "code",
   "execution_count": 2,
   "id": "fa6535f4",
   "metadata": {},
   "outputs": [],
   "source": [
    "a=\"G()()()()(al)\""
   ]
  },
  {
   "cell_type": "code",
   "execution_count": 4,
   "id": "f3d97608",
   "metadata": {},
   "outputs": [],
   "source": [
    "b=a.replace(\"()\",'o')"
   ]
  },
  {
   "cell_type": "code",
   "execution_count": 5,
   "id": "e9014145",
   "metadata": {},
   "outputs": [
    {
     "data": {
      "text/plain": [
       "'Goooo(al)'"
      ]
     },
     "execution_count": 5,
     "metadata": {},
     "output_type": "execute_result"
    }
   ],
   "source": [
    "b"
   ]
  },
  {
   "cell_type": "code",
   "execution_count": 6,
   "id": "99667ef9",
   "metadata": {},
   "outputs": [
    {
     "data": {
      "text/plain": [
       "'Gooooal)'"
      ]
     },
     "execution_count": 6,
     "metadata": {},
     "output_type": "execute_result"
    }
   ],
   "source": [
    "b.replace('(','')"
   ]
  },
  {
   "cell_type": "code",
   "execution_count": 7,
   "id": "950aeac2",
   "metadata": {},
   "outputs": [],
   "source": [
    "sent = [\"alice and bob love leetcode\", \"i think so too\", \"this is great thanks very much\"]"
   ]
  },
  {
   "cell_type": "code",
   "execution_count": 20,
   "id": "b39f1d69",
   "metadata": {},
   "outputs": [],
   "source": [
    "import itertools"
   ]
  },
  {
   "cell_type": "code",
   "execution_count": 22,
   "id": "33ec3d35",
   "metadata": {},
   "outputs": [
    {
     "ename": "ValueError",
     "evalue": "Stop argument for islice() must be None or an integer: 0 <= x <= sys.maxsize.",
     "output_type": "error",
     "traceback": [
      "\u001b[1;31m---------------------------------------------------------------------------\u001b[0m",
      "\u001b[1;31mValueError\u001b[0m                                Traceback (most recent call last)",
      "Cell \u001b[1;32mIn[22], line 1\u001b[0m\n\u001b[1;32m----> 1\u001b[0m \u001b[43mitertools\u001b[49m\u001b[38;5;241;43m.\u001b[39;49m\u001b[43mislice\u001b[49m\u001b[43m(\u001b[49m\u001b[43msent\u001b[49m\u001b[43m,\u001b[49m\u001b[38;5;28;43;01mNone\u001b[39;49;00m\u001b[43m,\u001b[49m\u001b[38;5;124;43m'\u001b[39;49m\u001b[38;5;124;43m,\u001b[39;49m\u001b[38;5;124;43m'\u001b[39;49m\u001b[43m)\u001b[49m\n",
      "\u001b[1;31mValueError\u001b[0m: Stop argument for islice() must be None or an integer: 0 <= x <= sys.maxsize."
     ]
    }
   ],
   "source": [
    "itertools.islice(sent,None,',')"
   ]
  },
  {
   "cell_type": "code",
   "execution_count": 28,
   "id": "f58c2058",
   "metadata": {},
   "outputs": [
    {
     "ename": "ValueError",
     "evalue": "Step for islice() must be a positive integer or None.",
     "output_type": "error",
     "traceback": [
      "\u001b[1;31m---------------------------------------------------------------------------\u001b[0m",
      "\u001b[1;31mValueError\u001b[0m                                Traceback (most recent call last)",
      "Cell \u001b[1;32mIn[28], line 1\u001b[0m\n\u001b[1;32m----> 1\u001b[0m \u001b[38;5;28mlist\u001b[39m(\u001b[43mitertools\u001b[49m\u001b[38;5;241;43m.\u001b[39;49m\u001b[43mislice\u001b[49m\u001b[43m(\u001b[49m\u001b[43msent\u001b[49m\u001b[43m,\u001b[49m\u001b[38;5;241;43m0\u001b[39;49m\u001b[43m,\u001b[49m\u001b[38;5;28;43mlen\u001b[39;49m\u001b[43m(\u001b[49m\u001b[43msent\u001b[49m\u001b[43m)\u001b[49m\u001b[43m,\u001b[49m\u001b[38;5;124;43m'\u001b[39;49m\u001b[38;5;124;43m,\u001b[39;49m\u001b[38;5;124;43m'\u001b[39;49m\u001b[43m)\u001b[49m)\n",
      "\u001b[1;31mValueError\u001b[0m: Step for islice() must be a positive integer or None."
     ]
    }
   ],
   "source": [
    "list(itertools.islice(sent,0,len(sent),','))"
   ]
  },
  {
   "cell_type": "code",
   "execution_count": 34,
   "id": "167b334c",
   "metadata": {},
   "outputs": [
    {
     "name": "stdout",
     "output_type": "stream",
     "text": [
      "alice and bob love leetcode\n",
      "i think so too\n",
      "this is great thanks very much\n",
      "[['alice', 'and', 'bob', 'love', 'leetcode'], ['i', 'think', 'so', 'too'], ['this', 'is', 'great', 'thanks', 'very', 'much']]\n"
     ]
    }
   ],
   "source": [
    "ans=[]\n",
    "for i in sent:\n",
    "    print(i)\n",
    "    ans.append(i.split())\n",
    "print (ans)  "
   ]
  },
  {
   "cell_type": "code",
   "execution_count": 33,
   "id": "18eeb6d0",
   "metadata": {},
   "outputs": [
    {
     "ename": "AttributeError",
     "evalue": "'list' object has no attribute 'split'",
     "output_type": "error",
     "traceback": [
      "\u001b[1;31m---------------------------------------------------------------------------\u001b[0m",
      "\u001b[1;31mAttributeError\u001b[0m                            Traceback (most recent call last)",
      "Cell \u001b[1;32mIn[33], line 1\u001b[0m\n\u001b[1;32m----> 1\u001b[0m \u001b[43msent\u001b[49m\u001b[38;5;241;43m.\u001b[39;49m\u001b[43msplit\u001b[49m()\n",
      "\u001b[1;31mAttributeError\u001b[0m: 'list' object has no attribute 'split'"
     ]
    }
   ],
   "source": []
  },
  {
   "cell_type": "code",
   "execution_count": 36,
   "id": "28558d01",
   "metadata": {},
   "outputs": [
    {
     "data": {
      "text/plain": [
       "5"
      ]
     },
     "execution_count": 36,
     "metadata": {},
     "output_type": "execute_result"
    }
   ],
   "source": [
    "s = \"RLRRLLRLRL\"\n",
    "s.count('R')\n",
    "s.count(\"L\")"
   ]
  },
  {
   "cell_type": "code",
   "execution_count": 43,
   "id": "a3724dd0",
   "metadata": {},
   "outputs": [],
   "source": [
    "class Solution(object):\n",
    "    def balancedStringSplit(self, s):\n",
    "        \"\"\"\n",
    "        :type s: str\n",
    "        :rtype: int\n",
    "        \"\"\"\n",
    "        count=0\n",
    "        balance=0\n",
    "\n",
    "        for char in s:\n",
    "            if char==\"L\":\n",
    "                balance +=1\n",
    "            else:\n",
    "                balance -=1\n",
    "\n",
    "            if balance==0:\n",
    "                count +=1\n",
    "        return count   "
   ]
  },
  {
   "cell_type": "code",
   "execution_count": 53,
   "id": "b6492ed4",
   "metadata": {},
   "outputs": [
    {
     "data": {
      "text/plain": [
       "3"
      ]
     },
     "execution_count": 53,
     "metadata": {},
     "output_type": "execute_result"
    }
   ],
   "source": [
    "s = Solution\n",
    "s.balancedStringSplit(s,\"LRRLRRLL\")"
   ]
  },
  {
   "cell_type": "code",
   "execution_count": 58,
   "id": "ea74dc02",
   "metadata": {},
   "outputs": [
    {
     "name": "stdout",
     "output_type": "stream",
     "text": [
      "['', '', '', '', '', '', '', '']\n",
      "['', '', '', '', 'c', '', '', '']\n",
      "['', '', '', '', 'c', 'o', '', '']\n",
      "['', '', '', '', 'c', 'o', 'd', '']\n",
      "['', '', '', '', 'c', 'o', 'd', 'e']\n",
      "['l', '', '', '', 'c', 'o', 'd', 'e']\n",
      "['l', '', 'e', '', 'c', 'o', 'd', 'e']\n",
      "['l', 'e', 'e', '', 'c', 'o', 'd', 'e']\n",
      "['l', 'e', 'e', 't', 'c', 'o', 'd', 'e']\n",
      "leetcode\n"
     ]
    }
   ],
   "source": [
    "s = \"codeleet\"\n",
    "indices = [4,5,6,7,0,2,1,3]\n",
    "res=['']*len(s)\n",
    "print(res)\n",
    "for letter,index in zip(s,indices):\n",
    "    res[index]=letter\n",
    "    print(res)\n",
    "print(\"\".join(res)) "
   ]
  },
  {
   "cell_type": "code",
   "execution_count": 29,
   "id": "7a747fca",
   "metadata": {},
   "outputs": [
    {
     "name": "stdout",
     "output_type": "stream",
     "text": [
      "{}\n"
     ]
    }
   ],
   "source": [
    "item_dict={}\n",
    "print(item_dict)\n"
   ]
  },
  {
   "cell_type": "code",
   "execution_count": 30,
   "id": "bfd36625",
   "metadata": {},
   "outputs": [
    {
     "name": "stdout",
     "output_type": "stream",
     "text": [
      "{'type': ['phone', 'computer', 'phone'], 'color': ['blue', 'silver', 'gold'], 'name': ['pixel', 'lenovo', 'iphone']}\n"
     ]
    }
   ],
   "source": [
    "item=[[\"phone\",\"blue\",\"pixel\"],[\"computer\",\"silver\",\"lenovo\"],[\"phone\",\"gold\",\"iphone\"]]\n",
    "d={}\n",
    "for i in item:\n",
    "    item_dict.setdefault('type',[]).append(i[0])\n",
    "    item_dict.setdefault('color',[]).append(i[1])\n",
    "    item_dict.setdefault('name',[]).append(i[2])\n",
    "\n",
    "       \n",
    "\n",
    "print(item_dict)"
   ]
  },
  {
   "cell_type": "code",
   "execution_count": 3,
   "id": "dac3ae92",
   "metadata": {},
   "outputs": [],
   "source": [
    "s = \"Hello how are you Contestant\""
   ]
  },
  {
   "cell_type": "code",
   "execution_count": 12,
   "id": "c6a3639c",
   "metadata": {},
   "outputs": [],
   "source": [
    "l=s.split()"
   ]
  },
  {
   "cell_type": "code",
   "execution_count": 27,
   "id": "2ac152bf",
   "metadata": {},
   "outputs": [],
   "source": [
    "l=l[0:4]"
   ]
  },
  {
   "cell_type": "code",
   "execution_count": 28,
   "id": "16f5c359",
   "metadata": {},
   "outputs": [],
   "source": [
    "str1=''\n",
    "str2=\" \".join(i for i in l)"
   ]
  },
  {
   "cell_type": "code",
   "execution_count": 29,
   "id": "3134016f",
   "metadata": {},
   "outputs": [
    {
     "name": "stdout",
     "output_type": "stream",
     "text": [
      "Hello how are you\n"
     ]
    }
   ],
   "source": [
    "print(str2)"
   ]
  },
  {
   "cell_type": "code",
   "execution_count": 37,
   "id": "796089d1",
   "metadata": {},
   "outputs": [
    {
     "name": "stdout",
     "output_type": "stream",
     "text": [
      "Hello how are you\n"
     ]
    }
   ],
   "source": [
    "s= \"Hello how are you Contestant\"\n",
    "ori_str=s.split()\n",
    "trun_str=ori_str[0:4]\n",
    "trun_str= \" \".join(s for s in trun_str)\n",
    "print(trun_str)\n"
   ]
  },
  {
   "cell_type": "code",
   "execution_count": 15,
   "id": "4722f3b6",
   "metadata": {},
   "outputs": [
    {
     "name": "stdout",
     "output_type": "stream",
     "text": [
      "Found a match!\n",
      "Found a match!\n"
     ]
    }
   ],
   "source": [
    "import re\n",
    "def text_match(text):\n",
    "        patterns = 'ab*'\n",
    "        if re.search(patterns,  text):\n",
    "                return 'Found a match!'\n",
    "        else:\n",
    "                return('Not matched!')\n",
    "\n",
    "print(text_match(\"abbbb\"))\n",
    "print(text_match(\"ac\"))"
   ]
  },
  {
   "cell_type": "code",
   "execution_count": 20,
   "id": "7fd9bb96",
   "metadata": {},
   "outputs": [
    {
     "name": "stdout",
     "output_type": "stream",
     "text": [
      "Not matched!\n",
      "Found a match!\n",
      "Found a match!\n",
      "Not matched!\n"
     ]
    }
   ],
   "source": [
    "import re\n",
    "def text_match(text):\n",
    "        patterns = 'ab+?'\n",
    "        if re.search(patterns,  text):\n",
    "                return 'Found a match!'\n",
    "        else:\n",
    "                return('Not matched!')\n",
    "\n",
    "print(text_match(\"a\"))\n",
    "print(text_match(\"abc\"))\n",
    "print(text_match(\"abbc\"))\n",
    "print(text_match(\"aacbbc\"))"
   ]
  },
  {
   "cell_type": "code",
   "execution_count": 24,
   "id": "489c69df",
   "metadata": {},
   "outputs": [
    {
     "name": "stdout",
     "output_type": "stream",
     "text": [
      "Found a match!\n",
      "Found a match!\n"
     ]
    }
   ],
   "source": [
    "import re\n",
    "def text_match(text):\n",
    "        patterns = 'ab{3}'\n",
    "        if re.search(patterns,  text):\n",
    "                return 'Found a match!'\n",
    "        else:\n",
    "                return('Not matched!')\n",
    "\n",
    "print(text_match(\"abbb\"))\n",
    "print(text_match(\"aabbbbbc\"))\n"
   ]
  },
  {
   "cell_type": "code",
   "execution_count": null,
   "id": "a8106464",
   "metadata": {},
   "outputs": [],
   "source": [
    "import re\n",
    "def text_match(text):\n",
    "        patterns = '^[a-z]+_[a-z]+$'\n",
    "        if re.search(patterns,  text):\n",
    "                return 'Found a match!'\n",
    "        else:\n",
    "                return('Not matched!')\n",
    "\n",
    "print(text_match(\"aab_cbbbc\"))\n",
    "print(text_match(\"aab_Abbbc\"))\n",
    "print(text_match(\"Aaab_abbbc\"))\n"
   ]
  },
  {
   "cell_type": "code",
   "execution_count": 26,
   "id": "3d2b7a1d",
   "metadata": {},
   "outputs": [
    {
     "name": "stdout",
     "output_type": "stream",
     "text": [
      "Found a match!\n",
      "Found a match!\n",
      "Not matched!\n",
      "Not matched!\n",
      "Not matched!\n",
      "Found a match!\n"
     ]
    }
   ],
   "source": [
    "import re\n",
    "def text_match(text):\n",
    "        patterns = '[A-Z]+[a-z]+$'\n",
    "        if re.search(patterns, text):\n",
    "                return 'Found a match!'\n",
    "        else:\n",
    "                return('Not matched!')\n",
    "print(text_match(\"ABBbGg\"))\n",
    "print(text_match(\"Python\"))\n",
    "print(text_match(\"python\"))\n",
    "print(text_match(\"PYTHON\"))\n",
    "print(text_match(\"aA\"))\n",
    "print(text_match(\"Aa\"))\n"
   ]
  },
  {
   "cell_type": "code",
   "execution_count": 27,
   "id": "281bec38",
   "metadata": {},
   "outputs": [
    {
     "name": "stdout",
     "output_type": "stream",
     "text": [
      "example\n",
      "w3resource\n",
      "github\n",
      "stackoverflow\n"
     ]
    }
   ],
   "source": [
    "import re\n",
    "items = [\"example (.com)\", \"w3resource\", \"github (.com)\", \"stackoverflow (.com)\"]\n",
    "for item in items:\n",
    "    print(re.sub(r\" ?\\([^)]+\\)\", \"\", item))\n",
    "\t"
   ]
  },
  {
   "cell_type": "code",
   "execution_count": 51,
   "id": "7fa61f59",
   "metadata": {},
   "outputs": [
    {
     "name": "stdout",
     "output_type": "stream",
     "text": [
      "example\n"
     ]
    }
   ],
   "source": [
    "a= re.sub(r\" ?\\([^)]+\\)\",\"\",'example (.com)')\n",
    "print(a)"
   ]
  },
  {
   "cell_type": "code",
   "execution_count": 57,
   "id": "b60eba66",
   "metadata": {},
   "outputs": [
    {
     "name": "stdout",
     "output_type": "stream",
     "text": [
      " quick brown jumps over lazy.\n"
     ]
    }
   ],
   "source": [
    "import re\n",
    "text = \"The quick brown fox jumps over the lazy dog.\"\n",
    "# remove words between 1 and 3\n",
    "shortword = re.compile(r'\\W*\\b\\w{1,3}\\b')\n",
    "print(shortword.sub('', text))"
   ]
  },
  {
   "cell_type": "code",
   "execution_count": null,
   "id": "e07d325a",
   "metadata": {},
   "outputs": [],
   "source": []
  }
 ],
 "metadata": {
  "kernelspec": {
   "display_name": "Python 3 (ipykernel)",
   "language": "python",
   "name": "python3"
  },
  "language_info": {
   "codemirror_mode": {
    "name": "ipython",
    "version": 3
   },
   "file_extension": ".py",
   "mimetype": "text/x-python",
   "name": "python",
   "nbconvert_exporter": "python",
   "pygments_lexer": "ipython3",
   "version": "3.10.11"
  }
 },
 "nbformat": 4,
 "nbformat_minor": 5
}
